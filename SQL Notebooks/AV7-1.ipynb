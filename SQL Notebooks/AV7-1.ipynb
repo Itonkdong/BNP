{
    "metadata": {
        "kernelspec": {
            "name": "SQL",
            "display_name": "SQL",
            "language": "sql"
        },
        "language_info": {
            "name": "sql",
            "version": ""
        }
    },
    "nbformat_minor": 2,
    "nbformat": 4,
    "cells": [
        {
            "cell_type": "markdown",
            "source": [
                "# Auditoriska vezhba 7"
            ],
            "metadata": {
                "azdata_cell_guid": "8f88b94f-e282-4d87-b54e-196efc1d893e"
            },
            "attachments": {}
        },
        {
            "cell_type": "markdown",
            "source": [
                "## Zadacha 1."
            ],
            "metadata": {
                "azdata_cell_guid": "89387bf8-8c48-4a84-a500-f56679389f72"
            },
            "attachments": {}
        },
        {
            "cell_type": "code",
            "source": [
                "use db_dml_first_problem"
            ],
            "metadata": {
                "azdata_cell_guid": "f0760ea5-5f42-495c-af1d-fddb3a9b808b",
                "language": "sql"
            },
            "outputs": [
                {
                    "output_type": "display_data",
                    "data": {
                        "text/html": "Commands completed successfully."
                    },
                    "metadata": {}
                },
                {
                    "output_type": "display_data",
                    "data": {
                        "text/html": "Total execution time: 00:00:00"
                    },
                    "metadata": {}
                }
            ],
            "execution_count": 1
        },
        {
            "cell_type": "code",
            "source": [
                "USE db_dml_first_problem;\r\n",
                "GO\r\n",
                "\r\n",
                "select *\r\n",
                "from Manufacturer m\r\n",
                "where m.City = 'Skopje' or m.City = 'Bitola'"
            ],
            "metadata": {
                "azdata_cell_guid": "d031ff99-256c-4aa8-9c82-4470f373caa0",
                "language": "sql"
            },
            "outputs": [
                {
                    "output_type": "display_data",
                    "data": {
                        "text/html": "Commands completed successfully."
                    },
                    "metadata": {}
                },
                {
                    "output_type": "display_data",
                    "data": {
                        "text/html": "(2 rows affected)"
                    },
                    "metadata": {}
                },
                {
                    "output_type": "display_data",
                    "data": {
                        "text/html": "Total execution time: 00:00:00.003"
                    },
                    "metadata": {}
                },
                {
                    "output_type": "execute_result",
                    "metadata": {},
                    "execution_count": 9,
                    "data": {
                        "application/vnd.dataresource+json": {
                            "schema": {
                                "fields": [
                                    {
                                        "name": "Id"
                                    },
                                    {
                                        "name": "Name"
                                    },
                                    {
                                        "name": "City"
                                    }
                                ]
                            },
                            "data": [
                                {
                                    "Id": "1",
                                    "Name": "Manufacturer A",
                                    "City": "Skopje"
                                },
                                {
                                    "Id": "2",
                                    "Name": "Manufacturer B",
                                    "City": "Bitola"
                                }
                            ]
                        },
                        "text/html": [
                            "<table>",
                            "<tr><th>Id</th><th>Name</th><th>City</th></tr>",
                            "<tr><td>1</td><td>Manufacturer A</td><td>Skopje</td></tr>",
                            "<tr><td>2</td><td>Manufacturer B</td><td>Bitola</td></tr>",
                            "</table>"
                        ]
                    }
                }
            ],
            "execution_count": 9
        },
        {
            "cell_type": "code",
            "source": [
                "select o.DelivererId\r\n",
                "from Offers o\r\n",
                "where o.PartId = 5 and o.ManufacturerId = 4"
            ],
            "metadata": {
                "azdata_cell_guid": "f59caf11-9364-4e93-8274-1c60214c4341",
                "language": "sql"
            },
            "outputs": [
                {
                    "output_type": "display_data",
                    "data": {
                        "text/html": "(2 rows affected)"
                    },
                    "metadata": {}
                },
                {
                    "output_type": "display_data",
                    "data": {
                        "text/html": "Total execution time: 00:00:00.003"
                    },
                    "metadata": {}
                },
                {
                    "output_type": "execute_result",
                    "metadata": {},
                    "execution_count": 14,
                    "data": {
                        "application/vnd.dataresource+json": {
                            "schema": {
                                "fields": [
                                    {
                                        "name": "DelivererId"
                                    }
                                ]
                            },
                            "data": [
                                {
                                    "DelivererId": "8"
                                },
                                {
                                    "DelivererId": "9"
                                }
                            ]
                        },
                        "text/html": [
                            "<table>",
                            "<tr><th>DelivererId</th></tr>",
                            "<tr><td>8</td></tr>",
                            "<tr><td>9</td></tr>",
                            "</table>"
                        ]
                    }
                }
            ],
            "execution_count": 14
        },
        {
            "cell_type": "code",
            "source": [
                "select distinct p.Color\r\n",
                "from Offers o \r\n",
                "    join Part p on o.PartId = p.Id\r\n",
                "where o.DelivererId = 8"
            ],
            "metadata": {
                "azdata_cell_guid": "443e314a-9e30-4621-901f-4fc6a05ba989",
                "language": "sql"
            },
            "outputs": [
                {
                    "output_type": "display_data",
                    "data": {
                        "text/html": "(3 rows affected)"
                    },
                    "metadata": {}
                },
                {
                    "output_type": "display_data",
                    "data": {
                        "text/html": "Total execution time: 00:00:00.012"
                    },
                    "metadata": {}
                },
                {
                    "output_type": "execute_result",
                    "metadata": {},
                    "execution_count": 19,
                    "data": {
                        "application/vnd.dataresource+json": {
                            "schema": {
                                "fields": [
                                    {
                                        "name": "Color"
                                    }
                                ]
                            },
                            "data": [
                                {
                                    "Color": "Black"
                                },
                                {
                                    "Color": "Green"
                                },
                                {
                                    "Color": "Yellow"
                                }
                            ]
                        },
                        "text/html": [
                            "<table>",
                            "<tr><th>Color</th></tr>",
                            "<tr><td>Black</td></tr>",
                            "<tr><td>Green</td></tr>",
                            "<tr><td>Yellow</td></tr>",
                            "</table>"
                        ]
                    }
                }
            ],
            "execution_count": 19
        },
        {
            "cell_type": "code",
            "source": [
                "select o.PartId\r\n",
                "from Offers o \r\n",
                "    JOIN Manufacturer m on o.ManufacturerId = m.Id\r\n",
                "where m.City = 'Bitola'"
            ],
            "metadata": {
                "azdata_cell_guid": "79e398c7-f3ac-4cd0-aeb0-e78803feef80",
                "language": "sql"
            },
            "outputs": [
                {
                    "output_type": "display_data",
                    "data": {
                        "text/html": "(2 rows affected)"
                    },
                    "metadata": {}
                },
                {
                    "output_type": "display_data",
                    "data": {
                        "text/html": "Total execution time: 00:00:00.006"
                    },
                    "metadata": {}
                },
                {
                    "output_type": "execute_result",
                    "metadata": {},
                    "execution_count": 22,
                    "data": {
                        "application/vnd.dataresource+json": {
                            "schema": {
                                "fields": [
                                    {
                                        "name": "PartId"
                                    }
                                ]
                            },
                            "data": [
                                {
                                    "PartId": "1"
                                },
                                {
                                    "PartId": "3"
                                }
                            ]
                        },
                        "text/html": [
                            "<table>",
                            "<tr><th>PartId</th></tr>",
                            "<tr><td>1</td></tr>",
                            "<tr><td>3</td></tr>",
                            "</table>"
                        ]
                    }
                }
            ],
            "execution_count": 22
        },
        {
            "cell_type": "code",
            "source": [
                "select distinct o.PartId\r\n",
                "from Offers o \r\n",
                "    join Manufacturer m on o.ManufacturerId = m.Id \r\n",
                "    join Deliverer d on o.DelivererId = d.Id\r\n",
                "where m.City = d.City"
            ],
            "metadata": {
                "azdata_cell_guid": "53166315-c344-4886-9b74-d82f81f3fc02",
                "language": "sql"
            },
            "outputs": [
                {
                    "output_type": "display_data",
                    "data": {
                        "text/html": "(1 row affected)"
                    },
                    "metadata": {}
                },
                {
                    "output_type": "display_data",
                    "data": {
                        "text/html": "Total execution time: 00:00:00.007"
                    },
                    "metadata": {}
                },
                {
                    "output_type": "execute_result",
                    "metadata": {},
                    "execution_count": 27,
                    "data": {
                        "application/vnd.dataresource+json": {
                            "schema": {
                                "fields": [
                                    {
                                        "name": "PartId"
                                    }
                                ]
                            },
                            "data": [
                                {
                                    "PartId": "1"
                                }
                            ]
                        },
                        "text/html": [
                            "<table>",
                            "<tr><th>PartId</th></tr>",
                            "<tr><td>1</td></tr>",
                            "</table>"
                        ]
                    }
                }
            ],
            "execution_count": 27
        }
    ]
}