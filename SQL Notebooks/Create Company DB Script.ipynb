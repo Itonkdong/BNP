{
    "metadata": {
        "kernelspec": {
            "name": "SQL",
            "display_name": "SQL",
            "language": "sql"
        },
        "language_info": {
            "name": "sql",
            "version": ""
        }
    },
    "nbformat_minor": 2,
    "nbformat": 4,
    "cells": [
        {
            "cell_type": "code",
            "source": [
                "use company_db"
            ],
            "metadata": {
                "azdata_cell_guid": "a52beadf-9895-45e7-82a3-760d9ca303e7",
                "language": "sql"
            },
            "outputs": [
                {
                    "output_type": "display_data",
                    "data": {
                        "text/html": "Commands completed successfully."
                    },
                    "metadata": {}
                },
                {
                    "output_type": "display_data",
                    "data": {
                        "text/html": "Total execution time: 00:00:00.006"
                    },
                    "metadata": {}
                }
            ],
            "execution_count": 1
        },
        {
            "cell_type": "code",
            "source": [
                "-- Drop tables if they already exist\r\n",
                "DROP TABLE IF EXISTS DEPENDENT;\r\n",
                "DROP TABLE IF EXISTS WORKS_ON;\r\n",
                "DROP TABLE IF EXISTS PROJECT;\r\n",
                "DROP TABLE IF EXISTS DEPT_LOCATIONS;\r\n",
                "DROP TABLE IF EXISTS DEPARTMENT;\r\n",
                "DROP TABLE IF EXISTS EMPLOYEE;\r\n",
                "\r\n",
                "-- Create EMPLOYEE table\r\n",
                "CREATE TABLE EMPLOYEE (\r\n",
                "    Fname VARCHAR(20),\r\n",
                "    Minit CHAR(1),\r\n",
                "    Lname VARCHAR(20),\r\n",
                "    Ssn CHAR(9) PRIMARY KEY,\r\n",
                "    Bdate DATE,\r\n",
                "    Address VARCHAR(50),\r\n",
                "    Sex CHAR(1),\r\n",
                "    Salary DECIMAL(10,2),\r\n",
                "    Super_ssn CHAR(9),\r\n",
                "    Dno INT\r\n",
                ");\r\n",
                "\r\n",
                "-- Create DEPARTMENT table\r\n",
                "CREATE TABLE DEPARTMENT (\r\n",
                "    Dname VARCHAR(20),\r\n",
                "    Dnumber INT PRIMARY KEY,\r\n",
                "    Mgr_ssn CHAR(9),\r\n",
                "    Mgr_start_date DATE\r\n",
                ");\r\n",
                "\r\n",
                "-- Create DEPT_LOCATIONS table\r\n",
                "CREATE TABLE DEPT_LOCATIONS (\r\n",
                "    Dnumber INT,\r\n",
                "    Dlocation VARCHAR(20),\r\n",
                "    PRIMARY KEY (Dnumber, Dlocation),\r\n",
                "    FOREIGN KEY (Dnumber) REFERENCES DEPARTMENT(Dnumber)\r\n",
                ");\r\n",
                "\r\n",
                "-- Create PROJECT table\r\n",
                "CREATE TABLE PROJECT (\r\n",
                "    Pname VARCHAR(20),\r\n",
                "    Pnumber INT PRIMARY KEY,\r\n",
                "    Plocation VARCHAR(20),\r\n",
                "    Dnum INT,\r\n",
                "    FOREIGN KEY (Dnum) REFERENCES DEPARTMENT(Dnumber)\r\n",
                ");\r\n",
                "\r\n",
                "-- Create WORKS_ON table\r\n",
                "CREATE TABLE WORKS_ON (\r\n",
                "    Essn CHAR(9),\r\n",
                "    Pno INT,\r\n",
                "    Hours DECIMAL(5,2),\r\n",
                "    PRIMARY KEY (Essn, Pno),\r\n",
                "    FOREIGN KEY (Essn) REFERENCES EMPLOYEE(Ssn),\r\n",
                "    FOREIGN KEY (Pno) REFERENCES PROJECT(Pnumber)\r\n",
                ");\r\n",
                "\r\n",
                "-- Create DEPENDENT table\r\n",
                "CREATE TABLE DEPENDENT (\r\n",
                "    Essn CHAR(9),\r\n",
                "    Dependent_name VARCHAR(20),\r\n",
                "    Sex CHAR(1),\r\n",
                "    Bdate DATE,\r\n",
                "    Relationship VARCHAR(20),\r\n",
                "    PRIMARY KEY (Essn, Dependent_name),\r\n",
                "    FOREIGN KEY (Essn) REFERENCES EMPLOYEE(Ssn)\r\n",
                ");\r\n",
                "\r\n",
                "-- Insert data into EMPLOYEE table\r\n",
                "INSERT INTO EMPLOYEE VALUES \r\n",
                "('John', 'B', 'Smith', '123456789', '1965-01-09', '731 Fondren, Houston, TX', 'M', 30000, '333445555', 5),\r\n",
                "('Franklin', 'T', 'Wong', '333445555', '1955-12-08', '638 Voss, Houston, TX', 'M', 40000, '888665555', 5),\r\n",
                "('Alicia', 'J', 'Zelaya', '999887777', '1968-01-19', '3321 Castle, Spring, TX', 'F', 25000, '987654321', 4),\r\n",
                "('Jennifer', 'S', 'Wallace', '987654321', '1941-06-20', '291 Berry, Bellaire, TX', 'F', 43000, '888665555', 4),\r\n",
                "('Ramesh', 'K', 'Narayan', '666884444', '1962-09-15', '975 Fire Oak, Humble, TX', 'M', 38000, '333445555', 5),\r\n",
                "('Joyce', 'A', 'English', '453453453', '1972-07-31', '5631 Rice, Houston, TX', 'F', 25000, '333445555', 5),\r\n",
                "('Ahmad', 'V', 'Jabbar', '987987987', '1969-03-29', '980 Dallas, Houston, TX', 'M', 25000, '987654321', 4),\r\n",
                "('James', 'E', 'Borg', '888665555', '1937-11-10', '450 Stone, Houston, TX', 'M', 55000, NULL, 1);\r\n",
                "\r\n",
                "-- Insert data into DEPARTMENT table\r\n",
                "INSERT INTO DEPARTMENT VALUES \r\n",
                "('Research', 5, '333445555', '1988-05-22'),\r\n",
                "('Administration', 4, '987654321', '1995-01-01'),\r\n",
                "('Headquarters', 1, '888665555', '1981-06-19');\r\n",
                "\r\n",
                "-- Insert data into DEPT_LOCATIONS table\r\n",
                "INSERT INTO DEPT_LOCATIONS VALUES \r\n",
                "(1, 'Houston'),\r\n",
                "(4, 'Stafford'),\r\n",
                "(5, 'Bellaire'),\r\n",
                "(5, 'Sugarland'),\r\n",
                "(5, 'Houston');\r\n",
                "\r\n",
                "-- Insert data into PROJECT table\r\n",
                "INSERT INTO PROJECT VALUES \r\n",
                "('ProductX', 1, 'Bellaire', 5),\r\n",
                "('ProductY', 2, 'Sugarland', 5),\r\n",
                "('ProductZ', 3, 'Houston', 5),\r\n",
                "('Computerization', 10, 'Stafford', 4),\r\n",
                "('Reorganization', 20, 'Houston', 1),\r\n",
                "('Newbenefits', 30, 'Stafford', 4);\r\n",
                "\r\n",
                "-- Insert data into WORKS_ON table\r\n",
                "INSERT INTO WORKS_ON VALUES \r\n",
                "('123456789', 1, 32.5),\r\n",
                "('123456789', 2, 7.5),\r\n",
                "('666884444', 3, 40.0),\r\n",
                "('453453453', 1, 20.0),\r\n",
                "('453453453', 2, 20.0),\r\n",
                "('333445555', 2, 10.0),\r\n",
                "('333445555', 3, 10.0),\r\n",
                "('333445555', 10, 10.0),\r\n",
                "('999887777', 30, 30.0),\r\n",
                "('999887777', 10, 10.0),\r\n",
                "('987987987', 10, 35.0),\r\n",
                "('987987987', 30, 5.0),\r\n",
                "('987654321', 20, 15.0),\r\n",
                "('888665555', 20, NULL);\r\n",
                "\r\n",
                "-- Insert data into DEPENDENT table\r\n",
                "INSERT INTO DEPENDENT VALUES \r\n",
                "('333445555', 'Alice', 'F', '1986-04-05', 'Daughter'),\r\n",
                "('333445555', 'Theodore', 'M', '1983-10-25', 'Son'),\r\n",
                "('333445555', 'Joy', 'F', '1958-05-03', 'Spouse'),\r\n",
                "('987654321', 'Abner', 'M', '1942-02-28', 'Spouse'),\r\n",
                "('123456789', 'Michael', 'M', '1988-01-04', 'Son'),\r\n",
                "('123456789', 'Alice', 'F', '1988-12-30', 'Daughter'),\r\n",
                "('123456789', 'Elizabeth', 'F', '1967-05-05', 'Spouse');\r\n",
                "\r\n",
                "-- Verify data\r\n",
                "SELECT * FROM EMPLOYEE;\r\n",
                "SELECT * FROM DEPARTMENT;\r\n",
                "SELECT * FROM DEPT_LOCATIONS;\r\n",
                "SELECT * FROM PROJECT;\r\n",
                "SELECT * FROM WORKS_ON;\r\n",
                "SELECT * FROM DEPENDENT;\r\n",
                ""
            ],
            "metadata": {
                "language": "sql",
                "azdata_cell_guid": "ea272e26-efa5-4e4e-a5d0-c3a3e70bffd3"
            },
            "outputs": [
                {
                    "output_type": "display_data",
                    "data": {
                        "text/html": "(8 rows affected)"
                    },
                    "metadata": {}
                },
                {
                    "output_type": "display_data",
                    "data": {
                        "text/html": "(3 rows affected)"
                    },
                    "metadata": {}
                },
                {
                    "output_type": "display_data",
                    "data": {
                        "text/html": "(5 rows affected)"
                    },
                    "metadata": {}
                },
                {
                    "output_type": "display_data",
                    "data": {
                        "text/html": "(6 rows affected)"
                    },
                    "metadata": {}
                },
                {
                    "output_type": "display_data",
                    "data": {
                        "text/html": "(14 rows affected)"
                    },
                    "metadata": {}
                },
                {
                    "output_type": "display_data",
                    "data": {
                        "text/html": "(7 rows affected)"
                    },
                    "metadata": {}
                },
                {
                    "output_type": "display_data",
                    "data": {
                        "text/html": "(8 rows affected)"
                    },
                    "metadata": {}
                },
                {
                    "output_type": "display_data",
                    "data": {
                        "text/html": "(3 rows affected)"
                    },
                    "metadata": {}
                },
                {
                    "output_type": "display_data",
                    "data": {
                        "text/html": "(5 rows affected)"
                    },
                    "metadata": {}
                },
                {
                    "output_type": "display_data",
                    "data": {
                        "text/html": "(6 rows affected)"
                    },
                    "metadata": {}
                },
                {
                    "output_type": "display_data",
                    "data": {
                        "text/html": "(14 rows affected)"
                    },
                    "metadata": {}
                },
                {
                    "output_type": "display_data",
                    "data": {
                        "text/html": "(7 rows affected)"
                    },
                    "metadata": {}
                },
                {
                    "output_type": "display_data",
                    "data": {
                        "text/html": "Total execution time: 00:00:00.111"
                    },
                    "metadata": {}
                },
                {
                    "output_type": "execute_result",
                    "metadata": {},
                    "execution_count": 2,
                    "data": {
                        "application/vnd.dataresource+json": {
                            "schema": {
                                "fields": [
                                    {
                                        "name": "Fname"
                                    },
                                    {
                                        "name": "Minit"
                                    },
                                    {
                                        "name": "Lname"
                                    },
                                    {
                                        "name": "Ssn"
                                    },
                                    {
                                        "name": "Bdate"
                                    },
                                    {
                                        "name": "Address"
                                    },
                                    {
                                        "name": "Sex"
                                    },
                                    {
                                        "name": "Salary"
                                    },
                                    {
                                        "name": "Super_ssn"
                                    },
                                    {
                                        "name": "Dno"
                                    }
                                ]
                            },
                            "data": [
                                {
                                    "Fname": "John",
                                    "Minit": "B",
                                    "Lname": "Smith",
                                    "Ssn": "123456789",
                                    "Bdate": "1965-01-09",
                                    "Address": "731 Fondren, Houston, TX",
                                    "Sex": "M",
                                    "Salary": "30000.00",
                                    "Super_ssn": "333445555",
                                    "Dno": "5"
                                },
                                {
                                    "Fname": "Franklin",
                                    "Minit": "T",
                                    "Lname": "Wong",
                                    "Ssn": "333445555",
                                    "Bdate": "1955-12-08",
                                    "Address": "638 Voss, Houston, TX",
                                    "Sex": "M",
                                    "Salary": "40000.00",
                                    "Super_ssn": "888665555",
                                    "Dno": "5"
                                },
                                {
                                    "Fname": "Joyce",
                                    "Minit": "A",
                                    "Lname": "English",
                                    "Ssn": "453453453",
                                    "Bdate": "1972-07-31",
                                    "Address": "5631 Rice, Houston, TX",
                                    "Sex": "F",
                                    "Salary": "25000.00",
                                    "Super_ssn": "333445555",
                                    "Dno": "5"
                                },
                                {
                                    "Fname": "Ramesh",
                                    "Minit": "K",
                                    "Lname": "Narayan",
                                    "Ssn": "666884444",
                                    "Bdate": "1962-09-15",
                                    "Address": "975 Fire Oak, Humble, TX",
                                    "Sex": "M",
                                    "Salary": "38000.00",
                                    "Super_ssn": "333445555",
                                    "Dno": "5"
                                },
                                {
                                    "Fname": "James",
                                    "Minit": "E",
                                    "Lname": "Borg",
                                    "Ssn": "888665555",
                                    "Bdate": "1937-11-10",
                                    "Address": "450 Stone, Houston, TX",
                                    "Sex": "M",
                                    "Salary": "55000.00",
                                    "Super_ssn": "NULL",
                                    "Dno": "1"
                                },
                                {
                                    "Fname": "Jennifer",
                                    "Minit": "S",
                                    "Lname": "Wallace",
                                    "Ssn": "987654321",
                                    "Bdate": "1941-06-20",
                                    "Address": "291 Berry, Bellaire, TX",
                                    "Sex": "F",
                                    "Salary": "43000.00",
                                    "Super_ssn": "888665555",
                                    "Dno": "4"
                                },
                                {
                                    "Fname": "Ahmad",
                                    "Minit": "V",
                                    "Lname": "Jabbar",
                                    "Ssn": "987987987",
                                    "Bdate": "1969-03-29",
                                    "Address": "980 Dallas, Houston, TX",
                                    "Sex": "M",
                                    "Salary": "25000.00",
                                    "Super_ssn": "987654321",
                                    "Dno": "4"
                                },
                                {
                                    "Fname": "Alicia",
                                    "Minit": "J",
                                    "Lname": "Zelaya",
                                    "Ssn": "999887777",
                                    "Bdate": "1968-01-19",
                                    "Address": "3321 Castle, Spring, TX",
                                    "Sex": "F",
                                    "Salary": "25000.00",
                                    "Super_ssn": "987654321",
                                    "Dno": "4"
                                }
                            ]
                        },
                        "text/html": [
                            "<table>",
                            "<tr><th>Fname</th><th>Minit</th><th>Lname</th><th>Ssn</th><th>Bdate</th><th>Address</th><th>Sex</th><th>Salary</th><th>Super_ssn</th><th>Dno</th></tr>",
                            "<tr><td>John</td><td>B</td><td>Smith</td><td>123456789</td><td>1965-01-09</td><td>731 Fondren, Houston, TX</td><td>M</td><td>30000.00</td><td>333445555</td><td>5</td></tr>",
                            "<tr><td>Franklin</td><td>T</td><td>Wong</td><td>333445555</td><td>1955-12-08</td><td>638 Voss, Houston, TX</td><td>M</td><td>40000.00</td><td>888665555</td><td>5</td></tr>",
                            "<tr><td>Joyce</td><td>A</td><td>English</td><td>453453453</td><td>1972-07-31</td><td>5631 Rice, Houston, TX</td><td>F</td><td>25000.00</td><td>333445555</td><td>5</td></tr>",
                            "<tr><td>Ramesh</td><td>K</td><td>Narayan</td><td>666884444</td><td>1962-09-15</td><td>975 Fire Oak, Humble, TX</td><td>M</td><td>38000.00</td><td>333445555</td><td>5</td></tr>",
                            "<tr><td>James</td><td>E</td><td>Borg</td><td>888665555</td><td>1937-11-10</td><td>450 Stone, Houston, TX</td><td>M</td><td>55000.00</td><td>NULL</td><td>1</td></tr>",
                            "<tr><td>Jennifer</td><td>S</td><td>Wallace</td><td>987654321</td><td>1941-06-20</td><td>291 Berry, Bellaire, TX</td><td>F</td><td>43000.00</td><td>888665555</td><td>4</td></tr>",
                            "<tr><td>Ahmad</td><td>V</td><td>Jabbar</td><td>987987987</td><td>1969-03-29</td><td>980 Dallas, Houston, TX</td><td>M</td><td>25000.00</td><td>987654321</td><td>4</td></tr>",
                            "<tr><td>Alicia</td><td>J</td><td>Zelaya</td><td>999887777</td><td>1968-01-19</td><td>3321 Castle, Spring, TX</td><td>F</td><td>25000.00</td><td>987654321</td><td>4</td></tr>",
                            "</table>"
                        ]
                    }
                },
                {
                    "output_type": "execute_result",
                    "metadata": {},
                    "execution_count": 2,
                    "data": {
                        "application/vnd.dataresource+json": {
                            "schema": {
                                "fields": [
                                    {
                                        "name": "Dname"
                                    },
                                    {
                                        "name": "Dnumber"
                                    },
                                    {
                                        "name": "Mgr_ssn"
                                    },
                                    {
                                        "name": "Mgr_start_date"
                                    }
                                ]
                            },
                            "data": [
                                {
                                    "Dname": "Headquarters",
                                    "Dnumber": "1",
                                    "Mgr_ssn": "888665555",
                                    "Mgr_start_date": "1981-06-19"
                                },
                                {
                                    "Dname": "Administration",
                                    "Dnumber": "4",
                                    "Mgr_ssn": "987654321",
                                    "Mgr_start_date": "1995-01-01"
                                },
                                {
                                    "Dname": "Research",
                                    "Dnumber": "5",
                                    "Mgr_ssn": "333445555",
                                    "Mgr_start_date": "1988-05-22"
                                }
                            ]
                        },
                        "text/html": [
                            "<table>",
                            "<tr><th>Dname</th><th>Dnumber</th><th>Mgr_ssn</th><th>Mgr_start_date</th></tr>",
                            "<tr><td>Headquarters</td><td>1</td><td>888665555</td><td>1981-06-19</td></tr>",
                            "<tr><td>Administration</td><td>4</td><td>987654321</td><td>1995-01-01</td></tr>",
                            "<tr><td>Research</td><td>5</td><td>333445555</td><td>1988-05-22</td></tr>",
                            "</table>"
                        ]
                    }
                },
                {
                    "output_type": "execute_result",
                    "metadata": {},
                    "execution_count": 2,
                    "data": {
                        "application/vnd.dataresource+json": {
                            "schema": {
                                "fields": [
                                    {
                                        "name": "Dnumber"
                                    },
                                    {
                                        "name": "Dlocation"
                                    }
                                ]
                            },
                            "data": [
                                {
                                    "Dnumber": "1",
                                    "Dlocation": "Houston"
                                },
                                {
                                    "Dnumber": "4",
                                    "Dlocation": "Stafford"
                                },
                                {
                                    "Dnumber": "5",
                                    "Dlocation": "Bellaire"
                                },
                                {
                                    "Dnumber": "5",
                                    "Dlocation": "Houston"
                                },
                                {
                                    "Dnumber": "5",
                                    "Dlocation": "Sugarland"
                                }
                            ]
                        },
                        "text/html": [
                            "<table>",
                            "<tr><th>Dnumber</th><th>Dlocation</th></tr>",
                            "<tr><td>1</td><td>Houston</td></tr>",
                            "<tr><td>4</td><td>Stafford</td></tr>",
                            "<tr><td>5</td><td>Bellaire</td></tr>",
                            "<tr><td>5</td><td>Houston</td></tr>",
                            "<tr><td>5</td><td>Sugarland</td></tr>",
                            "</table>"
                        ]
                    }
                },
                {
                    "output_type": "execute_result",
                    "metadata": {},
                    "execution_count": 2,
                    "data": {
                        "application/vnd.dataresource+json": {
                            "schema": {
                                "fields": [
                                    {
                                        "name": "Pname"
                                    },
                                    {
                                        "name": "Pnumber"
                                    },
                                    {
                                        "name": "Plocation"
                                    },
                                    {
                                        "name": "Dnum"
                                    }
                                ]
                            },
                            "data": [
                                {
                                    "Pname": "ProductX",
                                    "Pnumber": "1",
                                    "Plocation": "Bellaire",
                                    "Dnum": "5"
                                },
                                {
                                    "Pname": "ProductY",
                                    "Pnumber": "2",
                                    "Plocation": "Sugarland",
                                    "Dnum": "5"
                                },
                                {
                                    "Pname": "ProductZ",
                                    "Pnumber": "3",
                                    "Plocation": "Houston",
                                    "Dnum": "5"
                                },
                                {
                                    "Pname": "Computerization",
                                    "Pnumber": "10",
                                    "Plocation": "Stafford",
                                    "Dnum": "4"
                                },
                                {
                                    "Pname": "Reorganization",
                                    "Pnumber": "20",
                                    "Plocation": "Houston",
                                    "Dnum": "1"
                                },
                                {
                                    "Pname": "Newbenefits",
                                    "Pnumber": "30",
                                    "Plocation": "Stafford",
                                    "Dnum": "4"
                                }
                            ]
                        },
                        "text/html": [
                            "<table>",
                            "<tr><th>Pname</th><th>Pnumber</th><th>Plocation</th><th>Dnum</th></tr>",
                            "<tr><td>ProductX</td><td>1</td><td>Bellaire</td><td>5</td></tr>",
                            "<tr><td>ProductY</td><td>2</td><td>Sugarland</td><td>5</td></tr>",
                            "<tr><td>ProductZ</td><td>3</td><td>Houston</td><td>5</td></tr>",
                            "<tr><td>Computerization</td><td>10</td><td>Stafford</td><td>4</td></tr>",
                            "<tr><td>Reorganization</td><td>20</td><td>Houston</td><td>1</td></tr>",
                            "<tr><td>Newbenefits</td><td>30</td><td>Stafford</td><td>4</td></tr>",
                            "</table>"
                        ]
                    }
                },
                {
                    "output_type": "execute_result",
                    "metadata": {},
                    "execution_count": 2,
                    "data": {
                        "application/vnd.dataresource+json": {
                            "schema": {
                                "fields": [
                                    {
                                        "name": "Essn"
                                    },
                                    {
                                        "name": "Pno"
                                    },
                                    {
                                        "name": "Hours"
                                    }
                                ]
                            },
                            "data": [
                                {
                                    "Essn": "123456789",
                                    "Pno": "1",
                                    "Hours": "32.50"
                                },
                                {
                                    "Essn": "123456789",
                                    "Pno": "2",
                                    "Hours": "7.50"
                                },
                                {
                                    "Essn": "333445555",
                                    "Pno": "2",
                                    "Hours": "10.00"
                                },
                                {
                                    "Essn": "333445555",
                                    "Pno": "3",
                                    "Hours": "10.00"
                                },
                                {
                                    "Essn": "333445555",
                                    "Pno": "10",
                                    "Hours": "10.00"
                                },
                                {
                                    "Essn": "453453453",
                                    "Pno": "1",
                                    "Hours": "20.00"
                                },
                                {
                                    "Essn": "453453453",
                                    "Pno": "2",
                                    "Hours": "20.00"
                                },
                                {
                                    "Essn": "666884444",
                                    "Pno": "3",
                                    "Hours": "40.00"
                                },
                                {
                                    "Essn": "888665555",
                                    "Pno": "20",
                                    "Hours": "NULL"
                                },
                                {
                                    "Essn": "987654321",
                                    "Pno": "20",
                                    "Hours": "15.00"
                                },
                                {
                                    "Essn": "987987987",
                                    "Pno": "10",
                                    "Hours": "35.00"
                                },
                                {
                                    "Essn": "987987987",
                                    "Pno": "30",
                                    "Hours": "5.00"
                                },
                                {
                                    "Essn": "999887777",
                                    "Pno": "10",
                                    "Hours": "10.00"
                                },
                                {
                                    "Essn": "999887777",
                                    "Pno": "30",
                                    "Hours": "30.00"
                                }
                            ]
                        },
                        "text/html": [
                            "<table>",
                            "<tr><th>Essn</th><th>Pno</th><th>Hours</th></tr>",
                            "<tr><td>123456789</td><td>1</td><td>32.50</td></tr>",
                            "<tr><td>123456789</td><td>2</td><td>7.50</td></tr>",
                            "<tr><td>333445555</td><td>2</td><td>10.00</td></tr>",
                            "<tr><td>333445555</td><td>3</td><td>10.00</td></tr>",
                            "<tr><td>333445555</td><td>10</td><td>10.00</td></tr>",
                            "<tr><td>453453453</td><td>1</td><td>20.00</td></tr>",
                            "<tr><td>453453453</td><td>2</td><td>20.00</td></tr>",
                            "<tr><td>666884444</td><td>3</td><td>40.00</td></tr>",
                            "<tr><td>888665555</td><td>20</td><td>NULL</td></tr>",
                            "<tr><td>987654321</td><td>20</td><td>15.00</td></tr>",
                            "<tr><td>987987987</td><td>10</td><td>35.00</td></tr>",
                            "<tr><td>987987987</td><td>30</td><td>5.00</td></tr>",
                            "<tr><td>999887777</td><td>10</td><td>10.00</td></tr>",
                            "<tr><td>999887777</td><td>30</td><td>30.00</td></tr>",
                            "</table>"
                        ]
                    }
                },
                {
                    "output_type": "execute_result",
                    "metadata": {},
                    "execution_count": 2,
                    "data": {
                        "application/vnd.dataresource+json": {
                            "schema": {
                                "fields": [
                                    {
                                        "name": "Essn"
                                    },
                                    {
                                        "name": "Dependent_name"
                                    },
                                    {
                                        "name": "Sex"
                                    },
                                    {
                                        "name": "Bdate"
                                    },
                                    {
                                        "name": "Relationship"
                                    }
                                ]
                            },
                            "data": [
                                {
                                    "Essn": "123456789",
                                    "Dependent_name": "Alice",
                                    "Sex": "F",
                                    "Bdate": "1988-12-30",
                                    "Relationship": "Daughter"
                                },
                                {
                                    "Essn": "123456789",
                                    "Dependent_name": "Elizabeth",
                                    "Sex": "F",
                                    "Bdate": "1967-05-05",
                                    "Relationship": "Spouse"
                                },
                                {
                                    "Essn": "123456789",
                                    "Dependent_name": "Michael",
                                    "Sex": "M",
                                    "Bdate": "1988-01-04",
                                    "Relationship": "Son"
                                },
                                {
                                    "Essn": "333445555",
                                    "Dependent_name": "Alice",
                                    "Sex": "F",
                                    "Bdate": "1986-04-05",
                                    "Relationship": "Daughter"
                                },
                                {
                                    "Essn": "333445555",
                                    "Dependent_name": "Joy",
                                    "Sex": "F",
                                    "Bdate": "1958-05-03",
                                    "Relationship": "Spouse"
                                },
                                {
                                    "Essn": "333445555",
                                    "Dependent_name": "Theodore",
                                    "Sex": "M",
                                    "Bdate": "1983-10-25",
                                    "Relationship": "Son"
                                },
                                {
                                    "Essn": "987654321",
                                    "Dependent_name": "Abner",
                                    "Sex": "M",
                                    "Bdate": "1942-02-28",
                                    "Relationship": "Spouse"
                                }
                            ]
                        },
                        "text/html": [
                            "<table>",
                            "<tr><th>Essn</th><th>Dependent_name</th><th>Sex</th><th>Bdate</th><th>Relationship</th></tr>",
                            "<tr><td>123456789</td><td>Alice</td><td>F</td><td>1988-12-30</td><td>Daughter</td></tr>",
                            "<tr><td>123456789</td><td>Elizabeth</td><td>F</td><td>1967-05-05</td><td>Spouse</td></tr>",
                            "<tr><td>123456789</td><td>Michael</td><td>M</td><td>1988-01-04</td><td>Son</td></tr>",
                            "<tr><td>333445555</td><td>Alice</td><td>F</td><td>1986-04-05</td><td>Daughter</td></tr>",
                            "<tr><td>333445555</td><td>Joy</td><td>F</td><td>1958-05-03</td><td>Spouse</td></tr>",
                            "<tr><td>333445555</td><td>Theodore</td><td>M</td><td>1983-10-25</td><td>Son</td></tr>",
                            "<tr><td>987654321</td><td>Abner</td><td>M</td><td>1942-02-28</td><td>Spouse</td></tr>",
                            "</table>"
                        ]
                    }
                }
            ],
            "execution_count": 2
        }
    ]
}