{
    "metadata": {
        "kernelspec": {
            "name": "SQL",
            "display_name": "SQL",
            "language": "sql"
        },
        "language_info": {
            "name": "sql",
            "version": ""
        }
    },
    "nbformat_minor": 2,
    "nbformat": 4,
    "cells": [
        {
            "cell_type": "markdown",
            "source": [
                "# Auditoriska 9"
            ],
            "metadata": {
                "azdata_cell_guid": "16d5401a-5251-4bd9-8dfe-8e8a2e77a732"
            },
            "attachments": {}
        },
        {
            "cell_type": "markdown",
            "source": [
                "## Zadacha 1"
            ],
            "metadata": {
                "azdata_cell_guid": "cdacf7ea-87b9-4d95-b871-8be36c611fa3"
            },
            "attachments": {}
        },
        {
            "cell_type": "code",
            "source": [
                "/*\r\n",
                "    This script checks if a database named 'db_dml_advanced' exists:\r\n",
                "    - If the database does NOT exist, it creates a new empty database.\r\n",
                "    - If the database DOES exist, it deletes all tables within the database by:\r\n",
                "        1. Dropping all foreign key constraints to handle dependencies.\r\n",
                "        2. Dropping all tables to make the database empty.\r\n",
                "*/\r\n",
                "\r\n",
                "-- Check if the database exists\r\n",
                "IF (SELECT COUNT(*) FROM sys.databases WHERE name = 'db_dml_advanced') = 0\r\n",
                "BEGIN\r\n",
                "    -- Create the database if it doesn't exist\r\n",
                "    CREATE DATABASE db_dml_advanced;\r\n",
                "    PRINT 'Database created: db_dml_advanced';\r\n",
                "END\r\n",
                "ELSE\r\n",
                "BEGIN\r\n",
                "    PRINT 'Database already exists: db_dml_advanced';\r\n",
                "END\r\n",
                "\r\n",
                "GO\r\n",
                "-- Use the database\r\n",
                "USE db_dml_advanced;\r\n",
                "\r\n",
                "-- Step 1: Drop all foreign key constraints if any exist\r\n",
                "IF EXISTS (SELECT * FROM sys.foreign_keys)\r\n",
                "BEGIN\r\n",
                "    DECLARE @sql NVARCHAR(MAX);\r\n",
                "    SET @sql = '';\r\n",
                "\r\n",
                "    SELECT @sql = @sql + 'ALTER TABLE [' + OBJECT_NAME(parent_object_id) \r\n",
                "                 + '] DROP CONSTRAINT [' + name + '];' + CHAR(13)\r\n",
                "    FROM sys.foreign_keys;\r\n",
                "\r\n",
                "    EXEC sp_executesql @sql;\r\n",
                "    PRINT 'Foreign keys dropped';\r\n",
                "END\r\n",
                "ELSE\r\n",
                "BEGIN\r\n",
                "    PRINT 'No foreign keys to drop';\r\n",
                "END\r\n",
                "\r\n",
                "-- Step 2: Drop all tables if any exist\r\n",
                "IF EXISTS (SELECT * FROM sys.tables)\r\n",
                "BEGIN\r\n",
                "    SET @sql = '';\r\n",
                "\r\n",
                "    SELECT @sql = @sql + 'DROP TABLE [' + name + '];' + CHAR(13)\r\n",
                "    FROM sys.tables;\r\n",
                "\r\n",
                "    EXEC sp_executesql @sql;\r\n",
                "    PRINT 'Tables dropped';\r\n",
                "END\r\n",
                "ELSE\r\n",
                "BEGIN\r\n",
                "    PRINT 'No tables to drop';\r\n",
                "END"
            ],
            "metadata": {
                "azdata_cell_guid": "8d7aded1-a525-40b8-894d-0f2959dca004",
                "language": "sql",
                "tags": [
                    "hide_input"
                ]
            },
            "outputs": [
                {
                    "output_type": "display_data",
                    "data": {
                        "text/html": "Database created: db_dml_advanced"
                    },
                    "metadata": {}
                },
                {
                    "output_type": "display_data",
                    "data": {
                        "text/html": "No foreign keys to drop"
                    },
                    "metadata": {}
                },
                {
                    "output_type": "display_data",
                    "data": {
                        "text/html": "No tables to drop"
                    },
                    "metadata": {}
                },
                {
                    "output_type": "display_data",
                    "data": {
                        "text/html": "Total execution time: 00:00:00.442"
                    },
                    "metadata": {}
                }
            ],
            "execution_count": 1
        },
        {
            "cell_type": "code",
            "source": [
                "-- Table creation for CLIENT\r\n",
                "CREATE TABLE CLIENT (\r\n",
                "    clID INT PRIMARY KEY,\r\n",
                "    name VARCHAR(30),\r\n",
                "    passportNo VARCHAR(255),\r\n",
                "    address VARCHAR(50)\r\n",
                ");\r\n",
                "\r\n",
                "\r\n",
                "-- Table creation for ADD_OPT\r\n",
                "CREATE TABLE ADD_OPT (\r\n",
                "    aoID INT PRIMARY KEY,\r\n",
                "    description VARCHAR(255),\r\n",
                "    type VARCHAR(10),\r\n",
                "    price DECIMAL\r\n",
                ");\r\n",
                "\r\n",
                "-- Table creation for PACKAGE\r\n",
                "CREATE TABLE PACKAGE (\r\n",
                "    packID INT PRIMARY KEY,\r\n",
                "    city VARCHAR(50),\r\n",
                "    hotel VARCHAR(50)\r\n",
                ");\r\n",
                "\r\n",
                "-- Table creation for T_AGENCY\r\n",
                "CREATE TABLE T_AGENCY (\r\n",
                "    taID INT PRIMARY KEY,\r\n",
                "    name VARCHAR(50),\r\n",
                "    address VARCHAR(255),\r\n",
                "    telephone VARCHAR(15)\r\n",
                ");\r\n",
                "\r\n",
                "-- Table creation for VACATION\r\n",
                "CREATE TABLE VACATION (\r\n",
                "    vacID INT PRIMARY KEY,\r\n",
                "    startDate DATE,\r\n",
                "    endDate DATE,\r\n",
                "    country VARCHAR(20),\r\n",
                "    taID INT,\r\n",
                "    FOREIGN KEY (taID) REFERENCES T_AGENCY(taID)\r\n",
                ");\r\n",
                "\r\n",
                "-- Table creation for EMPLOYEE\r\n",
                "CREATE TABLE EMPLOYEE (\r\n",
                "    empID INT PRIMARY KEY,\r\n",
                "    name VARCHAR(20),\r\n",
                "    surname VARCHAR(20),\r\n",
                "    birthYear INT,\r\n",
                "    education VARCHAR(15),\r\n",
                "    taID INT,\r\n",
                "    FOREIGN KEY (taID) REFERENCES T_AGENCY(taID)\r\n",
                ");\r\n",
                "\r\n",
                "-- Table creation for GUIDE\r\n",
                "CREATE TABLE GUIDE (\r\n",
                "    empID INT PRIMARY KEY,\r\n",
                "    FOREIGN KEY (empID) REFERENCES EMPLOYEE(empID)\r\n",
                ");\r\n",
                "\r\n",
                "-- Table creation for TRANSPORT\r\n",
                "CREATE TABLE TRANSPORT (\r\n",
                "    packID INT,\r\n",
                "    transport VARCHAR(40),\r\n",
                "    PRIMARY KEY (packID, transport),\r\n",
                "    FOREIGN KEY (packID) REFERENCES PACKAGE(packID)\r\n",
                ");\r\n",
                "\r\n",
                "-- Table creation for CONTENT\r\n",
                "CREATE TABLE CONTENT (\r\n",
                "    vacID INT,\r\n",
                "    packID INT,\r\n",
                "    price DECIMAL,\r\n",
                "    PRIMARY KEY (vacID, packID),\r\n",
                "    FOREIGN KEY (vacID) REFERENCES VACATION(vacID),\r\n",
                "    FOREIGN KEY (packID) REFERENCES PACKAGE(packID)\r\n",
                ");\r\n",
                "\r\n",
                "-- Table creation for GUIDANCE\r\n",
                "CREATE TABLE GUIDANCE (\r\n",
                "    empID INT,\r\n",
                "    vacID INT,\r\n",
                "    [percent] DECIMAL,\r\n",
                "    PRIMARY KEY (empID, vacID),\r\n",
                "    FOREIGN KEY (empID) REFERENCES GUIDE(empID),\r\n",
                "    FOREIGN KEY (vacID) REFERENCES VACATION(vacID)\r\n",
                ");\r\n",
                "\r\n",
                "-- Table creation for F_LANGUAGE\r\n",
                "CREATE TABLE F_LANGUAGE (\r\n",
                "    empID INT,\r\n",
                "    flang VARCHAR(30),\r\n",
                "    PRIMARY KEY (empID, flang),\r\n",
                "    FOREIGN KEY (empID) REFERENCES EMPLOYEE(empID)\r\n",
                ");\r\n",
                "\r\n",
                "-- Table creation for CHOICE\r\n",
                "CREATE TABLE CHOICE (\r\n",
                "    choiceID INT PRIMARY KEY,\r\n",
                "    clID INT,\r\n",
                "    aoID INT,\r\n",
                "    vacID INT,\r\n",
                "    FOREIGN KEY (clID) REFERENCES CLIENT(clID),\r\n",
                "    FOREIGN KEY (aoID) REFERENCES ADD_OPT(aoID),\r\n",
                "    FOREIGN KEY (vacID) REFERENCES VACATION(vacID)\r\n",
                ");"
            ],
            "metadata": {
                "language": "sql",
                "azdata_cell_guid": "952d15f5-ad77-4338-8053-cd3e9725d844",
                "tags": [
                    "hide_input"
                ]
            },
            "outputs": [
                {
                    "output_type": "display_data",
                    "data": {
                        "text/html": "Commands completed successfully."
                    },
                    "metadata": {}
                },
                {
                    "output_type": "display_data",
                    "data": {
                        "text/html": "Total execution time: 00:00:00.048"
                    },
                    "metadata": {}
                }
            ],
            "execution_count": 2
        },
        {
            "cell_type": "code",
            "source": [
                "-- Inserting sample records into CLIENT\r\n",
                "INSERT INTO CLIENT VALUES (1, 'John Doe', 'AB123456', '123 Main St');\r\n",
                "\r\n",
                "\r\n",
                "-- Inserting sample records into T_AGENCY\r\n",
                "INSERT INTO T_AGENCY VALUES (1, 'TravelCo', '456 Park Ave', '555-1234');\r\n",
                "INSERT INTO T_AGENCY VALUES (2, 'TravelTribe', '123 Park Ave', '222-1235');\r\n",
                "\r\n",
                "\r\n",
                "-- Additional sample records for EMPLOYEE\r\n",
                "INSERT INTO EMPLOYEE VALUES (1, 'Alice', 'Smith', 1985, 'Masters', 1);\r\n",
                "INSERT INTO EMPLOYEE VALUES (2, 'Bob', 'Johnson', 1980, 'Bachelors', 1);\r\n",
                "\r\n",
                "-- Sample records for GUIDE\r\n",
                "INSERT INTO GUIDE VALUES (1);\r\n",
                "INSERT INTO GUIDE VALUES (2);\r\n",
                "\r\n",
                "\r\n",
                "\r\n",
                "\r\n",
                "-- Sample records for F_LANGUAGE\r\n",
                "INSERT INTO F_LANGUAGE VALUES (1, 'English');\r\n",
                "INSERT INTO F_LANGUAGE VALUES (2, 'Spanish');\r\n",
                "INSERT INTO F_LANGUAGE VALUES (1, 'French');\r\n",
                "INSERT INTO F_LANGUAGE VALUES (2, 'German');\r\n",
                "\r\n",
                "\r\n",
                "\r\n",
                "-- Sample records for ADD_OPT\r\n",
                "INSERT INTO ADD_OPT VALUES (1, 'Extra luggage', 'Baggage', 50.00);\r\n",
                "INSERT INTO ADD_OPT VALUES (2, 'Priority boarding', 'Flight', 30.00);\r\n",
                "INSERT INTO ADD_OPT VALUES (3, 'Tour guide', 'Service', 100.00);\r\n",
                "INSERT INTO ADD_OPT VALUES (4, 'Travel insurance', 'Insurance', 20.00);\r\n",
                "\r\n",
                "-- Sample records for additional VACATION\r\n",
                "INSERT INTO VACATION VALUES (1, '2023-02-10', '2023-02-17', 'Malaysia', 1);\r\n",
                "INSERT INTO VACATION VALUES (2, '2023-03-15', '2023-03-22', 'Romania', 1);\r\n",
                "\r\n",
                "-- Sample records for additional PACKAGE\r\n",
                "-- Note: Introducing more cities to satisfy certain query conditions\r\n",
                "INSERT INTO PACKAGE VALUES (1, 'CityC', 'HotelC');\r\n",
                "INSERT INTO PACKAGE VALUES (2, 'CityD', 'HotelD');\r\n",
                "\r\n",
                "-- More records for TRANSPORT\r\n",
                "-- Note: These are added to existing records to satisfy query conditions\r\n",
                "INSERT INTO TRANSPORT VALUES (1, 'Car');\r\n",
                "INSERT INTO TRANSPORT VALUES (2, 'Bicycle');\r\n",
                "INSERT INTO TRANSPORT VALUES (2, 'Motorbike');\r\n",
                "\r\n",
                "\r\n",
                "-- Additional sample records for CONTENT\r\n",
                "-- Note: These records correspond to VACATION and PACKAGE\r\n",
                "INSERT INTO CONTENT VALUES (1, 1, 200.00);\r\n",
                "INSERT INTO CONTENT VALUES (1, 2, 250.00);\r\n",
                "INSERT INTO CONTENT VALUES (2, 1, 150.00);\r\n",
                "INSERT INTO CONTENT VALUES (2, 2, 300.00);\r\n",
                "\r\n",
                "-- Sample records for CHOICE\r\n",
                "-- These records link CLIENT, ADD_OPT, and VACATION\r\n",
                "INSERT INTO CHOICE VALUES (1, 1, 1, 1);\r\n",
                "INSERT INTO CHOICE VALUES (2, 1, 2, 1);\r\n",
                "INSERT INTO CHOICE VALUES (3, 1, 3, 2);\r\n",
                "INSERT INTO CHOICE VALUES (4, 1, 4, 2);\r\n",
                "\r\n",
                "-- Sample records for GUIDANCE\r\n",
                "-- Assuming 'percent' is the percentage of the total price for a vacation\r\n",
                "INSERT INTO GUIDANCE VALUES (1, 1, 10.00);\r\n",
                "INSERT INTO GUIDANCE VALUES (2, 1, 15.00);\r\n",
                "INSERT INTO GUIDANCE VALUES (1, 2, 12.00);\r\n",
                "INSERT INTO GUIDANCE VALUES (2, 2, 18.00);"
            ],
            "metadata": {
                "language": "sql",
                "azdata_cell_guid": "8090d985-4750-43ee-b1cc-b97dca705df5",
                "tags": [
                    "hide_input"
                ]
            },
            "outputs": [
                {
                    "output_type": "display_data",
                    "data": {
                        "text/html": "(1 row affected)"
                    },
                    "metadata": {}
                },
                {
                    "output_type": "display_data",
                    "data": {
                        "text/html": "(1 row affected)"
                    },
                    "metadata": {}
                },
                {
                    "output_type": "display_data",
                    "data": {
                        "text/html": "(1 row affected)"
                    },
                    "metadata": {}
                },
                {
                    "output_type": "display_data",
                    "data": {
                        "text/html": "(1 row affected)"
                    },
                    "metadata": {}
                },
                {
                    "output_type": "display_data",
                    "data": {
                        "text/html": "(1 row affected)"
                    },
                    "metadata": {}
                },
                {
                    "output_type": "display_data",
                    "data": {
                        "text/html": "(1 row affected)"
                    },
                    "metadata": {}
                },
                {
                    "output_type": "display_data",
                    "data": {
                        "text/html": "(1 row affected)"
                    },
                    "metadata": {}
                },
                {
                    "output_type": "display_data",
                    "data": {
                        "text/html": "(1 row affected)"
                    },
                    "metadata": {}
                },
                {
                    "output_type": "display_data",
                    "data": {
                        "text/html": "(1 row affected)"
                    },
                    "metadata": {}
                },
                {
                    "output_type": "display_data",
                    "data": {
                        "text/html": "(1 row affected)"
                    },
                    "metadata": {}
                },
                {
                    "output_type": "display_data",
                    "data": {
                        "text/html": "(1 row affected)"
                    },
                    "metadata": {}
                },
                {
                    "output_type": "display_data",
                    "data": {
                        "text/html": "(1 row affected)"
                    },
                    "metadata": {}
                },
                {
                    "output_type": "display_data",
                    "data": {
                        "text/html": "(1 row affected)"
                    },
                    "metadata": {}
                },
                {
                    "output_type": "display_data",
                    "data": {
                        "text/html": "(1 row affected)"
                    },
                    "metadata": {}
                },
                {
                    "output_type": "display_data",
                    "data": {
                        "text/html": "(1 row affected)"
                    },
                    "metadata": {}
                },
                {
                    "output_type": "display_data",
                    "data": {
                        "text/html": "(1 row affected)"
                    },
                    "metadata": {}
                },
                {
                    "output_type": "display_data",
                    "data": {
                        "text/html": "(1 row affected)"
                    },
                    "metadata": {}
                },
                {
                    "output_type": "display_data",
                    "data": {
                        "text/html": "(1 row affected)"
                    },
                    "metadata": {}
                },
                {
                    "output_type": "display_data",
                    "data": {
                        "text/html": "(1 row affected)"
                    },
                    "metadata": {}
                },
                {
                    "output_type": "display_data",
                    "data": {
                        "text/html": "(1 row affected)"
                    },
                    "metadata": {}
                },
                {
                    "output_type": "display_data",
                    "data": {
                        "text/html": "(1 row affected)"
                    },
                    "metadata": {}
                },
                {
                    "output_type": "display_data",
                    "data": {
                        "text/html": "(1 row affected)"
                    },
                    "metadata": {}
                },
                {
                    "output_type": "display_data",
                    "data": {
                        "text/html": "(1 row affected)"
                    },
                    "metadata": {}
                },
                {
                    "output_type": "display_data",
                    "data": {
                        "text/html": "(1 row affected)"
                    },
                    "metadata": {}
                },
                {
                    "output_type": "display_data",
                    "data": {
                        "text/html": "(1 row affected)"
                    },
                    "metadata": {}
                },
                {
                    "output_type": "display_data",
                    "data": {
                        "text/html": "(1 row affected)"
                    },
                    "metadata": {}
                },
                {
                    "output_type": "display_data",
                    "data": {
                        "text/html": "(1 row affected)"
                    },
                    "metadata": {}
                },
                {
                    "output_type": "display_data",
                    "data": {
                        "text/html": "(1 row affected)"
                    },
                    "metadata": {}
                },
                {
                    "output_type": "display_data",
                    "data": {
                        "text/html": "(1 row affected)"
                    },
                    "metadata": {}
                },
                {
                    "output_type": "display_data",
                    "data": {
                        "text/html": "(1 row affected)"
                    },
                    "metadata": {}
                },
                {
                    "output_type": "display_data",
                    "data": {
                        "text/html": "(1 row affected)"
                    },
                    "metadata": {}
                },
                {
                    "output_type": "display_data",
                    "data": {
                        "text/html": "(1 row affected)"
                    },
                    "metadata": {}
                },
                {
                    "output_type": "display_data",
                    "data": {
                        "text/html": "(1 row affected)"
                    },
                    "metadata": {}
                },
                {
                    "output_type": "display_data",
                    "data": {
                        "text/html": "(1 row affected)"
                    },
                    "metadata": {}
                },
                {
                    "output_type": "display_data",
                    "data": {
                        "text/html": "Total execution time: 00:00:00.049"
                    },
                    "metadata": {}
                }
            ],
            "execution_count": 3
        },
        {
            "cell_type": "code",
            "source": [
                "select v.vacID, sum(c.price) as basic_cost\r\n",
                "from VACATION v\r\n",
                "    join CONTENT c on v.vacID = c.vacID\r\n",
                "where v.country like 'M%a%ia'\r\n",
                "group by v.vacID"
            ],
            "metadata": {
                "azdata_cell_guid": "0850f280-3224-4439-9496-58084d2efa1b",
                "language": "sql",
                "tags": []
            },
            "outputs": [
                {
                    "output_type": "display_data",
                    "data": {
                        "text/html": "(1 row affected)"
                    },
                    "metadata": {}
                },
                {
                    "output_type": "display_data",
                    "data": {
                        "text/html": "Total execution time: 00:00:00.011"
                    },
                    "metadata": {}
                },
                {
                    "output_type": "execute_result",
                    "metadata": {},
                    "execution_count": 9,
                    "data": {
                        "application/vnd.dataresource+json": {
                            "schema": {
                                "fields": [
                                    {
                                        "name": "vacID"
                                    },
                                    {
                                        "name": "basic_cost"
                                    }
                                ]
                            },
                            "data": [
                                {
                                    "vacID": "1",
                                    "basic_cost": "450"
                                }
                            ]
                        },
                        "text/html": [
                            "<table>",
                            "<tr><th>vacID</th><th>basic_cost</th></tr>",
                            "<tr><td>1</td><td>450</td></tr>",
                            "</table>"
                        ]
                    }
                }
            ],
            "execution_count": 9
        },
        {
            "cell_type": "code",
            "source": [
                "select p.hotel, count(distinct t.transport)\r\n",
                "from PACKAGE p\r\n",
                "    join TRANSPORT t on p.packID = t.packID\r\n",
                "group by p.hotel\r\n",
                "having count(distinct t.transport) > 1\r\n",
                ""
            ],
            "metadata": {
                "azdata_cell_guid": "40389d34-40b8-467d-8438-46f3616ad0ef",
                "language": "sql"
            },
            "outputs": [
                {
                    "output_type": "display_data",
                    "data": {
                        "text/html": "(1 row affected)"
                    },
                    "metadata": {}
                },
                {
                    "output_type": "display_data",
                    "data": {
                        "text/html": "Total execution time: 00:00:00.016"
                    },
                    "metadata": {}
                },
                {
                    "output_type": "execute_result",
                    "metadata": {},
                    "execution_count": 14,
                    "data": {
                        "application/vnd.dataresource+json": {
                            "schema": {
                                "fields": [
                                    {
                                        "name": "hotel"
                                    },
                                    {
                                        "name": "(No column name)"
                                    }
                                ]
                            },
                            "data": [
                                {
                                    "hotel": "HotelD",
                                    "(No column name)": "2"
                                }
                            ]
                        },
                        "text/html": [
                            "<table>",
                            "<tr><th>hotel</th><th>(No column name)</th></tr>",
                            "<tr><td>HotelD</td><td>2</td></tr>",
                            "</table>"
                        ]
                    }
                }
            ],
            "execution_count": 14
        },
        {
            "cell_type": "code",
            "source": [
                "select *\r\n",
                "from VACATION v\r\n",
                "where v.vacID in (\r\n",
                "    select c.vacID\r\n",
                "    from CONTENT c\r\n",
                "        join PACKAGE p on c.packID = p.packID\r\n",
                "    group by c.vacID\r\n",
                "    having count(distinct p.city) > 1\r\n",
                "    )"
            ],
            "metadata": {
                "azdata_cell_guid": "e455094f-ddc9-439b-a6ae-7da2678ed048",
                "language": "sql"
            },
            "outputs": [
                {
                    "output_type": "display_data",
                    "data": {
                        "text/html": "(2 rows affected)"
                    },
                    "metadata": {}
                },
                {
                    "output_type": "display_data",
                    "data": {
                        "text/html": "Total execution time: 00:00:00.025"
                    },
                    "metadata": {}
                },
                {
                    "output_type": "execute_result",
                    "metadata": {},
                    "execution_count": 35,
                    "data": {
                        "application/vnd.dataresource+json": {
                            "schema": {
                                "fields": [
                                    {
                                        "name": "vacID"
                                    },
                                    {
                                        "name": "startDate"
                                    },
                                    {
                                        "name": "endDate"
                                    },
                                    {
                                        "name": "country"
                                    },
                                    {
                                        "name": "taID"
                                    }
                                ]
                            },
                            "data": [
                                {
                                    "vacID": "1",
                                    "startDate": "2023-02-10",
                                    "endDate": "2023-02-17",
                                    "country": "Malaysia",
                                    "taID": "1"
                                },
                                {
                                    "vacID": "2",
                                    "startDate": "2023-03-15",
                                    "endDate": "2023-03-22",
                                    "country": "Romania",
                                    "taID": "1"
                                }
                            ]
                        },
                        "text/html": [
                            "<table>",
                            "<tr><th>vacID</th><th>startDate</th><th>endDate</th><th>country</th><th>taID</th></tr>",
                            "<tr><td>1</td><td>2023-02-10</td><td>2023-02-17</td><td>Malaysia</td><td>1</td></tr>",
                            "<tr><td>2</td><td>2023-03-15</td><td>2023-03-22</td><td>Romania</td><td>1</td></tr>",
                            "</table>"
                        ]
                    }
                }
            ],
            "execution_count": 35
        },
        {
            "cell_type": "code",
            "source": [
                "\r\n",
                "with vac_veh_count as \r\n",
                "(\r\n",
                "select c.vacID,count(distinct t.transport) as NumTransports\r\n",
                "-- select *\r\n",
                "from CONTENT c\r\n",
                "    join PACKAGE p on c.packID = p.packID\r\n",
                "    join TRANSPORT t on p.packID = t.packID\r\n",
                "group by c.vacID\r\n",
                "),\r\n",
                "\r\n",
                "vac_veh_max(MaxTransports) as \r\n",
                "(\r\n",
                "select max(v1.NumTransports)\r\n",
                "from vac_veh_count v1\r\n",
                ")\r\n",
                "\r\n",
                "select v.*\r\n",
                "from vac_veh_count vv\r\n",
                "    join VACATION v on vv.vacID = v.vacID\r\n",
                "where vv.NumTransports = (\r\n",
                "    select *\r\n",
                "    from vac_veh_max\r\n",
                "    )\r\n",
                "\r\n",
                "-- OR\r\n",
                "\r\n",
                "-- select v.*\r\n",
                "-- from VACATION v\r\n",
                "--     join vac_veh_count vv on vv.vacID = v.vacID\r\n",
                "--     join vac_veh_max vm on vv.NumTransports = vm.MaxTransports"
            ],
            "metadata": {
                "azdata_cell_guid": "70b287b1-66a4-4319-b67d-2772836353e6",
                "language": "sql"
            },
            "outputs": [
                {
                    "output_type": "display_data",
                    "data": {
                        "text/html": "(2 rows affected)"
                    },
                    "metadata": {}
                },
                {
                    "output_type": "display_data",
                    "data": {
                        "text/html": "Total execution time: 00:00:00.017"
                    },
                    "metadata": {}
                },
                {
                    "output_type": "execute_result",
                    "metadata": {},
                    "execution_count": 43,
                    "data": {
                        "application/vnd.dataresource+json": {
                            "schema": {
                                "fields": [
                                    {
                                        "name": "vacID"
                                    },
                                    {
                                        "name": "startDate"
                                    },
                                    {
                                        "name": "endDate"
                                    },
                                    {
                                        "name": "country"
                                    },
                                    {
                                        "name": "taID"
                                    }
                                ]
                            },
                            "data": [
                                {
                                    "vacID": "1",
                                    "startDate": "2023-02-10",
                                    "endDate": "2023-02-17",
                                    "country": "Malaysia",
                                    "taID": "1"
                                },
                                {
                                    "vacID": "2",
                                    "startDate": "2023-03-15",
                                    "endDate": "2023-03-22",
                                    "country": "Romania",
                                    "taID": "1"
                                }
                            ]
                        },
                        "text/html": [
                            "<table>",
                            "<tr><th>vacID</th><th>startDate</th><th>endDate</th><th>country</th><th>taID</th></tr>",
                            "<tr><td>1</td><td>2023-02-10</td><td>2023-02-17</td><td>Malaysia</td><td>1</td></tr>",
                            "<tr><td>2</td><td>2023-03-15</td><td>2023-03-22</td><td>Romania</td><td>1</td></tr>",
                            "</table>"
                        ]
                    }
                }
            ],
            "execution_count": 43
        },
        {
            "cell_type": "code",
            "source": [
                "with\r\n",
                "per_guide_profit as\r\n",
                "(\r\n",
                "    select g.empID, sum( g.[percent] / 100 * c.price) as guide_profit\r\n",
                "    -- select *\r\n",
                "    from GUIDANCE g\r\n",
                "        join CONTENT c on g.vacID = c.vacID\r\n",
                "    group by g.empID\r\n",
                "),\r\n",
                "\r\n",
                "avg_guide_profit as \r\n",
                "(\r\n",
                "select avg(p.guide_profit) as avg_profit\r\n",
                "from per_guide_profit p\r\n",
                ")\r\n",
                "\r\n",
                "select *\r\n",
                "from per_guide_profit p\r\n",
                "where p.guide_profit > (\r\n",
                "    select *\r\n",
                "    from avg_guide_profit\r\n",
                "    )"
            ],
            "metadata": {
                "azdata_cell_guid": "8e23f616-b3bb-4557-9a94-6010f3f71e7b",
                "language": "sql"
            },
            "outputs": [
                {
                    "output_type": "display_data",
                    "data": {
                        "text/html": "(1 row affected)"
                    },
                    "metadata": {}
                },
                {
                    "output_type": "display_data",
                    "data": {
                        "text/html": "Total execution time: 00:00:00.010"
                    },
                    "metadata": {}
                },
                {
                    "output_type": "execute_result",
                    "metadata": {},
                    "execution_count": 56,
                    "data": {
                        "application/vnd.dataresource+json": {
                            "schema": {
                                "fields": [
                                    {
                                        "name": "empID"
                                    },
                                    {
                                        "name": "guide_profit"
                                    }
                                ]
                            },
                            "data": [
                                {
                                    "empID": "2",
                                    "guide_profit": "148.500000"
                                }
                            ]
                        },
                        "text/html": [
                            "<table>",
                            "<tr><th>empID</th><th>guide_profit</th></tr>",
                            "<tr><td>2</td><td>148.500000</td></tr>",
                            "</table>"
                        ]
                    }
                }
            ],
            "execution_count": 56
        },
        {
            "cell_type": "code",
            "source": [
                "with \r\n",
                "\r\n",
                "vac_costs as\r\n",
                "(\r\n",
                "select c.vacID, sum (c.price) as basic_cost, sum(a.price) as ao_cost, sum (c.price) + sum(a.price) as total_cost\r\n",
                "from CONTENT c\r\n",
                "    join CHOICE ch on c.vacID = ch.vacID\r\n",
                "    join ADD_OPT a on ch.aoID = a.aoID\r\n",
                "group by c.vacID\r\n",
                "),\r\n",
                "\r\n",
                "vac_in_2023 as \r\n",
                "(\r\n",
                "select *\r\n",
                "from VACATION v\r\n",
                "where \r\n",
                "    v.startDate BETWEEN '2023-01-01' and '2023-12-31' and v.endDate BETWEEN '2023-01-01' and '2023-12-31'\r\n",
                "),\r\n",
                "\r\n",
                "per_guide_profit as\r\n",
                "(\r\n",
                "select g.empID, sum( g.[percent] / 100 * vc.total_cost) as guide_profit\r\n",
                "from GUIDANCE g\r\n",
                "    join vac_costs vc on g.vacID = vc.vacID\r\n",
                "where vc.vacID in (\r\n",
                "    select vac.vacID\r\n",
                "    from vac_in_2023 vac\r\n",
                ")\r\n",
                "group by g.empID\r\n",
                "),\r\n",
                "\r\n",
                "avg_guide_profit as \r\n",
                "(\r\n",
                "select avg(p.guide_profit) as avg_profit\r\n",
                "from per_guide_profit p\r\n",
                ")\r\n",
                "\r\n",
                "select *\r\n",
                "from per_guide_profit p\r\n",
                "where p.guide_profit > (\r\n",
                "    select *\r\n",
                "    from avg_guide_profit\r\n",
                "    )\r\n",
                "\r\n",
                ""
            ],
            "metadata": {
                "azdata_cell_guid": "e5831a10-9330-4c03-b4ff-c4aa4c94f014",
                "language": "sql"
            },
            "outputs": [
                {
                    "output_type": "display_data",
                    "data": {
                        "text/html": "(1 row affected)"
                    },
                    "metadata": {}
                },
                {
                    "output_type": "display_data",
                    "data": {
                        "text/html": "Total execution time: 00:00:00.035"
                    },
                    "metadata": {}
                },
                {
                    "output_type": "execute_result",
                    "metadata": {},
                    "execution_count": 80,
                    "data": {
                        "application/vnd.dataresource+json": {
                            "schema": {
                                "fields": [
                                    {
                                        "name": "empID"
                                    },
                                    {
                                        "name": "guide_profit"
                                    }
                                ]
                            },
                            "data": [
                                {
                                    "empID": "2",
                                    "guide_profit": "364.200000"
                                }
                            ]
                        },
                        "text/html": [
                            "<table>",
                            "<tr><th>empID</th><th>guide_profit</th></tr>",
                            "<tr><td>2</td><td>364.200000</td></tr>",
                            "</table>"
                        ]
                    }
                }
            ],
            "execution_count": 80
        },
        {
            "cell_type": "code",
            "source": [
                "\r\n",
                "with \r\n",
                "client_on_vecations as\r\n",
                "(\r\n",
                "select c.clID,c.vacID\r\n",
                "from CHOICE c\r\n",
                "    join CONTENT co on c.vacID = co.vacID\r\n",
                "group by c.clID, c.vacID\r\n",
                "),\r\n",
                "\r\n",
                "basic_costs as\r\n",
                "(\r\n",
                "select c.clID, c.vacID, sum(co.price) basic_cost\r\n",
                "from client_on_vecations c\r\n",
                "    join CONTENT co on c.vacID = co.vacID\r\n",
                "group by c.clID, c.vacID\r\n",
                "),\r\n",
                "\r\n",
                "ad_costs as \r\n",
                "(\r\n",
                "select c.clID, c.vacID, sum (a.price) as ad_cost\r\n",
                "from CHOICE c\r\n",
                "    join ADD_OPT a on c.aoID = a.aoID\r\n",
                "group by c.clID, c.vacID\r\n",
                "),\r\n",
                "\r\n",
                "client_per_vecation_costs as\r\n",
                "(\r\n",
                "select bc.*, ad.ad_cost, bc.basic_cost + ad.ad_cost as total_costs\r\n",
                "from basic_costs bc\r\n",
                "    join ad_costs ad on bc.clID = ad.clID and bc.vacID = ad.vacID\r\n",
                ")\r\n",
                "\r\n",
                "select c.clID, sum(c.basic_cost + c.ad_cost) as total_payed\r\n",
                "from client_per_vecation_costs c\r\n",
                "group by c.clID"
            ],
            "metadata": {
                "azdata_cell_guid": "263848dc-9851-400e-8758-ae4e37f083e9",
                "language": "sql"
            },
            "outputs": [
                {
                    "output_type": "display_data",
                    "data": {
                        "text/html": "(1 row affected)"
                    },
                    "metadata": {}
                },
                {
                    "output_type": "display_data",
                    "data": {
                        "text/html": "Total execution time: 00:00:00.028"
                    },
                    "metadata": {}
                },
                {
                    "output_type": "execute_result",
                    "metadata": {},
                    "execution_count": 115,
                    "data": {
                        "application/vnd.dataresource+json": {
                            "schema": {
                                "fields": [
                                    {
                                        "name": "clID"
                                    },
                                    {
                                        "name": "total_payed"
                                    }
                                ]
                            },
                            "data": [
                                {
                                    "clID": "1",
                                    "total_payed": "1100"
                                }
                            ]
                        },
                        "text/html": [
                            "<table>",
                            "<tr><th>clID</th><th>total_payed</th></tr>",
                            "<tr><td>1</td><td>1100</td></tr>",
                            "</table>"
                        ]
                    }
                }
            ],
            "execution_count": 115
        }
    ]
}