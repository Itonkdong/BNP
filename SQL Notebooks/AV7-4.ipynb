{
    "metadata": {
        "kernelspec": {
            "name": "SQL",
            "display_name": "SQL",
            "language": "sql"
        },
        "language_info": {
            "name": "sql",
            "version": ""
        }
    },
    "nbformat_minor": 2,
    "nbformat": 4,
    "cells": [
        {
            "cell_type": "markdown",
            "source": [
                "# Auditoriska vezhba 7"
            ],
            "metadata": {
                "azdata_cell_guid": "26b558d3-6e0b-4c11-81ec-d63374fa6a3c"
            },
            "attachments": {}
        },
        {
            "cell_type": "markdown",
            "source": [
                "## Zadacha 4."
            ],
            "metadata": {
                "azdata_cell_guid": "9360f564-0224-4603-ac5c-0c18705dd850"
            },
            "attachments": {}
        },
        {
            "cell_type": "code",
            "source": [
                "select o.*\r\n",
                "from [Order] o\r\n",
                "    join Part p on o.PartNumber = p.PartNumber\r\n",
                "where p.[Description] like 'ROAD%'"
            ],
            "metadata": {
                "azdata_cell_guid": "d380109c-96fa-4b2a-a385-fdff60883f7f",
                "language": "sql"
            },
            "outputs": [
                {
                    "output_type": "display_data",
                    "data": {
                        "text/html": "(5 rows affected)"
                    },
                    "metadata": {}
                },
                {
                    "output_type": "display_data",
                    "data": {
                        "text/html": "Total execution time: 00:00:00.005"
                    },
                    "metadata": {}
                },
                {
                    "output_type": "execute_result",
                    "execution_count": 10,
                    "data": {
                        "application/vnd.dataresource+json": {
                            "schema": {
                                "fields": [
                                    {
                                        "name": "OrderedOn"
                                    },
                                    {
                                        "name": "Name"
                                    },
                                    {
                                        "name": "PartNumber"
                                    },
                                    {
                                        "name": "Quantity"
                                    },
                                    {
                                        "name": "Remarks"
                                    }
                                ]
                            },
                            "data": [
                                {
                                    "OrderedOn": "1996-05-19",
                                    "Name": "TRUE WHEEL",
                                    "PartNumber": "76",
                                    "Quantity": "3",
                                    "Remarks": "PAID"
                                },
                                {
                                    "OrderedOn": "1996-01-17",
                                    "Name": "BIKE SPEC",
                                    "PartNumber": "76",
                                    "Quantity": "11",
                                    "Remarks": "PAID"
                                },
                                {
                                    "OrderedOn": "1996-01-17",
                                    "Name": "LE SHOPPE",
                                    "PartNumber": "76",
                                    "Quantity": "5",
                                    "Remarks": "PAID"
                                },
                                {
                                    "OrderedOn": "1996-07-01",
                                    "Name": "AAA BIKE",
                                    "PartNumber": "76",
                                    "Quantity": "4",
                                    "Remarks": "PAID"
                                },
                                {
                                    "OrderedOn": "1996-07-11",
                                    "Name": "JACKS BIKE",
                                    "PartNumber": "76",
                                    "Quantity": "14",
                                    "Remarks": "PAID"
                                }
                            ]
                        },
                        "text/html": "<table><tr><th>OrderedOn</th><th>Name</th><th>PartNumber</th><th>Quantity</th><th>Remarks</th></tr><tr><td>1996-05-19</td><td>TRUE WHEEL</td><td>76</td><td>3</td><td>PAID</td></tr><tr><td>1996-01-17</td><td>BIKE SPEC</td><td>76</td><td>11</td><td>PAID</td></tr><tr><td>1996-01-17</td><td>LE SHOPPE</td><td>76</td><td>5</td><td>PAID</td></tr><tr><td>1996-07-01</td><td>AAA BIKE</td><td>76</td><td>4</td><td>PAID</td></tr><tr><td>1996-07-11</td><td>JACKS BIKE</td><td>76</td><td>14</td><td>PAID</td></tr></table>"
                    },
                    "metadata": {}
                }
            ],
            "execution_count": 10
        },
        {
            "cell_type": "code",
            "source": [
                "select avg(p.Price * o.Quantity)\r\n",
                "from [Order] o\r\n",
                "    join Part p on o.PartNumber = p.PartNumber"
            ],
            "metadata": {
                "azdata_cell_guid": "6bbe5c5c-5d67-4fb1-88ec-4d5b2351bba6",
                "language": "sql"
            },
            "outputs": [
                {
                    "output_type": "display_data",
                    "data": {
                        "text/html": "(1 row affected)"
                    },
                    "metadata": {}
                },
                {
                    "output_type": "display_data",
                    "data": {
                        "text/html": "Total execution time: 00:00:00.513"
                    },
                    "metadata": {}
                },
                {
                    "output_type": "execute_result",
                    "execution_count": 11,
                    "data": {
                        "application/vnd.dataresource+json": {
                            "schema": {
                                "fields": [
                                    {
                                        "name": "(No column name)"
                                    }
                                ]
                            },
                            "data": [
                                {
                                    "(No column name)": "2405.003571"
                                }
                            ]
                        },
                        "text/html": "<table><tr><th>(No column name)</th></tr><tr><td>2405.003571</td></tr></table>"
                    },
                    "metadata": {}
                }
            ],
            "execution_count": 11
        },
        {
            "cell_type": "code",
            "source": [
                "select o.Name, o.OrderedOn\r\n",
                "from [Order] o\r\n",
                "    join Part p on o.PartNumber = p.PartNumber\r\n",
                "where p.Price * o.Quantity > (\r\n",
                "    select avg(p.Price * o.Quantity)\r\n",
                "    from [Order] o\r\n",
                "    join Part p on o.PartNumber = p.PartNumber\r\n",
                ")"
            ],
            "metadata": {
                "azdata_cell_guid": "5610afbc-3536-435f-8494-8ec242697833",
                "language": "sql"
            },
            "outputs": [
                {
                    "output_type": "display_data",
                    "data": {
                        "text/html": "(5 rows affected)"
                    },
                    "metadata": {}
                },
                {
                    "output_type": "display_data",
                    "data": {
                        "text/html": "Total execution time: 00:00:00.024"
                    },
                    "metadata": {}
                },
                {
                    "output_type": "execute_result",
                    "execution_count": 16,
                    "data": {
                        "application/vnd.dataresource+json": {
                            "schema": {
                                "fields": [
                                    {
                                        "name": "Name"
                                    },
                                    {
                                        "name": "OrderedOn"
                                    }
                                ]
                            },
                            "data": [
                                {
                                    "Name": "BIKE SPEC",
                                    "OrderedOn": "1996-05-30"
                                },
                                {
                                    "Name": "BIKE SPEC",
                                    "OrderedOn": "1996-01-17"
                                },
                                {
                                    "Name": "LE SHOPPE",
                                    "OrderedOn": "1996-01-17"
                                },
                                {
                                    "Name": "LE SHOPPE",
                                    "OrderedOn": "1996-06-01"
                                },
                                {
                                    "Name": "JACKS BIKE",
                                    "OrderedOn": "1996-07-11"
                                }
                            ]
                        },
                        "text/html": "<table><tr><th>Name</th><th>OrderedOn</th></tr><tr><td>BIKE SPEC</td><td>1996-05-30</td></tr><tr><td>BIKE SPEC</td><td>1996-01-17</td></tr><tr><td>LE SHOPPE</td><td>1996-01-17</td></tr><tr><td>LE SHOPPE</td><td>1996-06-01</td></tr><tr><td>JACKS BIKE</td><td>1996-07-11</td></tr></table>"
                    },
                    "metadata": {}
                }
            ],
            "execution_count": 16
        },
        {
            "cell_type": "code",
            "source": [
                "select o.Name, avg(o.Quantity) as 'avg_ordered_quantity'\r\n",
                "from [Order] o\r\n",
                "group by o.Name"
            ],
            "metadata": {
                "azdata_cell_guid": "053e1c40-e43d-4036-9e20-c4c006c6a6f8",
                "language": "sql"
            },
            "outputs": [
                {
                    "output_type": "display_data",
                    "data": {
                        "text/html": "(5 rows affected)"
                    },
                    "metadata": {}
                },
                {
                    "output_type": "display_data",
                    "data": {
                        "text/html": "Total execution time: 00:00:00.004"
                    },
                    "metadata": {}
                },
                {
                    "output_type": "execute_result",
                    "execution_count": 21,
                    "data": {
                        "application/vnd.dataresource+json": {
                            "schema": {
                                "fields": [
                                    {
                                        "name": "Name"
                                    },
                                    {
                                        "name": "avg_ordered_quantity"
                                    }
                                ]
                            },
                            "data": [
                                {
                                    "Name": "AAA BIKE",
                                    "avg_ordered_quantity": "2"
                                },
                                {
                                    "Name": "BIKE SPEC",
                                    "avg_ordered_quantity": "7"
                                },
                                {
                                    "Name": "JACKS BIKE",
                                    "avg_ordered_quantity": "14"
                                },
                                {
                                    "Name": "LE SHOPPE",
                                    "avg_ordered_quantity": "4"
                                },
                                {
                                    "Name": "TRUE WHEEL",
                                    "avg_ordered_quantity": "4"
                                }
                            ]
                        },
                        "text/html": "<table><tr><th>Name</th><th>avg_ordered_quantity</th></tr><tr><td>AAA BIKE</td><td>2</td></tr><tr><td>BIKE SPEC</td><td>7</td></tr><tr><td>JACKS BIKE</td><td>14</td></tr><tr><td>LE SHOPPE</td><td>4</td></tr><tr><td>TRUE WHEEL</td><td>4</td></tr></table>"
                    },
                    "metadata": {}
                }
            ],
            "execution_count": 21
        },
        {
            "cell_type": "code",
            "source": [
                "select o.PartNumber, sum(o.Quantity * p.Price) as 'total gain', count(*) as 'total orders', avg(o.Quantity * p.Price) as 'avg gain'\r\n",
                "from [Order] o\r\n",
                " join Part p on o.PartNumber = p.PartNumber\r\n",
                "group by o.PartNumber\r\n",
                "having sum(o.Quantity * p.Price) > avg(o.Quantity * p.Price) \r\n",
                "\r\n",
                "GO\r\n",
                "\r\n",
                "-- To Compare\r\n",
                "\r\n",
                "select o.PartNumber, sum(o.Quantity * p.Price) as 'total gain', count(*) as 'total orders', avg(o.Quantity * p.Price) as 'avg gain'\r\n",
                "from [Order] o\r\n",
                " join Part p on o.PartNumber = p.PartNumber\r\n",
                "group by o.PartNumber"
            ],
            "metadata": {
                "azdata_cell_guid": "4c7c3262-6f2c-4949-897e-d7665ba5f38b",
                "language": "sql"
            },
            "outputs": [
                {
                    "output_type": "display_data",
                    "data": {
                        "text/html": "(3 rows affected)"
                    },
                    "metadata": {}
                },
                {
                    "output_type": "display_data",
                    "data": {
                        "text/html": "(6 rows affected)"
                    },
                    "metadata": {}
                },
                {
                    "output_type": "display_data",
                    "data": {
                        "text/html": "Total execution time: 00:00:00.927"
                    },
                    "metadata": {}
                },
                {
                    "output_type": "execute_result",
                    "execution_count": 37,
                    "data": {
                        "application/vnd.dataresource+json": {
                            "schema": {
                                "fields": [
                                    {
                                        "name": "PartNumber"
                                    },
                                    {
                                        "name": "total gain"
                                    },
                                    {
                                        "name": "total orders"
                                    },
                                    {
                                        "name": "avg gain"
                                    }
                                ]
                            },
                            "data": [
                                {
                                    "PartNumber": "10",
                                    "total gain": "8400.00",
                                    "total orders": "4",
                                    "avg gain": "2100.000000"
                                },
                                {
                                    "PartNumber": "23",
                                    "total gain": "4906.30",
                                    "total orders": "2",
                                    "avg gain": "2453.150000"
                                },
                                {
                                    "PartNumber": "76",
                                    "total gain": "19610.00",
                                    "total orders": "5",
                                    "avg gain": "3922.000000"
                                }
                            ]
                        },
                        "text/html": "<table><tr><th>PartNumber</th><th>total gain</th><th>total orders</th><th>avg gain</th></tr><tr><td>10</td><td>8400.00</td><td>4</td><td>2100.000000</td></tr><tr><td>23</td><td>4906.30</td><td>2</td><td>2453.150000</td></tr><tr><td>76</td><td>19610.00</td><td>5</td><td>3922.000000</td></tr></table>"
                    },
                    "metadata": {}
                },
                {
                    "output_type": "execute_result",
                    "execution_count": 37,
                    "data": {
                        "application/vnd.dataresource+json": {
                            "schema": {
                                "fields": [
                                    {
                                        "name": "PartNumber"
                                    },
                                    {
                                        "name": "total gain"
                                    },
                                    {
                                        "name": "total orders"
                                    },
                                    {
                                        "name": "avg gain"
                                    }
                                ]
                            },
                            "data": [
                                {
                                    "PartNumber": "10",
                                    "total gain": "8400.00",
                                    "total orders": "4",
                                    "avg gain": "2100.000000"
                                },
                                {
                                    "PartNumber": "23",
                                    "total gain": "4906.30",
                                    "total orders": "2",
                                    "avg gain": "2453.150000"
                                },
                                {
                                    "PartNumber": "42",
                                    "total gain": "196.00",
                                    "total orders": "1",
                                    "avg gain": "196.000000"
                                },
                                {
                                    "PartNumber": "46",
                                    "total gain": "15.25",
                                    "total orders": "1",
                                    "avg gain": "15.250000"
                                },
                                {
                                    "PartNumber": "54",
                                    "total gain": "542.50",
                                    "total orders": "1",
                                    "avg gain": "542.500000"
                                },
                                {
                                    "PartNumber": "76",
                                    "total gain": "19610.00",
                                    "total orders": "5",
                                    "avg gain": "3922.000000"
                                }
                            ]
                        },
                        "text/html": "<table><tr><th>PartNumber</th><th>total gain</th><th>total orders</th><th>avg gain</th></tr><tr><td>10</td><td>8400.00</td><td>4</td><td>2100.000000</td></tr><tr><td>23</td><td>4906.30</td><td>2</td><td>2453.150000</td></tr><tr><td>42</td><td>196.00</td><td>1</td><td>196.000000</td></tr><tr><td>46</td><td>15.25</td><td>1</td><td>15.250000</td></tr><tr><td>54</td><td>542.50</td><td>1</td><td>542.500000</td></tr><tr><td>76</td><td>19610.00</td><td>5</td><td>3922.000000</td></tr></table>"
                    },
                    "metadata": {}
                }
            ],
            "execution_count": 37
        },
        {
            "cell_type": "code",
            "source": [
                "select o.*\r\n",
                "from [Order] o\r\n",
                " join Part p on o.PartNumber = p.PartNumber\r\n",
                "where p.Price  >1000"
            ],
            "metadata": {
                "azdata_cell_guid": "1a21cb6c-a650-4423-8141-c9d34e977bfb",
                "language": "sql"
            },
            "outputs": [
                {
                    "output_type": "display_data",
                    "data": {
                        "text/html": "(4 rows affected)"
                    },
                    "metadata": {}
                },
                {
                    "output_type": "display_data",
                    "data": {
                        "text/html": "Total execution time: 00:00:00.006"
                    },
                    "metadata": {}
                },
                {
                    "output_type": "execute_result",
                    "execution_count": 41,
                    "data": {
                        "application/vnd.dataresource+json": {
                            "schema": {
                                "fields": [
                                    {
                                        "name": "OrderedOn"
                                    },
                                    {
                                        "name": "Name"
                                    },
                                    {
                                        "name": "PartNumber"
                                    },
                                    {
                                        "name": "Quantity"
                                    },
                                    {
                                        "name": "Remarks"
                                    }
                                ]
                            },
                            "data": [
                                {
                                    "OrderedOn": "1996-09-02",
                                    "Name": "TRUE WHEEL",
                                    "PartNumber": "10",
                                    "Quantity": "1",
                                    "Remarks": "PAID"
                                },
                                {
                                    "OrderedOn": "1996-05-30",
                                    "Name": "BIKE SPEC",
                                    "PartNumber": "10",
                                    "Quantity": "2",
                                    "Remarks": "PAID"
                                },
                                {
                                    "OrderedOn": "1996-06-01",
                                    "Name": "LE SHOPPE",
                                    "PartNumber": "10",
                                    "Quantity": "3",
                                    "Remarks": "PAID"
                                },
                                {
                                    "OrderedOn": "1996-06-01",
                                    "Name": "AAA BIKE",
                                    "PartNumber": "10",
                                    "Quantity": "1",
                                    "Remarks": "PAID"
                                }
                            ]
                        },
                        "text/html": "<table><tr><th>OrderedOn</th><th>Name</th><th>PartNumber</th><th>Quantity</th><th>Remarks</th></tr><tr><td>1996-09-02</td><td>TRUE WHEEL</td><td>10</td><td>1</td><td>PAID</td></tr><tr><td>1996-05-30</td><td>BIKE SPEC</td><td>10</td><td>2</td><td>PAID</td></tr><tr><td>1996-06-01</td><td>LE SHOPPE</td><td>10</td><td>3</td><td>PAID</td></tr><tr><td>1996-06-01</td><td>AAA BIKE</td><td>10</td><td>1</td><td>PAID</td></tr></table>"
                    },
                    "metadata": {}
                }
            ],
            "execution_count": 41
        },
        {
            "cell_type": "code",
            "source": [
                "select top 1 *\r\n",
                "from [Order] o\r\n",
                "order by o.quantity desc\r\n",
                "\r\n",
                "go\r\n",
                "\r\n",
                "--or\r\n",
                "\r\n",
                "SELECT *\r\n",
                "FROM dbo.[Order]\r\n",
                "WHERE Quantity >= ALL  (\r\n",
                "                        SELECT Quantity\r\n",
                "                        FROM dbo.[Order]\r\n",
                "                        );"
            ],
            "metadata": {
                "azdata_cell_guid": "4b1e88ad-019d-4c93-b56a-12d7616e03b8",
                "language": "sql"
            },
            "outputs": [
                {
                    "output_type": "display_data",
                    "data": {
                        "text/html": "(1 row affected)"
                    },
                    "metadata": {}
                },
                {
                    "output_type": "display_data",
                    "data": {
                        "text/html": "(1 row affected)"
                    },
                    "metadata": {}
                },
                {
                    "output_type": "display_data",
                    "data": {
                        "text/html": "Total execution time: 00:00:01.073"
                    },
                    "metadata": {}
                },
                {
                    "output_type": "execute_result",
                    "execution_count": 46,
                    "data": {
                        "application/vnd.dataresource+json": {
                            "schema": {
                                "fields": [
                                    {
                                        "name": "OrderedOn"
                                    },
                                    {
                                        "name": "Name"
                                    },
                                    {
                                        "name": "PartNumber"
                                    },
                                    {
                                        "name": "Quantity"
                                    },
                                    {
                                        "name": "Remarks"
                                    }
                                ]
                            },
                            "data": [
                                {
                                    "OrderedOn": "1996-07-11",
                                    "Name": "JACKS BIKE",
                                    "PartNumber": "76",
                                    "Quantity": "14",
                                    "Remarks": "PAID"
                                }
                            ]
                        },
                        "text/html": "<table><tr><th>OrderedOn</th><th>Name</th><th>PartNumber</th><th>Quantity</th><th>Remarks</th></tr><tr><td>1996-07-11</td><td>JACKS BIKE</td><td>76</td><td>14</td><td>PAID</td></tr></table>"
                    },
                    "metadata": {}
                },
                {
                    "output_type": "execute_result",
                    "execution_count": 46,
                    "data": {
                        "application/vnd.dataresource+json": {
                            "schema": {
                                "fields": [
                                    {
                                        "name": "OrderedOn"
                                    },
                                    {
                                        "name": "Name"
                                    },
                                    {
                                        "name": "PartNumber"
                                    },
                                    {
                                        "name": "Quantity"
                                    },
                                    {
                                        "name": "Remarks"
                                    }
                                ]
                            },
                            "data": [
                                {
                                    "OrderedOn": "1996-07-11",
                                    "Name": "JACKS BIKE",
                                    "PartNumber": "76",
                                    "Quantity": "14",
                                    "Remarks": "PAID"
                                }
                            ]
                        },
                        "text/html": "<table><tr><th>OrderedOn</th><th>Name</th><th>PartNumber</th><th>Quantity</th><th>Remarks</th></tr><tr><td>1996-07-11</td><td>JACKS BIKE</td><td>76</td><td>14</td><td>PAID</td></tr></table>"
                    },
                    "metadata": {}
                }
            ],
            "execution_count": 46
        },
        {
            "cell_type": "code",
            "source": [
                "select o.*\r\n",
                "-- select p.*\r\n",
                "from [Order] o\r\n",
                "    join Part p on o.PartNumber = p.PartNumber\r\n",
                "where o.Quantity in (\r\n",
                "    select o1.Quantity\r\n",
                "    from [Order] o1\r\n",
                "    where o1.OrderedOn != o.OrderedOn and o1.Name != o.Name\r\n",
                ")\r\n",
                "ORDER BY Quantity, PartNumber;\r\n",
                "\r\n",
                "go\r\n",
                "\r\n",
                "SELECT *\r\n",
                "FROM [Order] o1\r\n",
                "WHERE Quantity = ANY (\r\n",
                "                    SELECT Quantity\r\n",
                "                    FROM [Order] o2\r\n",
                "                    WHERE o1.PartNumber <> o2.PartNumber\r\n",
                "                    )\r\n",
                "ORDER BY Quantity, PartNumber;"
            ],
            "metadata": {
                "azdata_cell_guid": "a859bf3e-1440-4a0c-a10c-5096b481076e",
                "language": "sql"
            },
            "outputs": [
                {
                    "output_type": "display_data",
                    "data": {
                        "text/html": "(7 rows affected)"
                    },
                    "metadata": {}
                },
                {
                    "output_type": "display_data",
                    "data": {
                        "text/html": "(7 rows affected)"
                    },
                    "metadata": {}
                },
                {
                    "output_type": "display_data",
                    "data": {
                        "text/html": "Total execution time: 00:00:00.014"
                    },
                    "metadata": {}
                },
                {
                    "output_type": "execute_result",
                    "execution_count": 52,
                    "data": {
                        "application/vnd.dataresource+json": {
                            "schema": {
                                "fields": [
                                    {
                                        "name": "OrderedOn"
                                    },
                                    {
                                        "name": "Name"
                                    },
                                    {
                                        "name": "PartNumber"
                                    },
                                    {
                                        "name": "Quantity"
                                    },
                                    {
                                        "name": "Remarks"
                                    }
                                ]
                            },
                            "data": [
                                {
                                    "OrderedOn": "1996-09-02",
                                    "Name": "TRUE WHEEL",
                                    "PartNumber": "10",
                                    "Quantity": "1",
                                    "Remarks": "PAID"
                                },
                                {
                                    "OrderedOn": "1996-06-01",
                                    "Name": "AAA BIKE",
                                    "PartNumber": "10",
                                    "Quantity": "1",
                                    "Remarks": "PAID"
                                },
                                {
                                    "OrderedOn": "1996-07-01",
                                    "Name": "AAA BIKE",
                                    "PartNumber": "46",
                                    "Quantity": "1",
                                    "Remarks": "PAID"
                                },
                                {
                                    "OrderedOn": "1996-06-01",
                                    "Name": "LE SHOPPE",
                                    "PartNumber": "10",
                                    "Quantity": "3",
                                    "Remarks": "PAID"
                                },
                                {
                                    "OrderedOn": "1996-05-19",
                                    "Name": "TRUE WHEEL",
                                    "PartNumber": "76",
                                    "Quantity": "3",
                                    "Remarks": "PAID"
                                },
                                {
                                    "OrderedOn": "1996-05-30",
                                    "Name": "BIKE SPEC",
                                    "PartNumber": "23",
                                    "Quantity": "8",
                                    "Remarks": "PAID"
                                },
                                {
                                    "OrderedOn": "1996-06-30",
                                    "Name": "TRUE WHEEL",
                                    "PartNumber": "42",
                                    "Quantity": "8",
                                    "Remarks": "PAID"
                                }
                            ]
                        },
                        "text/html": "<table><tr><th>OrderedOn</th><th>Name</th><th>PartNumber</th><th>Quantity</th><th>Remarks</th></tr><tr><td>1996-09-02</td><td>TRUE WHEEL</td><td>10</td><td>1</td><td>PAID</td></tr><tr><td>1996-06-01</td><td>AAA BIKE</td><td>10</td><td>1</td><td>PAID</td></tr><tr><td>1996-07-01</td><td>AAA BIKE</td><td>46</td><td>1</td><td>PAID</td></tr><tr><td>1996-06-01</td><td>LE SHOPPE</td><td>10</td><td>3</td><td>PAID</td></tr><tr><td>1996-05-19</td><td>TRUE WHEEL</td><td>76</td><td>3</td><td>PAID</td></tr><tr><td>1996-05-30</td><td>BIKE SPEC</td><td>23</td><td>8</td><td>PAID</td></tr><tr><td>1996-06-30</td><td>TRUE WHEEL</td><td>42</td><td>8</td><td>PAID</td></tr></table>"
                    },
                    "metadata": {}
                },
                {
                    "output_type": "execute_result",
                    "execution_count": 52,
                    "data": {
                        "application/vnd.dataresource+json": {
                            "schema": {
                                "fields": [
                                    {
                                        "name": "OrderedOn"
                                    },
                                    {
                                        "name": "Name"
                                    },
                                    {
                                        "name": "PartNumber"
                                    },
                                    {
                                        "name": "Quantity"
                                    },
                                    {
                                        "name": "Remarks"
                                    }
                                ]
                            },
                            "data": [
                                {
                                    "OrderedOn": "1996-09-02",
                                    "Name": "TRUE WHEEL",
                                    "PartNumber": "10",
                                    "Quantity": "1",
                                    "Remarks": "PAID"
                                },
                                {
                                    "OrderedOn": "1996-06-01",
                                    "Name": "AAA BIKE",
                                    "PartNumber": "10",
                                    "Quantity": "1",
                                    "Remarks": "PAID"
                                },
                                {
                                    "OrderedOn": "1996-07-01",
                                    "Name": "AAA BIKE",
                                    "PartNumber": "46",
                                    "Quantity": "1",
                                    "Remarks": "PAID"
                                },
                                {
                                    "OrderedOn": "1996-06-01",
                                    "Name": "LE SHOPPE",
                                    "PartNumber": "10",
                                    "Quantity": "3",
                                    "Remarks": "PAID"
                                },
                                {
                                    "OrderedOn": "1996-05-19",
                                    "Name": "TRUE WHEEL",
                                    "PartNumber": "76",
                                    "Quantity": "3",
                                    "Remarks": "PAID"
                                },
                                {
                                    "OrderedOn": "1996-05-30",
                                    "Name": "BIKE SPEC",
                                    "PartNumber": "23",
                                    "Quantity": "8",
                                    "Remarks": "PAID"
                                },
                                {
                                    "OrderedOn": "1996-06-30",
                                    "Name": "TRUE WHEEL",
                                    "PartNumber": "42",
                                    "Quantity": "8",
                                    "Remarks": "PAID"
                                }
                            ]
                        },
                        "text/html": "<table><tr><th>OrderedOn</th><th>Name</th><th>PartNumber</th><th>Quantity</th><th>Remarks</th></tr><tr><td>1996-09-02</td><td>TRUE WHEEL</td><td>10</td><td>1</td><td>PAID</td></tr><tr><td>1996-06-01</td><td>AAA BIKE</td><td>10</td><td>1</td><td>PAID</td></tr><tr><td>1996-07-01</td><td>AAA BIKE</td><td>46</td><td>1</td><td>PAID</td></tr><tr><td>1996-06-01</td><td>LE SHOPPE</td><td>10</td><td>3</td><td>PAID</td></tr><tr><td>1996-05-19</td><td>TRUE WHEEL</td><td>76</td><td>3</td><td>PAID</td></tr><tr><td>1996-05-30</td><td>BIKE SPEC</td><td>23</td><td>8</td><td>PAID</td></tr><tr><td>1996-06-30</td><td>TRUE WHEEL</td><td>42</td><td>8</td><td>PAID</td></tr></table>"
                    },
                    "metadata": {}
                }
            ],
            "execution_count": 52
        }
    ]
}