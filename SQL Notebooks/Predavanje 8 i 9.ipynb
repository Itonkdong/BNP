{
    "metadata": {
        "kernelspec": {
            "name": "SQL",
            "display_name": "SQL",
            "language": "sql"
        },
        "language_info": {
            "name": "sql",
            "version": ""
        }
    },
    "nbformat_minor": 2,
    "nbformat": 4,
    "cells": [
        {
            "cell_type": "markdown",
            "source": [
                "# **Predavanje 8 i 9**"
            ],
            "metadata": {
                "language": "sql",
                "azdata_cell_guid": "e6f0b7e2-766d-4e0d-96a6-16e4a74e96b1"
            },
            "attachments": {}
        },
        {
            "cell_type": "markdown",
            "source": [
                "## Voved vo SQL (DML)"
            ],
            "metadata": {
                "language": "sql",
                "azdata_cell_guid": "978cd94e-097a-4a5d-be1d-46456c221f7b"
            },
            "attachments": {}
        },
        {
            "cell_type": "code",
            "source": [
                "USE company_db"
            ],
            "metadata": {
                "language": "sql",
                "azdata_cell_guid": "f7c96b45-0b8d-44b8-91e4-e36c1e586a64"
            },
            "outputs": [
                {
                    "output_type": "display_data",
                    "data": {
                        "text/html": "Commands completed successfully."
                    },
                    "metadata": {}
                },
                {
                    "output_type": "display_data",
                    "data": {
                        "text/html": "Total execution time: 00:00:00.001"
                    },
                    "metadata": {}
                }
            ],
            "execution_count": 3
        },
        {
            "cell_type": "code",
            "source": [
                "SELECT e.Bdate, e.Address\r\n",
                "FROM EMPLOYEE e\r\n",
                "WHERE e.Fname = 'John' and e.Minit = 'B' and e.Lname = 'Smith'"
            ],
            "metadata": {
                "azdata_cell_guid": "bb599023-c05b-4f7a-b80b-67db91649376",
                "language": "sql",
                "tags": []
            },
            "outputs": [
                {
                    "output_type": "display_data",
                    "data": {
                        "text/html": "(1 row affected)"
                    },
                    "metadata": {}
                },
                {
                    "output_type": "display_data",
                    "data": {
                        "text/html": "Total execution time: 00:00:00.004"
                    },
                    "metadata": {}
                },
                {
                    "output_type": "execute_result",
                    "execution_count": 5,
                    "data": {
                        "application/vnd.dataresource+json": {
                            "schema": {
                                "fields": [
                                    {
                                        "name": "Bdate"
                                    },
                                    {
                                        "name": "Address"
                                    }
                                ]
                            },
                            "data": [
                                {
                                    "Bdate": "1965-01-09",
                                    "Address": "731 Fondren, Houston, TX"
                                }
                            ]
                        },
                        "text/html": "<table><tr><th>Bdate</th><th>Address</th></tr><tr><td>1965-01-09</td><td>731 Fondren, Houston, TX</td></tr></table>"
                    },
                    "metadata": {}
                }
            ],
            "execution_count": 5
        },
        {
            "cell_type": "code",
            "source": [
                "select e.fname, e.lname\r\n",
                "from Employee e\r\n",
                "where e.Address like '% Houston, TX'"
            ],
            "metadata": {
                "language": "sql",
                "azdata_cell_guid": "2729073e-d6a3-4aa9-9f26-9ce7914e53c0"
            },
            "outputs": [
                {
                    "output_type": "display_data",
                    "data": {
                        "text/html": "(5 rows affected)"
                    },
                    "metadata": {}
                },
                {
                    "output_type": "display_data",
                    "data": {
                        "text/html": "Total execution time: 00:00:00.002"
                    },
                    "metadata": {}
                },
                {
                    "output_type": "execute_result",
                    "execution_count": 23,
                    "data": {
                        "application/vnd.dataresource+json": {
                            "schema": {
                                "fields": [
                                    {
                                        "name": "fname"
                                    },
                                    {
                                        "name": "lname"
                                    }
                                ]
                            },
                            "data": [
                                {
                                    "fname": "John",
                                    "lname": "Smith"
                                },
                                {
                                    "fname": "Franklin",
                                    "lname": "Wong"
                                },
                                {
                                    "fname": "Joyce",
                                    "lname": "English"
                                },
                                {
                                    "fname": "James",
                                    "lname": "Borg"
                                },
                                {
                                    "fname": "Ahmad",
                                    "lname": "Jabbar"
                                }
                            ]
                        },
                        "text/html": "<table><tr><th>fname</th><th>lname</th></tr><tr><td>John</td><td>Smith</td></tr><tr><td>Franklin</td><td>Wong</td></tr><tr><td>Joyce</td><td>English</td></tr><tr><td>James</td><td>Borg</td></tr><tr><td>Ahmad</td><td>Jabbar</td></tr></table>"
                    },
                    "metadata": {}
                }
            ],
            "execution_count": 23
        },
        {
            "cell_type": "code",
            "source": [
                "select e.Fname, e.Lname\r\n",
                "from Employee e\r\n",
                "where e.Bdate > '1950' and e.Bdate < '1960'"
            ],
            "metadata": {
                "azdata_cell_guid": "4177d595-dcb2-41dd-9c7e-36d0e935e228",
                "language": "sql",
                "tags": []
            },
            "outputs": [
                {
                    "output_type": "display_data",
                    "data": {
                        "text/html": "(1 row affected)"
                    },
                    "metadata": {}
                },
                {
                    "output_type": "display_data",
                    "data": {
                        "text/html": "Total execution time: 00:00:00.003"
                    },
                    "metadata": {}
                },
                {
                    "output_type": "execute_result",
                    "execution_count": 26,
                    "data": {
                        "application/vnd.dataresource+json": {
                            "schema": {
                                "fields": [
                                    {
                                        "name": "Fname"
                                    },
                                    {
                                        "name": "Lname"
                                    }
                                ]
                            },
                            "data": [
                                {
                                    "Fname": "Franklin",
                                    "Lname": "Wong"
                                }
                            ]
                        },
                        "text/html": "<table><tr><th>Fname</th><th>Lname</th></tr><tr><td>Franklin</td><td>Wong</td></tr></table>"
                    },
                    "metadata": {}
                }
            ],
            "execution_count": 26
        },
        {
            "cell_type": "code",
            "source": [
                "select e.Fname, e.Lname, e.Salary ,e.Salary * 1.1 as 'Increased Salary'\r\n",
                "from Employee e\r\n",
                "where e.Fname = 'John' and e.Minit = 'B' and e.Lname = 'Smith'"
            ],
            "metadata": {
                "azdata_cell_guid": "65ac0aee-bfe5-48f9-ac0f-c15ed300f500",
                "language": "sql"
            },
            "outputs": [
                {
                    "output_type": "display_data",
                    "data": {
                        "text/html": "(1 row affected)"
                    },
                    "metadata": {}
                },
                {
                    "output_type": "display_data",
                    "data": {
                        "text/html": "Total execution time: 00:00:00.003"
                    },
                    "metadata": {}
                },
                {
                    "output_type": "execute_result",
                    "execution_count": 30,
                    "data": {
                        "application/vnd.dataresource+json": {
                            "schema": {
                                "fields": [
                                    {
                                        "name": "Fname"
                                    },
                                    {
                                        "name": "Lname"
                                    },
                                    {
                                        "name": "Salary"
                                    },
                                    {
                                        "name": "Increased Salary"
                                    }
                                ]
                            },
                            "data": [
                                {
                                    "Fname": "John",
                                    "Lname": "Smith",
                                    "Salary": "30000.00",
                                    "Increased Salary": "33000.000"
                                }
                            ]
                        },
                        "text/html": "<table><tr><th>Fname</th><th>Lname</th><th>Salary</th><th>Increased Salary</th></tr><tr><td>John</td><td>Smith</td><td>30000.00</td><td>33000.000</td></tr></table>"
                    },
                    "metadata": {}
                }
            ],
            "execution_count": 30
        },
        {
            "cell_type": "code",
            "source": [
                "select e.Fname, e.Lname, e.Address\r\n",
                "from Employee e join Department d on e.Dno = d.Dnumber\r\n",
                "where d.Dname = 'Research'"
            ],
            "metadata": {
                "azdata_cell_guid": "c28e9fd9-2cf6-4f06-ba37-efdbdfe81a4f",
                "language": "sql"
            },
            "outputs": [
                {
                    "output_type": "display_data",
                    "data": {
                        "text/html": "(4 rows affected)"
                    },
                    "metadata": {}
                },
                {
                    "output_type": "display_data",
                    "data": {
                        "text/html": "Total execution time: 00:00:00.004"
                    },
                    "metadata": {}
                },
                {
                    "output_type": "execute_result",
                    "execution_count": 34,
                    "data": {
                        "application/vnd.dataresource+json": {
                            "schema": {
                                "fields": [
                                    {
                                        "name": "Fname"
                                    },
                                    {
                                        "name": "Lname"
                                    },
                                    {
                                        "name": "Address"
                                    }
                                ]
                            },
                            "data": [
                                {
                                    "Fname": "John",
                                    "Lname": "Smith",
                                    "Address": "731 Fondren, Houston, TX"
                                },
                                {
                                    "Fname": "Franklin",
                                    "Lname": "Wong",
                                    "Address": "638 Voss, Houston, TX"
                                },
                                {
                                    "Fname": "Joyce",
                                    "Lname": "English",
                                    "Address": "5631 Rice, Houston, TX"
                                },
                                {
                                    "Fname": "Ramesh",
                                    "Lname": "Narayan",
                                    "Address": "975 Fire Oak, Humble, TX"
                                }
                            ]
                        },
                        "text/html": "<table><tr><th>Fname</th><th>Lname</th><th>Address</th></tr><tr><td>John</td><td>Smith</td><td>731 Fondren, Houston, TX</td></tr><tr><td>Franklin</td><td>Wong</td><td>638 Voss, Houston, TX</td></tr><tr><td>Joyce</td><td>English</td><td>5631 Rice, Houston, TX</td></tr><tr><td>Ramesh</td><td>Narayan</td><td>975 Fire Oak, Humble, TX</td></tr></table>"
                    },
                    "metadata": {}
                }
            ],
            "execution_count": 34
        },
        {
            "cell_type": "code",
            "source": [
                "select p.PNumber, p.Dnum, e.LName, e.Address, e.Bdate\r\n",
                "from PROJECT p join DEPARTMENT d on p.Dnum = d.Dnumber join EMPLOYEE e on d.Mgr_ssn = e.Ssn\r\n",
                "where p.Plocation = 'Stafford'"
            ],
            "metadata": {
                "azdata_cell_guid": "85b45d96-841a-4fa9-a902-df7265e5ac8f",
                "language": "sql",
                "tags": []
            },
            "outputs": [
                {
                    "output_type": "display_data",
                    "data": {
                        "text/html": "(2 rows affected)"
                    },
                    "metadata": {}
                },
                {
                    "output_type": "display_data",
                    "data": {
                        "text/html": "Total execution time: 00:00:00.006"
                    },
                    "metadata": {}
                },
                {
                    "output_type": "execute_result",
                    "metadata": {},
                    "execution_count": 12,
                    "data": {
                        "application/vnd.dataresource+json": {
                            "schema": {
                                "fields": [
                                    {
                                        "name": "PNumber"
                                    },
                                    {
                                        "name": "Dnum"
                                    },
                                    {
                                        "name": "LName"
                                    },
                                    {
                                        "name": "Address"
                                    },
                                    {
                                        "name": "Bdate"
                                    }
                                ]
                            },
                            "data": [
                                {
                                    "PNumber": "10",
                                    "Dnum": "4",
                                    "LName": "Wallace",
                                    "Address": "291 Berry, Bellaire, TX",
                                    "Bdate": "1941-06-20"
                                },
                                {
                                    "PNumber": "30",
                                    "Dnum": "4",
                                    "LName": "Wallace",
                                    "Address": "291 Berry, Bellaire, TX",
                                    "Bdate": "1941-06-20"
                                }
                            ]
                        },
                        "text/html": [
                            "<table>",
                            "<tr><th>PNumber</th><th>Dnum</th><th>LName</th><th>Address</th><th>Bdate</th></tr>",
                            "<tr><td>10</td><td>4</td><td>Wallace</td><td>291 Berry, Bellaire, TX</td><td>1941-06-20</td></tr>",
                            "<tr><td>30</td><td>4</td><td>Wallace</td><td>291 Berry, Bellaire, TX</td><td>1941-06-20</td></tr>",
                            "</table>"
                        ]
                    }
                }
            ],
            "execution_count": 12
        },
        {
            "cell_type": "code",
            "source": [
                "select e1.Fname as employee_name, e1.Lname as employee_lastname, e2.Fname as manager_name, e2.Lname as manager_lastname\r\n",
                "from EMPLOYEE e1 join EMPLOYEE e2 on e1.Ssn = e2.Super_ssn"
            ],
            "metadata": {
                "azdata_cell_guid": "2644ab71-2037-4402-a720-33b287f67be3",
                "language": "sql",
                "tags": []
            },
            "outputs": [
                {
                    "output_type": "display_data",
                    "data": {
                        "text/html": "(7 rows affected)"
                    },
                    "metadata": {}
                },
                {
                    "output_type": "display_data",
                    "data": {
                        "text/html": "Total execution time: 00:00:00.014"
                    },
                    "metadata": {}
                },
                {
                    "output_type": "execute_result",
                    "metadata": {},
                    "execution_count": 22,
                    "data": {
                        "application/vnd.dataresource+json": {
                            "schema": {
                                "fields": [
                                    {
                                        "name": "employee_name"
                                    },
                                    {
                                        "name": "employee_lastname"
                                    },
                                    {
                                        "name": "manager_name"
                                    },
                                    {
                                        "name": "manager_lastname"
                                    }
                                ]
                            },
                            "data": [
                                {
                                    "employee_name": "Franklin",
                                    "employee_lastname": "Wong",
                                    "manager_name": "John",
                                    "manager_lastname": "Smith"
                                },
                                {
                                    "employee_name": "James",
                                    "employee_lastname": "Borg",
                                    "manager_name": "Franklin",
                                    "manager_lastname": "Wong"
                                },
                                {
                                    "employee_name": "Franklin",
                                    "employee_lastname": "Wong",
                                    "manager_name": "Joyce",
                                    "manager_lastname": "English"
                                },
                                {
                                    "employee_name": "Franklin",
                                    "employee_lastname": "Wong",
                                    "manager_name": "Ramesh",
                                    "manager_lastname": "Narayan"
                                },
                                {
                                    "employee_name": "James",
                                    "employee_lastname": "Borg",
                                    "manager_name": "Jennifer",
                                    "manager_lastname": "Wallace"
                                },
                                {
                                    "employee_name": "Jennifer",
                                    "employee_lastname": "Wallace",
                                    "manager_name": "Ahmad",
                                    "manager_lastname": "Jabbar"
                                },
                                {
                                    "employee_name": "Jennifer",
                                    "employee_lastname": "Wallace",
                                    "manager_name": "Alicia",
                                    "manager_lastname": "Zelaya"
                                }
                            ]
                        },
                        "text/html": [
                            "<table>",
                            "<tr><th>employee_name</th><th>employee_lastname</th><th>manager_name</th><th>manager_lastname</th></tr>",
                            "<tr><td>Franklin</td><td>Wong</td><td>John</td><td>Smith</td></tr>",
                            "<tr><td>James</td><td>Borg</td><td>Franklin</td><td>Wong</td></tr>",
                            "<tr><td>Franklin</td><td>Wong</td><td>Joyce</td><td>English</td></tr>",
                            "<tr><td>Franklin</td><td>Wong</td><td>Ramesh</td><td>Narayan</td></tr>",
                            "<tr><td>James</td><td>Borg</td><td>Jennifer</td><td>Wallace</td></tr>",
                            "<tr><td>Jennifer</td><td>Wallace</td><td>Ahmad</td><td>Jabbar</td></tr>",
                            "<tr><td>Jennifer</td><td>Wallace</td><td>Alicia</td><td>Zelaya</td></tr>",
                            "</table>"
                        ]
                    }
                }
            ],
            "execution_count": 22
        },
        {
            "cell_type": "code",
            "source": [
                "select distinct e.Ssn\r\n",
                "from EMPLOYEE e"
            ],
            "metadata": {
                "azdata_cell_guid": "64f62cf6-fd5a-41e8-9c48-9508c0a3df15",
                "language": "sql"
            },
            "outputs": [
                {
                    "output_type": "display_data",
                    "data": {
                        "text/html": "(8 rows affected)"
                    },
                    "metadata": {}
                },
                {
                    "output_type": "display_data",
                    "data": {
                        "text/html": "Total execution time: 00:00:00.003"
                    },
                    "metadata": {}
                },
                {
                    "output_type": "execute_result",
                    "metadata": {},
                    "execution_count": 25,
                    "data": {
                        "application/vnd.dataresource+json": {
                            "schema": {
                                "fields": [
                                    {
                                        "name": "Ssn"
                                    }
                                ]
                            },
                            "data": [
                                {
                                    "Ssn": "123456789"
                                },
                                {
                                    "Ssn": "333445555"
                                },
                                {
                                    "Ssn": "453453453"
                                },
                                {
                                    "Ssn": "666884444"
                                },
                                {
                                    "Ssn": "888665555"
                                },
                                {
                                    "Ssn": "987654321"
                                },
                                {
                                    "Ssn": "987987987"
                                },
                                {
                                    "Ssn": "999887777"
                                }
                            ]
                        },
                        "text/html": [
                            "<table>",
                            "<tr><th>Ssn</th></tr>",
                            "<tr><td>123456789</td></tr>",
                            "<tr><td>333445555</td></tr>",
                            "<tr><td>453453453</td></tr>",
                            "<tr><td>666884444</td></tr>",
                            "<tr><td>888665555</td></tr>",
                            "<tr><td>987654321</td></tr>",
                            "<tr><td>987987987</td></tr>",
                            "<tr><td>999887777</td></tr>",
                            "</table>"
                        ]
                    }
                }
            ],
            "execution_count": 25
        },
        {
            "cell_type": "code",
            "source": [
                "select distinct e.Salary\r\n",
                "from EMPLOYEE e"
            ],
            "metadata": {
                "azdata_cell_guid": "f2ef6d1f-50ff-4fb9-a496-50183cf0891d",
                "language": "sql"
            },
            "outputs": [
                {
                    "output_type": "display_data",
                    "data": {
                        "text/html": "(6 rows affected)"
                    },
                    "metadata": {}
                },
                {
                    "output_type": "display_data",
                    "data": {
                        "text/html": "Total execution time: 00:00:00.006"
                    },
                    "metadata": {}
                },
                {
                    "output_type": "execute_result",
                    "metadata": {},
                    "execution_count": 26,
                    "data": {
                        "application/vnd.dataresource+json": {
                            "schema": {
                                "fields": [
                                    {
                                        "name": "Salary"
                                    }
                                ]
                            },
                            "data": [
                                {
                                    "Salary": "25000.00"
                                },
                                {
                                    "Salary": "30000.00"
                                },
                                {
                                    "Salary": "38000.00"
                                },
                                {
                                    "Salary": "40000.00"
                                },
                                {
                                    "Salary": "43000.00"
                                },
                                {
                                    "Salary": "55000.00"
                                }
                            ]
                        },
                        "text/html": [
                            "<table>",
                            "<tr><th>Salary</th></tr>",
                            "<tr><td>25000.00</td></tr>",
                            "<tr><td>30000.00</td></tr>",
                            "<tr><td>38000.00</td></tr>",
                            "<tr><td>40000.00</td></tr>",
                            "<tr><td>43000.00</td></tr>",
                            "<tr><td>55000.00</td></tr>",
                            "</table>"
                        ]
                    }
                }
            ],
            "execution_count": 26
        },
        {
            "cell_type": "code",
            "source": [
                "select p.Pname \r\n",
                "from WORKS_ON w join PROJECT p on w.Pno = p.Pnumber join EMPLOYEE e on w.Essn  = e.Ssn\r\n",
                "where e.Lname = 'Smith'"
            ],
            "metadata": {
                "azdata_cell_guid": "3b89cff7-1a9f-42b8-aec3-18048e81d63c",
                "language": "sql",
                "tags": []
            },
            "outputs": [
                {
                    "output_type": "display_data",
                    "data": {
                        "text/html": "(2 rows affected)"
                    },
                    "metadata": {}
                },
                {
                    "output_type": "display_data",
                    "data": {
                        "text/html": "Total execution time: 00:00:00.008"
                    },
                    "metadata": {}
                },
                {
                    "output_type": "execute_result",
                    "metadata": {},
                    "execution_count": 36,
                    "data": {
                        "application/vnd.dataresource+json": {
                            "schema": {
                                "fields": [
                                    {
                                        "name": "Pname"
                                    }
                                ]
                            },
                            "data": [
                                {
                                    "Pname": "ProductX"
                                },
                                {
                                    "Pname": "ProductY"
                                }
                            ]
                        },
                        "text/html": [
                            "<table>",
                            "<tr><th>Pname</th></tr>",
                            "<tr><td>ProductX</td></tr>",
                            "<tr><td>ProductY</td></tr>",
                            "</table>"
                        ]
                    }
                }
            ],
            "execution_count": 36
        },
        {
            "cell_type": "code",
            "source": [
                "select p.Pname\r\n",
                "from PROJECT p join DEPARTMENT d on p.Dnum = d.Dnumber join EMPLOYEE e on d.Mgr_ssn = e.Ssn\r\n",
                "where e.Lname = 'Smith'"
            ],
            "metadata": {
                "azdata_cell_guid": "bfc591e3-def4-4970-bf99-e81b0db6e103",
                "language": "sql"
            },
            "outputs": [
                {
                    "output_type": "display_data",
                    "data": {
                        "text/html": "(0 rows affected)"
                    },
                    "metadata": {}
                },
                {
                    "output_type": "display_data",
                    "data": {
                        "text/html": "Total execution time: 00:00:00.007"
                    },
                    "metadata": {}
                },
                {
                    "output_type": "execute_result",
                    "metadata": {},
                    "execution_count": 46,
                    "data": {
                        "application/vnd.dataresource+json": {
                            "schema": {
                                "fields": [
                                    {
                                        "name": "Pname"
                                    }
                                ]
                            },
                            "data": []
                        },
                        "text/html": [
                            "<table>",
                            "<tr><th>Pname</th></tr>",
                            "</table>"
                        ]
                    }
                }
            ],
            "execution_count": 46
        },
        {
            "cell_type": "code",
            "source": [
                "(select p.Pname \r\n",
                "from WORKS_ON w join PROJECT p on w.Pno = p.Pnumber join EMPLOYEE e on w.Essn  = e.Ssn\r\n",
                "where e.Lname = 'Smith')\r\n",
                "UNION\r\n",
                "(select p.Pname\r\n",
                "from PROJECT p join DEPARTMENT d on p.Dnum = d.Dnumber join EMPLOYEE e on d.Mgr_ssn = e.Ssn\r\n",
                "where e.Lname = 'Smith')"
            ],
            "metadata": {
                "azdata_cell_guid": "ca09b1fe-fb57-4259-9385-d485f9866bee",
                "language": "sql"
            },
            "outputs": [
                {
                    "output_type": "display_data",
                    "data": {
                        "text/html": "(2 rows affected)"
                    },
                    "metadata": {}
                },
                {
                    "output_type": "display_data",
                    "data": {
                        "text/html": "Total execution time: 00:00:00.018"
                    },
                    "metadata": {}
                },
                {
                    "output_type": "execute_result",
                    "metadata": {},
                    "execution_count": 45,
                    "data": {
                        "application/vnd.dataresource+json": {
                            "schema": {
                                "fields": [
                                    {
                                        "name": "Pname"
                                    }
                                ]
                            },
                            "data": [
                                {
                                    "Pname": "ProductX"
                                },
                                {
                                    "Pname": "ProductY"
                                }
                            ]
                        },
                        "text/html": [
                            "<table>",
                            "<tr><th>Pname</th></tr>",
                            "<tr><td>ProductX</td></tr>",
                            "<tr><td>ProductY</td></tr>",
                            "</table>"
                        ]
                    }
                }
            ],
            "execution_count": 45
        },
        {
            "cell_type": "code",
            "source": [
                "select distinct e.Ssn\r\n",
                "from EMPLOYEE e join WORKS_ON w on e.Ssn = w.Essn\r\n",
                "where w.Pno in (1,2,3)"
            ],
            "metadata": {
                "azdata_cell_guid": "848172c8-5c77-4c4d-a6d1-b8954d4fa157",
                "language": "sql"
            },
            "outputs": [
                {
                    "output_type": "display_data",
                    "data": {
                        "text/html": "(4 rows affected)"
                    },
                    "metadata": {}
                },
                {
                    "output_type": "display_data",
                    "data": {
                        "text/html": "Total execution time: 00:00:00.019"
                    },
                    "metadata": {}
                },
                {
                    "output_type": "execute_result",
                    "metadata": {},
                    "execution_count": 52,
                    "data": {
                        "application/vnd.dataresource+json": {
                            "schema": {
                                "fields": [
                                    {
                                        "name": "Ssn"
                                    }
                                ]
                            },
                            "data": [
                                {
                                    "Ssn": "123456789"
                                },
                                {
                                    "Ssn": "333445555"
                                },
                                {
                                    "Ssn": "453453453"
                                },
                                {
                                    "Ssn": "666884444"
                                }
                            ]
                        },
                        "text/html": [
                            "<table>",
                            "<tr><th>Ssn</th></tr>",
                            "<tr><td>123456789</td></tr>",
                            "<tr><td>333445555</td></tr>",
                            "<tr><td>453453453</td></tr>",
                            "<tr><td>666884444</td></tr>",
                            "</table>"
                        ]
                    }
                }
            ],
            "execution_count": 52
        },
        {
            "cell_type": "code",
            "source": [
                "select e.Fname, e.Lname\r\n",
                "from EMPLOYEE e\r\n",
                "where e.Dno = (\r\n",
                "    select distinct d.Dnumber\r\n",
                "    from DEPARTMENT d\r\n",
                "    where d.Dname = 'Research'\r\n",
                ")"
            ],
            "metadata": {
                "azdata_cell_guid": "b823cb24-9500-4f69-9641-5db9c458aabf",
                "language": "sql"
            },
            "outputs": [
                {
                    "output_type": "display_data",
                    "data": {
                        "text/html": "(4 rows affected)"
                    },
                    "metadata": {}
                },
                {
                    "output_type": "display_data",
                    "data": {
                        "text/html": "Total execution time: 00:00:00.004"
                    },
                    "metadata": {}
                },
                {
                    "output_type": "execute_result",
                    "metadata": {},
                    "execution_count": 56,
                    "data": {
                        "application/vnd.dataresource+json": {
                            "schema": {
                                "fields": [
                                    {
                                        "name": "Fname"
                                    },
                                    {
                                        "name": "Lname"
                                    }
                                ]
                            },
                            "data": [
                                {
                                    "Fname": "John",
                                    "Lname": "Smith"
                                },
                                {
                                    "Fname": "Franklin",
                                    "Lname": "Wong"
                                },
                                {
                                    "Fname": "Joyce",
                                    "Lname": "English"
                                },
                                {
                                    "Fname": "Ramesh",
                                    "Lname": "Narayan"
                                }
                            ]
                        },
                        "text/html": [
                            "<table>",
                            "<tr><th>Fname</th><th>Lname</th></tr>",
                            "<tr><td>John</td><td>Smith</td></tr>",
                            "<tr><td>Franklin</td><td>Wong</td></tr>",
                            "<tr><td>Joyce</td><td>English</td></tr>",
                            "<tr><td>Ramesh</td><td>Narayan</td></tr>",
                            "</table>"
                        ]
                    }
                }
            ],
            "execution_count": 56
        },
        {
            "cell_type": "code",
            "source": [
                "select e.Fname, e.Lname\r\n",
                "from EMPLOYEE e\r\n",
                "where e.Ssn in (\r\n",
                "    select d.Essn\r\n",
                "    from DEPENDENT d\r\n",
                "    where e.Fname = d.Dependent_name and e.Ssn = d.Essn\r\n",
                ")"
            ],
            "metadata": {
                "azdata_cell_guid": "4afc636c-a4d6-49c3-8925-1b382e9d864a",
                "language": "sql"
            },
            "outputs": [
                {
                    "output_type": "display_data",
                    "data": {
                        "text/html": "(0 rows affected)"
                    },
                    "metadata": {}
                },
                {
                    "output_type": "display_data",
                    "data": {
                        "text/html": "Total execution time: 00:00:00.007"
                    },
                    "metadata": {}
                },
                {
                    "output_type": "execute_result",
                    "metadata": {},
                    "execution_count": 65,
                    "data": {
                        "application/vnd.dataresource+json": {
                            "schema": {
                                "fields": [
                                    {
                                        "name": "Fname"
                                    },
                                    {
                                        "name": "Lname"
                                    }
                                ]
                            },
                            "data": []
                        },
                        "text/html": [
                            "<table>",
                            "<tr><th>Fname</th><th>Lname</th></tr>",
                            "</table>"
                        ]
                    }
                }
            ],
            "execution_count": 65
        },
        {
            "cell_type": "code",
            "source": [
                "select e.Fname, e.Lname\r\n",
                "from EMPLOYEE e join DEPENDENT d on e.Ssn = d.Essn\r\n",
                "where e.Fname = d.Dependent_name"
            ],
            "metadata": {
                "azdata_cell_guid": "77a4bfec-46b1-437a-8525-3b8c4087c8a6",
                "language": "sql",
                "tags": []
            },
            "outputs": [
                {
                    "output_type": "display_data",
                    "data": {
                        "text/html": "(0 rows affected)"
                    },
                    "metadata": {}
                },
                {
                    "output_type": "display_data",
                    "data": {
                        "text/html": "Total execution time: 00:00:00.022"
                    },
                    "metadata": {}
                },
                {
                    "output_type": "execute_result",
                    "metadata": {},
                    "execution_count": 69,
                    "data": {
                        "application/vnd.dataresource+json": {
                            "schema": {
                                "fields": [
                                    {
                                        "name": "Fname"
                                    },
                                    {
                                        "name": "Lname"
                                    }
                                ]
                            },
                            "data": []
                        },
                        "text/html": [
                            "<table>",
                            "<tr><th>Fname</th><th>Lname</th></tr>",
                            "</table>"
                        ]
                    }
                }
            ],
            "execution_count": 69
        },
        {
            "cell_type": "code",
            "source": [
                "select e.Fname, e.Lname\r\n",
                "from EMPLOYEE e join DEPENDENT d on e.Ssn = d.Essn\r\n",
                "where EXISTS (\r\n",
                "    select *\r\n",
                "    from DEPENDENT d\r\n",
                "    where e.Fname = d.Dependent_name and e.Ssn = d.Essn)"
            ],
            "metadata": {
                "azdata_cell_guid": "ba8ae7c1-4a7f-42c3-ac00-d2ec707de83d",
                "language": "sql"
            },
            "outputs": [
                {
                    "output_type": "display_data",
                    "data": {
                        "text/html": "(0 rows affected)"
                    },
                    "metadata": {}
                },
                {
                    "output_type": "display_data",
                    "data": {
                        "text/html": "Total execution time: 00:00:00.035"
                    },
                    "metadata": {}
                },
                {
                    "output_type": "execute_result",
                    "metadata": {},
                    "execution_count": 70,
                    "data": {
                        "application/vnd.dataresource+json": {
                            "schema": {
                                "fields": [
                                    {
                                        "name": "Fname"
                                    },
                                    {
                                        "name": "Lname"
                                    }
                                ]
                            },
                            "data": []
                        },
                        "text/html": [
                            "<table>",
                            "<tr><th>Fname</th><th>Lname</th></tr>",
                            "</table>"
                        ]
                    }
                }
            ],
            "execution_count": 70
        },
        {
            "cell_type": "code",
            "source": [
                "select e.Fname, e.Lname\r\n",
                "from EMPLOYEE e left join DEPENDENT d on e.Ssn = d.Essn\r\n",
                "where not exists (\r\n",
                "    select *\r\n",
                "    from Dependent d\r\n",
                "    where e.Ssn = d.Essn\r\n",
                ")"
            ],
            "metadata": {
                "azdata_cell_guid": "64361100-3bae-4944-9964-9885eb2df978",
                "language": "sql"
            },
            "outputs": [
                {
                    "output_type": "display_data",
                    "data": {
                        "text/html": "(5 rows affected)"
                    },
                    "metadata": {}
                },
                {
                    "output_type": "display_data",
                    "data": {
                        "text/html": "Total execution time: 00:00:00.023"
                    },
                    "metadata": {}
                },
                {
                    "output_type": "execute_result",
                    "metadata": {},
                    "execution_count": 86,
                    "data": {
                        "application/vnd.dataresource+json": {
                            "schema": {
                                "fields": [
                                    {
                                        "name": "Fname"
                                    },
                                    {
                                        "name": "Lname"
                                    }
                                ]
                            },
                            "data": [
                                {
                                    "Fname": "Joyce",
                                    "Lname": "English"
                                },
                                {
                                    "Fname": "Ramesh",
                                    "Lname": "Narayan"
                                },
                                {
                                    "Fname": "James",
                                    "Lname": "Borg"
                                },
                                {
                                    "Fname": "Ahmad",
                                    "Lname": "Jabbar"
                                },
                                {
                                    "Fname": "Alicia",
                                    "Lname": "Zelaya"
                                }
                            ]
                        },
                        "text/html": [
                            "<table>",
                            "<tr><th>Fname</th><th>Lname</th></tr>",
                            "<tr><td>Joyce</td><td>English</td></tr>",
                            "<tr><td>Ramesh</td><td>Narayan</td></tr>",
                            "<tr><td>James</td><td>Borg</td></tr>",
                            "<tr><td>Ahmad</td><td>Jabbar</td></tr>",
                            "<tr><td>Alicia</td><td>Zelaya</td></tr>",
                            "</table>"
                        ]
                    }
                }
            ],
            "execution_count": 86
        },
        {
            "cell_type": "code",
            "source": [
                "select e.Fname, e.Lname\r\n",
                "from EMPLOYEE e left join DEPENDENT d on e.Ssn = d.Essn\r\n",
                "where d.Essn is null"
            ],
            "metadata": {
                "azdata_cell_guid": "66e2a025-86b0-4ff8-8ee0-420d0c88a186",
                "language": "sql"
            },
            "outputs": [
                {
                    "output_type": "display_data",
                    "data": {
                        "text/html": "(5 rows affected)"
                    },
                    "metadata": {}
                },
                {
                    "output_type": "display_data",
                    "data": {
                        "text/html": "Total execution time: 00:00:00.027"
                    },
                    "metadata": {}
                },
                {
                    "output_type": "execute_result",
                    "metadata": {},
                    "execution_count": 80,
                    "data": {
                        "application/vnd.dataresource+json": {
                            "schema": {
                                "fields": [
                                    {
                                        "name": "Fname"
                                    },
                                    {
                                        "name": "Lname"
                                    }
                                ]
                            },
                            "data": [
                                {
                                    "Fname": "Joyce",
                                    "Lname": "English"
                                },
                                {
                                    "Fname": "Ramesh",
                                    "Lname": "Narayan"
                                },
                                {
                                    "Fname": "James",
                                    "Lname": "Borg"
                                },
                                {
                                    "Fname": "Ahmad",
                                    "Lname": "Jabbar"
                                },
                                {
                                    "Fname": "Alicia",
                                    "Lname": "Zelaya"
                                }
                            ]
                        },
                        "text/html": [
                            "<table>",
                            "<tr><th>Fname</th><th>Lname</th></tr>",
                            "<tr><td>Joyce</td><td>English</td></tr>",
                            "<tr><td>Ramesh</td><td>Narayan</td></tr>",
                            "<tr><td>James</td><td>Borg</td></tr>",
                            "<tr><td>Ahmad</td><td>Jabbar</td></tr>",
                            "<tr><td>Alicia</td><td>Zelaya</td></tr>",
                            "</table>"
                        ]
                    }
                }
            ],
            "execution_count": 80
        },
        {
            "cell_type": "code",
            "source": [
                "select e.Fname\r\n",
                "from EMPLOYEE e\r\n",
                "where e.Super_ssn is null"
            ],
            "metadata": {
                "azdata_cell_guid": "992d1301-1aa5-41c2-bcb7-4a320979d1f7",
                "language": "sql"
            },
            "outputs": [
                {
                    "output_type": "display_data",
                    "data": {
                        "text/html": "(1 row affected)"
                    },
                    "metadata": {}
                },
                {
                    "output_type": "display_data",
                    "data": {
                        "text/html": "Total execution time: 00:00:00.014"
                    },
                    "metadata": {}
                },
                {
                    "output_type": "execute_result",
                    "metadata": {},
                    "execution_count": 87,
                    "data": {
                        "application/vnd.dataresource+json": {
                            "schema": {
                                "fields": [
                                    {
                                        "name": "Fname"
                                    }
                                ]
                            },
                            "data": [
                                {
                                    "Fname": "James"
                                }
                            ]
                        },
                        "text/html": [
                            "<table>",
                            "<tr><th>Fname</th></tr>",
                            "<tr><td>James</td></tr>",
                            "</table>"
                        ]
                    }
                }
            ],
            "execution_count": 87
        },
        {
            "cell_type": "code",
            "source": [
                "select  e1.Fname as employee_name, e1.Lname as employee_lastname, e2.Fname as manager_name, e2.Lname as manager_lastname\r\n",
                "from EMPLOYEE e1 left join EMPLOYEE e2 on e1.Ssn = e2.Super_ssn"
            ],
            "metadata": {
                "azdata_cell_guid": "6c9a4d79-9743-4b96-bfad-00b55bc7746d",
                "language": "sql"
            },
            "outputs": [
                {
                    "output_type": "display_data",
                    "data": {
                        "text/html": "(12 rows affected)"
                    },
                    "metadata": {}
                },
                {
                    "output_type": "display_data",
                    "data": {
                        "text/html": "Total execution time: 00:00:00.004"
                    },
                    "metadata": {}
                },
                {
                    "output_type": "execute_result",
                    "metadata": {},
                    "execution_count": 89,
                    "data": {
                        "application/vnd.dataresource+json": {
                            "schema": {
                                "fields": [
                                    {
                                        "name": "employee_name"
                                    },
                                    {
                                        "name": "employee_lastname"
                                    },
                                    {
                                        "name": "manager_name"
                                    },
                                    {
                                        "name": "manager_lastname"
                                    }
                                ]
                            },
                            "data": [
                                {
                                    "employee_name": "John",
                                    "employee_lastname": "Smith",
                                    "manager_name": "NULL",
                                    "manager_lastname": "NULL"
                                },
                                {
                                    "employee_name": "Franklin",
                                    "employee_lastname": "Wong",
                                    "manager_name": "John",
                                    "manager_lastname": "Smith"
                                },
                                {
                                    "employee_name": "Franklin",
                                    "employee_lastname": "Wong",
                                    "manager_name": "Joyce",
                                    "manager_lastname": "English"
                                },
                                {
                                    "employee_name": "Franklin",
                                    "employee_lastname": "Wong",
                                    "manager_name": "Ramesh",
                                    "manager_lastname": "Narayan"
                                },
                                {
                                    "employee_name": "Joyce",
                                    "employee_lastname": "English",
                                    "manager_name": "NULL",
                                    "manager_lastname": "NULL"
                                },
                                {
                                    "employee_name": "Ramesh",
                                    "employee_lastname": "Narayan",
                                    "manager_name": "NULL",
                                    "manager_lastname": "NULL"
                                },
                                {
                                    "employee_name": "James",
                                    "employee_lastname": "Borg",
                                    "manager_name": "Franklin",
                                    "manager_lastname": "Wong"
                                },
                                {
                                    "employee_name": "James",
                                    "employee_lastname": "Borg",
                                    "manager_name": "Jennifer",
                                    "manager_lastname": "Wallace"
                                },
                                {
                                    "employee_name": "Jennifer",
                                    "employee_lastname": "Wallace",
                                    "manager_name": "Ahmad",
                                    "manager_lastname": "Jabbar"
                                },
                                {
                                    "employee_name": "Jennifer",
                                    "employee_lastname": "Wallace",
                                    "manager_name": "Alicia",
                                    "manager_lastname": "Zelaya"
                                },
                                {
                                    "employee_name": "Ahmad",
                                    "employee_lastname": "Jabbar",
                                    "manager_name": "NULL",
                                    "manager_lastname": "NULL"
                                },
                                {
                                    "employee_name": "Alicia",
                                    "employee_lastname": "Zelaya",
                                    "manager_name": "NULL",
                                    "manager_lastname": "NULL"
                                }
                            ]
                        },
                        "text/html": [
                            "<table>",
                            "<tr><th>employee_name</th><th>employee_lastname</th><th>manager_name</th><th>manager_lastname</th></tr>",
                            "<tr><td>John</td><td>Smith</td><td>NULL</td><td>NULL</td></tr>",
                            "<tr><td>Franklin</td><td>Wong</td><td>John</td><td>Smith</td></tr>",
                            "<tr><td>Franklin</td><td>Wong</td><td>Joyce</td><td>English</td></tr>",
                            "<tr><td>Franklin</td><td>Wong</td><td>Ramesh</td><td>Narayan</td></tr>",
                            "<tr><td>Joyce</td><td>English</td><td>NULL</td><td>NULL</td></tr>",
                            "<tr><td>Ramesh</td><td>Narayan</td><td>NULL</td><td>NULL</td></tr>",
                            "<tr><td>James</td><td>Borg</td><td>Franklin</td><td>Wong</td></tr>",
                            "<tr><td>James</td><td>Borg</td><td>Jennifer</td><td>Wallace</td></tr>",
                            "<tr><td>Jennifer</td><td>Wallace</td><td>Ahmad</td><td>Jabbar</td></tr>",
                            "<tr><td>Jennifer</td><td>Wallace</td><td>Alicia</td><td>Zelaya</td></tr>",
                            "<tr><td>Ahmad</td><td>Jabbar</td><td>NULL</td><td>NULL</td></tr>",
                            "<tr><td>Alicia</td><td>Zelaya</td><td>NULL</td><td>NULL</td></tr>",
                            "</table>"
                        ]
                    }
                }
            ],
            "execution_count": 89
        },
        {
            "cell_type": "code",
            "source": [
                "select min(e.Salary) as min_salary, max(e.Salary) as max_salary, avg(e.Salary) as average_salary\r\n",
                "from EMPLOYEE e"
            ],
            "metadata": {
                "azdata_cell_guid": "94ac0a78-16a2-4387-8cab-89929ae3c76d",
                "language": "sql"
            },
            "outputs": [
                {
                    "output_type": "display_data",
                    "data": {
                        "text/html": "(1 row affected)"
                    },
                    "metadata": {}
                },
                {
                    "output_type": "display_data",
                    "data": {
                        "text/html": "Total execution time: 00:00:00.025"
                    },
                    "metadata": {}
                },
                {
                    "output_type": "execute_result",
                    "metadata": {},
                    "execution_count": 91,
                    "data": {
                        "application/vnd.dataresource+json": {
                            "schema": {
                                "fields": [
                                    {
                                        "name": "min_salary"
                                    },
                                    {
                                        "name": "max_salary"
                                    },
                                    {
                                        "name": "average_salary"
                                    }
                                ]
                            },
                            "data": [
                                {
                                    "min_salary": "25000.00",
                                    "max_salary": "55000.00",
                                    "average_salary": "35125.000000"
                                }
                            ]
                        },
                        "text/html": [
                            "<table>",
                            "<tr><th>min_salary</th><th>max_salary</th><th>average_salary</th></tr>",
                            "<tr><td>25000.00</td><td>55000.00</td><td>35125.000000</td></tr>",
                            "</table>"
                        ]
                    }
                }
            ],
            "execution_count": 91
        },
        {
            "cell_type": "code",
            "source": [
                "select min(e.Salary) as min_salary_rsrch, max(e.Salary) as max_salary_rsrch, avg(e.Salary) as average_salary_rsrch\r\n",
                "from EMPLOYEE e join DEPARTMENT d on e.Dno = d.Dnumber\r\n",
                "where d.Dname = 'Research'"
            ],
            "metadata": {
                "azdata_cell_guid": "fb9160cc-746f-4234-83b9-298e42f317c6",
                "language": "sql"
            },
            "outputs": [
                {
                    "output_type": "display_data",
                    "data": {
                        "text/html": "(1 row affected)"
                    },
                    "metadata": {}
                },
                {
                    "output_type": "display_data",
                    "data": {
                        "text/html": "Total execution time: 00:00:00.006"
                    },
                    "metadata": {}
                },
                {
                    "output_type": "execute_result",
                    "metadata": {},
                    "execution_count": 96,
                    "data": {
                        "application/vnd.dataresource+json": {
                            "schema": {
                                "fields": [
                                    {
                                        "name": "min_salary_rsrch"
                                    },
                                    {
                                        "name": "max_salary_rsrch"
                                    },
                                    {
                                        "name": "average_salary_rsrch"
                                    }
                                ]
                            },
                            "data": [
                                {
                                    "min_salary_rsrch": "25000.00",
                                    "max_salary_rsrch": "40000.00",
                                    "average_salary_rsrch": "33250.000000"
                                }
                            ]
                        },
                        "text/html": [
                            "<table>",
                            "<tr><th>min_salary_rsrch</th><th>max_salary_rsrch</th><th>average_salary_rsrch</th></tr>",
                            "<tr><td>25000.00</td><td>40000.00</td><td>33250.000000</td></tr>",
                            "</table>"
                        ]
                    }
                }
            ],
            "execution_count": 96
        },
        {
            "cell_type": "code",
            "source": [
                "select count(*) as employee_count\r\n",
                "from EMPLOYEE e"
            ],
            "metadata": {
                "azdata_cell_guid": "7a0bb57a-2edc-4427-bc78-85704f44421d",
                "language": "sql",
                "tags": []
            },
            "outputs": [
                {
                    "output_type": "display_data",
                    "data": {
                        "text/html": "(1 row affected)"
                    },
                    "metadata": {}
                },
                {
                    "output_type": "display_data",
                    "data": {
                        "text/html": "Total execution time: 00:00:00.012"
                    },
                    "metadata": {}
                },
                {
                    "output_type": "execute_result",
                    "metadata": {},
                    "execution_count": 98,
                    "data": {
                        "application/vnd.dataresource+json": {
                            "schema": {
                                "fields": [
                                    {
                                        "name": "employee_count"
                                    }
                                ]
                            },
                            "data": [
                                {
                                    "employee_count": "8"
                                }
                            ]
                        },
                        "text/html": [
                            "<table>",
                            "<tr><th>employee_count</th></tr>",
                            "<tr><td>8</td></tr>",
                            "</table>"
                        ]
                    }
                }
            ],
            "execution_count": 98
        },
        {
            "cell_type": "code",
            "source": [
                "select count(*) as employee_count_rsrch\r\n",
                "from EMPLOYEE e join DEPARTMENT d on e.Dno = d.Dnumber\r\n",
                "where d.Dname = 'Research'"
            ],
            "metadata": {
                "azdata_cell_guid": "9bfca14a-c876-4410-ba45-4a74a73eed83",
                "language": "sql"
            },
            "outputs": [
                {
                    "output_type": "display_data",
                    "data": {
                        "text/html": "(1 row affected)"
                    },
                    "metadata": {}
                },
                {
                    "output_type": "display_data",
                    "data": {
                        "text/html": "Total execution time: 00:00:00.017"
                    },
                    "metadata": {}
                },
                {
                    "output_type": "execute_result",
                    "metadata": {},
                    "execution_count": 99,
                    "data": {
                        "application/vnd.dataresource+json": {
                            "schema": {
                                "fields": [
                                    {
                                        "name": "employee_count_rsrch"
                                    }
                                ]
                            },
                            "data": [
                                {
                                    "employee_count_rsrch": "4"
                                }
                            ]
                        },
                        "text/html": [
                            "<table>",
                            "<tr><th>employee_count_rsrch</th></tr>",
                            "<tr><td>4</td></tr>",
                            "</table>"
                        ]
                    }
                }
            ],
            "execution_count": 99
        },
        {
            "cell_type": "code",
            "source": [
                "select count(distinct e.Salary) as employee_salaries_count\r\n",
                "from EMPLOYEE e"
            ],
            "metadata": {
                "azdata_cell_guid": "43f36498-7e28-4375-bb7a-0c6fc743edb0",
                "language": "sql"
            },
            "outputs": [
                {
                    "output_type": "display_data",
                    "data": {
                        "text/html": "(1 row affected)"
                    },
                    "metadata": {}
                },
                {
                    "output_type": "display_data",
                    "data": {
                        "text/html": "Total execution time: 00:00:00.004"
                    },
                    "metadata": {}
                },
                {
                    "output_type": "execute_result",
                    "metadata": {},
                    "execution_count": 103,
                    "data": {
                        "application/vnd.dataresource+json": {
                            "schema": {
                                "fields": [
                                    {
                                        "name": "employee_salaries_count"
                                    }
                                ]
                            },
                            "data": [
                                {
                                    "employee_salaries_count": "6"
                                }
                            ]
                        },
                        "text/html": [
                            "<table>",
                            "<tr><th>employee_salaries_count</th></tr>",
                            "<tr><td>6</td></tr>",
                            "</table>"
                        ]
                    }
                }
            ],
            "execution_count": 103
        },
        {
            "cell_type": "code",
            "source": [
                "select d.Dnumber, count(*) as employee_count, avg(e.Salary) as employee_avg_salary\r\n",
                "-- select *\r\n",
                "from DEPARTMENT d join EMPLOYEE e on d.Dnumber = e.Dno\r\n",
                "group by d.Dnumber"
            ],
            "metadata": {
                "azdata_cell_guid": "898fe1c9-663f-4d34-a2ac-d9fa586247ea",
                "language": "sql"
            },
            "outputs": [
                {
                    "output_type": "display_data",
                    "data": {
                        "text/html": "(3 rows affected)"
                    },
                    "metadata": {}
                },
                {
                    "output_type": "display_data",
                    "data": {
                        "text/html": "Total execution time: 00:00:00.025"
                    },
                    "metadata": {}
                },
                {
                    "output_type": "execute_result",
                    "metadata": {},
                    "execution_count": 118,
                    "data": {
                        "application/vnd.dataresource+json": {
                            "schema": {
                                "fields": [
                                    {
                                        "name": "Dnumber"
                                    },
                                    {
                                        "name": "employee_count"
                                    },
                                    {
                                        "name": "employee_avg_salary"
                                    }
                                ]
                            },
                            "data": [
                                {
                                    "Dnumber": "1",
                                    "employee_count": "1",
                                    "employee_avg_salary": "55000.000000"
                                },
                                {
                                    "Dnumber": "4",
                                    "employee_count": "3",
                                    "employee_avg_salary": "31000.000000"
                                },
                                {
                                    "Dnumber": "5",
                                    "employee_count": "4",
                                    "employee_avg_salary": "33250.000000"
                                }
                            ]
                        },
                        "text/html": [
                            "<table>",
                            "<tr><th>Dnumber</th><th>employee_count</th><th>employee_avg_salary</th></tr>",
                            "<tr><td>1</td><td>1</td><td>55000.000000</td></tr>",
                            "<tr><td>4</td><td>3</td><td>31000.000000</td></tr>",
                            "<tr><td>5</td><td>4</td><td>33250.000000</td></tr>",
                            "</table>"
                        ]
                    }
                }
            ],
            "execution_count": 118
        },
        {
            "cell_type": "code",
            "source": [
                "select p.Pnumber, p.Pname, count(*) as employee_count\r\n",
                "from WORKS_ON w join PROJECT p on w.Pno = p.Pnumber\r\n",
                "group by p.Pnumber, p.Pname"
            ],
            "metadata": {
                "azdata_cell_guid": "cef9f1c1-fbe4-457c-ae0a-7efbff57c24a",
                "language": "sql"
            },
            "outputs": [
                {
                    "output_type": "display_data",
                    "data": {
                        "text/html": "(6 rows affected)"
                    },
                    "metadata": {}
                },
                {
                    "output_type": "display_data",
                    "data": {
                        "text/html": "Total execution time: 00:00:00.006"
                    },
                    "metadata": {}
                },
                {
                    "output_type": "execute_result",
                    "metadata": {},
                    "execution_count": 129,
                    "data": {
                        "application/vnd.dataresource+json": {
                            "schema": {
                                "fields": [
                                    {
                                        "name": "Pnumber"
                                    },
                                    {
                                        "name": "Pname"
                                    },
                                    {
                                        "name": "employee_count"
                                    }
                                ]
                            },
                            "data": [
                                {
                                    "Pnumber": "1",
                                    "Pname": "ProductX",
                                    "employee_count": "2"
                                },
                                {
                                    "Pnumber": "2",
                                    "Pname": "ProductY",
                                    "employee_count": "3"
                                },
                                {
                                    "Pnumber": "3",
                                    "Pname": "ProductZ",
                                    "employee_count": "2"
                                },
                                {
                                    "Pnumber": "10",
                                    "Pname": "Computerization",
                                    "employee_count": "3"
                                },
                                {
                                    "Pnumber": "20",
                                    "Pname": "Reorganization",
                                    "employee_count": "2"
                                },
                                {
                                    "Pnumber": "30",
                                    "Pname": "Newbenefits",
                                    "employee_count": "2"
                                }
                            ]
                        },
                        "text/html": [
                            "<table>",
                            "<tr><th>Pnumber</th><th>Pname</th><th>employee_count</th></tr>",
                            "<tr><td>1</td><td>ProductX</td><td>2</td></tr>",
                            "<tr><td>2</td><td>ProductY</td><td>3</td></tr>",
                            "<tr><td>3</td><td>ProductZ</td><td>2</td></tr>",
                            "<tr><td>10</td><td>Computerization</td><td>3</td></tr>",
                            "<tr><td>20</td><td>Reorganization</td><td>2</td></tr>",
                            "<tr><td>30</td><td>Newbenefits</td><td>2</td></tr>",
                            "</table>"
                        ]
                    }
                }
            ],
            "execution_count": 129
        },
        {
            "cell_type": "code",
            "source": [
                "select p.Pnumber, p.Pname, count(*) as employee_count\r\n",
                "from WORKS_ON w join PROJECT p on w.Pno = p.Pnumber\r\n",
                "group by p.Pnumber, p.Pname\r\n",
                "having count(*) > 2"
            ],
            "metadata": {
                "azdata_cell_guid": "3f0b3f9e-eab9-474e-857b-18c85a61138d",
                "language": "sql"
            },
            "outputs": [
                {
                    "output_type": "display_data",
                    "data": {
                        "text/html": "(2 rows affected)"
                    },
                    "metadata": {}
                },
                {
                    "output_type": "display_data",
                    "data": {
                        "text/html": "Total execution time: 00:00:00.016"
                    },
                    "metadata": {}
                },
                {
                    "output_type": "execute_result",
                    "metadata": {},
                    "execution_count": 131,
                    "data": {
                        "application/vnd.dataresource+json": {
                            "schema": {
                                "fields": [
                                    {
                                        "name": "Pnumber"
                                    },
                                    {
                                        "name": "Pname"
                                    },
                                    {
                                        "name": "employee_count"
                                    }
                                ]
                            },
                            "data": [
                                {
                                    "Pnumber": "2",
                                    "Pname": "ProductY",
                                    "employee_count": "3"
                                },
                                {
                                    "Pnumber": "10",
                                    "Pname": "Computerization",
                                    "employee_count": "3"
                                }
                            ]
                        },
                        "text/html": [
                            "<table>",
                            "<tr><th>Pnumber</th><th>Pname</th><th>employee_count</th></tr>",
                            "<tr><td>2</td><td>ProductY</td><td>3</td></tr>",
                            "<tr><td>10</td><td>Computerization</td><td>3</td></tr>",
                            "</table>"
                        ]
                    }
                }
            ],
            "execution_count": 131
        },
        {
            "cell_type": "code",
            "source": [
                "select e.Dno,e.Fname,e.Lname, p.Pname\r\n",
                "from EMPLOYEE e join WORKS_ON w on e.Ssn = w.Essn join PROJECT p on w.Pno = p.Pnumber\r\n",
                "order by e.Dno, e.Lname\r\n",
                "-- order by e.Dno desc, e.Lname desc"
            ],
            "metadata": {
                "azdata_cell_guid": "12572adb-d7ea-433e-9cbb-6089f96a4914",
                "language": "sql"
            },
            "outputs": [
                {
                    "output_type": "display_data",
                    "data": {
                        "text/html": "(14 rows affected)"
                    },
                    "metadata": {}
                },
                {
                    "output_type": "display_data",
                    "data": {
                        "text/html": "Total execution time: 00:00:00.014"
                    },
                    "metadata": {}
                },
                {
                    "output_type": "execute_result",
                    "metadata": {},
                    "execution_count": 146,
                    "data": {
                        "application/vnd.dataresource+json": {
                            "schema": {
                                "fields": [
                                    {
                                        "name": "Dno"
                                    },
                                    {
                                        "name": "Fname"
                                    },
                                    {
                                        "name": "Lname"
                                    },
                                    {
                                        "name": "Pname"
                                    }
                                ]
                            },
                            "data": [
                                {
                                    "Dno": "1",
                                    "Fname": "James",
                                    "Lname": "Borg",
                                    "Pname": "Reorganization"
                                },
                                {
                                    "Dno": "4",
                                    "Fname": "Ahmad",
                                    "Lname": "Jabbar",
                                    "Pname": "Computerization"
                                },
                                {
                                    "Dno": "4",
                                    "Fname": "Ahmad",
                                    "Lname": "Jabbar",
                                    "Pname": "Newbenefits"
                                },
                                {
                                    "Dno": "4",
                                    "Fname": "Jennifer",
                                    "Lname": "Wallace",
                                    "Pname": "Reorganization"
                                },
                                {
                                    "Dno": "4",
                                    "Fname": "Alicia",
                                    "Lname": "Zelaya",
                                    "Pname": "Computerization"
                                },
                                {
                                    "Dno": "4",
                                    "Fname": "Alicia",
                                    "Lname": "Zelaya",
                                    "Pname": "Newbenefits"
                                },
                                {
                                    "Dno": "5",
                                    "Fname": "Joyce",
                                    "Lname": "English",
                                    "Pname": "ProductX"
                                },
                                {
                                    "Dno": "5",
                                    "Fname": "Joyce",
                                    "Lname": "English",
                                    "Pname": "ProductY"
                                },
                                {
                                    "Dno": "5",
                                    "Fname": "Ramesh",
                                    "Lname": "Narayan",
                                    "Pname": "ProductZ"
                                },
                                {
                                    "Dno": "5",
                                    "Fname": "John",
                                    "Lname": "Smith",
                                    "Pname": "ProductX"
                                },
                                {
                                    "Dno": "5",
                                    "Fname": "John",
                                    "Lname": "Smith",
                                    "Pname": "ProductY"
                                },
                                {
                                    "Dno": "5",
                                    "Fname": "Franklin",
                                    "Lname": "Wong",
                                    "Pname": "ProductY"
                                },
                                {
                                    "Dno": "5",
                                    "Fname": "Franklin",
                                    "Lname": "Wong",
                                    "Pname": "ProductZ"
                                },
                                {
                                    "Dno": "5",
                                    "Fname": "Franklin",
                                    "Lname": "Wong",
                                    "Pname": "Computerization"
                                }
                            ]
                        },
                        "text/html": [
                            "<table>",
                            "<tr><th>Dno</th><th>Fname</th><th>Lname</th><th>Pname</th></tr>",
                            "<tr><td>1</td><td>James</td><td>Borg</td><td>Reorganization</td></tr>",
                            "<tr><td>4</td><td>Ahmad</td><td>Jabbar</td><td>Computerization</td></tr>",
                            "<tr><td>4</td><td>Ahmad</td><td>Jabbar</td><td>Newbenefits</td></tr>",
                            "<tr><td>4</td><td>Jennifer</td><td>Wallace</td><td>Reorganization</td></tr>",
                            "<tr><td>4</td><td>Alicia</td><td>Zelaya</td><td>Computerization</td></tr>",
                            "<tr><td>4</td><td>Alicia</td><td>Zelaya</td><td>Newbenefits</td></tr>",
                            "<tr><td>5</td><td>Joyce</td><td>English</td><td>ProductX</td></tr>",
                            "<tr><td>5</td><td>Joyce</td><td>English</td><td>ProductY</td></tr>",
                            "<tr><td>5</td><td>Ramesh</td><td>Narayan</td><td>ProductZ</td></tr>",
                            "<tr><td>5</td><td>John</td><td>Smith</td><td>ProductX</td></tr>",
                            "<tr><td>5</td><td>John</td><td>Smith</td><td>ProductY</td></tr>",
                            "<tr><td>5</td><td>Franklin</td><td>Wong</td><td>ProductY</td></tr>",
                            "<tr><td>5</td><td>Franklin</td><td>Wong</td><td>ProductZ</td></tr>",
                            "<tr><td>5</td><td>Franklin</td><td>Wong</td><td>Computerization</td></tr>",
                            "</table>"
                        ]
                    }
                }
            ],
            "execution_count": 146
        },
        {
            "cell_type": "markdown",
            "source": [
                "## Azhuriranje na bazata na podatoci"
            ],
            "metadata": {
                "language": "sql",
                "azdata_cell_guid": "5f3caf06-60e3-437c-a9bf-20e7c4cdc829"
            },
            "attachments": {}
        },
        {
            "cell_type": "code",
            "source": [
                "insert into EMPLOYEE values \r\n",
                "('Richard','K','Marini',\r\n",
                "'653298653', '30-DEC-52',\r\n",
                "'98 Oak Forest,Katy,TX',\r\n",
                "'M', 37000,'987654321', 4)"
            ],
            "metadata": {
                "azdata_cell_guid": "17fc9068-84ba-4a2a-bb67-93237450e9a5",
                "language": "sql"
            },
            "outputs": [
                {
                    "output_type": "display_data",
                    "data": {
                        "text/html": "(1 row affected)"
                    },
                    "metadata": {}
                },
                {
                    "output_type": "display_data",
                    "data": {
                        "text/html": "Total execution time: 00:00:00.025"
                    },
                    "metadata": {}
                }
            ],
            "execution_count": 147
        },
        {
            "cell_type": "code",
            "source": [
                "select *\r\n",
                "from EMPLOYEE"
            ],
            "metadata": {
                "language": "sql",
                "azdata_cell_guid": "563b2d6f-3cd0-47d3-8d68-43fe46d4b516"
            },
            "outputs": [
                {
                    "output_type": "display_data",
                    "data": {
                        "text/html": "(9 rows affected)"
                    },
                    "metadata": {}
                },
                {
                    "output_type": "display_data",
                    "data": {
                        "text/html": "Total execution time: 00:00:00.011"
                    },
                    "metadata": {}
                },
                {
                    "output_type": "execute_result",
                    "metadata": {},
                    "execution_count": 149,
                    "data": {
                        "application/vnd.dataresource+json": {
                            "schema": {
                                "fields": [
                                    {
                                        "name": "Fname"
                                    },
                                    {
                                        "name": "Minit"
                                    },
                                    {
                                        "name": "Lname"
                                    },
                                    {
                                        "name": "Ssn"
                                    },
                                    {
                                        "name": "Bdate"
                                    },
                                    {
                                        "name": "Address"
                                    },
                                    {
                                        "name": "Sex"
                                    },
                                    {
                                        "name": "Salary"
                                    },
                                    {
                                        "name": "Super_ssn"
                                    },
                                    {
                                        "name": "Dno"
                                    }
                                ]
                            },
                            "data": [
                                {
                                    "Fname": "John",
                                    "Minit": "B",
                                    "Lname": "Smith",
                                    "Ssn": "123456789",
                                    "Bdate": "1965-01-09",
                                    "Address": "731 Fondren, Houston, TX",
                                    "Sex": "M",
                                    "Salary": "30000.00",
                                    "Super_ssn": "333445555",
                                    "Dno": "5"
                                },
                                {
                                    "Fname": "Franklin",
                                    "Minit": "T",
                                    "Lname": "Wong",
                                    "Ssn": "333445555",
                                    "Bdate": "1955-12-08",
                                    "Address": "638 Voss, Houston, TX",
                                    "Sex": "M",
                                    "Salary": "40000.00",
                                    "Super_ssn": "888665555",
                                    "Dno": "5"
                                },
                                {
                                    "Fname": "Joyce",
                                    "Minit": "A",
                                    "Lname": "English",
                                    "Ssn": "453453453",
                                    "Bdate": "1972-07-31",
                                    "Address": "5631 Rice, Houston, TX",
                                    "Sex": "F",
                                    "Salary": "25000.00",
                                    "Super_ssn": "333445555",
                                    "Dno": "5"
                                },
                                {
                                    "Fname": "Richard",
                                    "Minit": "K",
                                    "Lname": "Marini",
                                    "Ssn": "653298653",
                                    "Bdate": "1952-12-30",
                                    "Address": "98 Oak Forest,Katy,TX",
                                    "Sex": "M",
                                    "Salary": "37000.00",
                                    "Super_ssn": "987654321",
                                    "Dno": "4"
                                },
                                {
                                    "Fname": "Ramesh",
                                    "Minit": "K",
                                    "Lname": "Narayan",
                                    "Ssn": "666884444",
                                    "Bdate": "1962-09-15",
                                    "Address": "975 Fire Oak, Humble, TX",
                                    "Sex": "M",
                                    "Salary": "38000.00",
                                    "Super_ssn": "333445555",
                                    "Dno": "5"
                                },
                                {
                                    "Fname": "James",
                                    "Minit": "E",
                                    "Lname": "Borg",
                                    "Ssn": "888665555",
                                    "Bdate": "1937-11-10",
                                    "Address": "450 Stone, Houston, TX",
                                    "Sex": "M",
                                    "Salary": "55000.00",
                                    "Super_ssn": "NULL",
                                    "Dno": "1"
                                },
                                {
                                    "Fname": "Jennifer",
                                    "Minit": "S",
                                    "Lname": "Wallace",
                                    "Ssn": "987654321",
                                    "Bdate": "1941-06-20",
                                    "Address": "291 Berry, Bellaire, TX",
                                    "Sex": "F",
                                    "Salary": "43000.00",
                                    "Super_ssn": "888665555",
                                    "Dno": "4"
                                },
                                {
                                    "Fname": "Ahmad",
                                    "Minit": "V",
                                    "Lname": "Jabbar",
                                    "Ssn": "987987987",
                                    "Bdate": "1969-03-29",
                                    "Address": "980 Dallas, Houston, TX",
                                    "Sex": "M",
                                    "Salary": "25000.00",
                                    "Super_ssn": "987654321",
                                    "Dno": "4"
                                },
                                {
                                    "Fname": "Alicia",
                                    "Minit": "J",
                                    "Lname": "Zelaya",
                                    "Ssn": "999887777",
                                    "Bdate": "1968-01-19",
                                    "Address": "3321 Castle, Spring, TX",
                                    "Sex": "F",
                                    "Salary": "25000.00",
                                    "Super_ssn": "987654321",
                                    "Dno": "4"
                                }
                            ]
                        },
                        "text/html": [
                            "<table>",
                            "<tr><th>Fname</th><th>Minit</th><th>Lname</th><th>Ssn</th><th>Bdate</th><th>Address</th><th>Sex</th><th>Salary</th><th>Super_ssn</th><th>Dno</th></tr>",
                            "<tr><td>John</td><td>B</td><td>Smith</td><td>123456789</td><td>1965-01-09</td><td>731 Fondren, Houston, TX</td><td>M</td><td>30000.00</td><td>333445555</td><td>5</td></tr>",
                            "<tr><td>Franklin</td><td>T</td><td>Wong</td><td>333445555</td><td>1955-12-08</td><td>638 Voss, Houston, TX</td><td>M</td><td>40000.00</td><td>888665555</td><td>5</td></tr>",
                            "<tr><td>Joyce</td><td>A</td><td>English</td><td>453453453</td><td>1972-07-31</td><td>5631 Rice, Houston, TX</td><td>F</td><td>25000.00</td><td>333445555</td><td>5</td></tr>",
                            "<tr><td>Richard</td><td>K</td><td>Marini</td><td>653298653</td><td>1952-12-30</td><td>98 Oak Forest,Katy,TX</td><td>M</td><td>37000.00</td><td>987654321</td><td>4</td></tr>",
                            "<tr><td>Ramesh</td><td>K</td><td>Narayan</td><td>666884444</td><td>1962-09-15</td><td>975 Fire Oak, Humble, TX</td><td>M</td><td>38000.00</td><td>333445555</td><td>5</td></tr>",
                            "<tr><td>James</td><td>E</td><td>Borg</td><td>888665555</td><td>1937-11-10</td><td>450 Stone, Houston, TX</td><td>M</td><td>55000.00</td><td>NULL</td><td>1</td></tr>",
                            "<tr><td>Jennifer</td><td>S</td><td>Wallace</td><td>987654321</td><td>1941-06-20</td><td>291 Berry, Bellaire, TX</td><td>F</td><td>43000.00</td><td>888665555</td><td>4</td></tr>",
                            "<tr><td>Ahmad</td><td>V</td><td>Jabbar</td><td>987987987</td><td>1969-03-29</td><td>980 Dallas, Houston, TX</td><td>M</td><td>25000.00</td><td>987654321</td><td>4</td></tr>",
                            "<tr><td>Alicia</td><td>J</td><td>Zelaya</td><td>999887777</td><td>1968-01-19</td><td>3321 Castle, Spring, TX</td><td>F</td><td>25000.00</td><td>987654321</td><td>4</td></tr>",
                            "</table>"
                        ]
                    }
                }
            ],
            "execution_count": 149
        },
        {
            "cell_type": "code",
            "source": [
                "insert into EMPLOYEE (Fname, LName, Ssn) VALUES\r\n",
                " ('Richard', 'Marini', '653298653')"
            ],
            "metadata": {
                "azdata_cell_guid": "ab64c79e-00cc-4fe3-a716-de48b330b214",
                "language": "sql"
            },
            "outputs": [
                {
                    "output_type": "error",
                    "evalue": "Msg 2627, Level 14, State 1, Line 1\r\nViolation of PRIMARY KEY constraint 'PK__EMPLOYEE__CA33E0E5CC0C1E9E'. Cannot insert duplicate key in object 'dbo.EMPLOYEE'. The duplicate key value is (653298653).",
                    "ename": "",
                    "traceback": []
                },
                {
                    "output_type": "display_data",
                    "data": {
                        "text/html": "The statement has been terminated."
                    },
                    "metadata": {}
                },
                {
                    "output_type": "display_data",
                    "data": {
                        "text/html": "Total execution time: 00:00:00.044"
                    },
                    "metadata": {}
                }
            ],
            "execution_count": 148
        },
        {
            "cell_type": "code",
            "source": [
                "select d.Dname, count(*) as employee_count, sum(e.Salary) as salary_sum\r\n",
                "from DEPARTMENT d join EMPLOYEE e on d.Dnumber = e.Dno\r\n",
                "group by d.Dnumber, d.Dname"
            ],
            "metadata": {
                "azdata_cell_guid": "6cf1962d-8581-4514-b21c-4a7ca893aed5",
                "language": "sql"
            },
            "outputs": [
                {
                    "output_type": "display_data",
                    "data": {
                        "text/html": "(3 rows affected)"
                    },
                    "metadata": {}
                },
                {
                    "output_type": "display_data",
                    "data": {
                        "text/html": "Total execution time: 00:00:00.027"
                    },
                    "metadata": {}
                },
                {
                    "output_type": "execute_result",
                    "metadata": {},
                    "execution_count": 152,
                    "data": {
                        "application/vnd.dataresource+json": {
                            "schema": {
                                "fields": [
                                    {
                                        "name": "Dname"
                                    },
                                    {
                                        "name": "employee_count"
                                    },
                                    {
                                        "name": "salary_sum"
                                    }
                                ]
                            },
                            "data": [
                                {
                                    "Dname": "Headquarters",
                                    "employee_count": "1",
                                    "salary_sum": "55000.00"
                                },
                                {
                                    "Dname": "Administration",
                                    "employee_count": "4",
                                    "salary_sum": "130000.00"
                                },
                                {
                                    "Dname": "Research",
                                    "employee_count": "4",
                                    "salary_sum": "133000.00"
                                }
                            ]
                        },
                        "text/html": [
                            "<table>",
                            "<tr><th>Dname</th><th>employee_count</th><th>salary_sum</th></tr>",
                            "<tr><td>Headquarters</td><td>1</td><td>55000.00</td></tr>",
                            "<tr><td>Administration</td><td>4</td><td>130000.00</td></tr>",
                            "<tr><td>Research</td><td>4</td><td>133000.00</td></tr>",
                            "</table>"
                        ]
                    }
                }
            ],
            "execution_count": 152
        },
        {
            "cell_type": "code",
            "source": [
                "CREATE TABLE DEPTS_INFOS(\r\n",
                "    Dname VARCHAR(20),\r\n",
                "    EmployeeCount INT,\r\n",
                "    SalarySum NUMERIC\r\n",
                ");\r\n",
                "\r\n",
                "insert into DEPTS_INFOS(Dname,EmployeeCount,SalarySum) (\r\n",
                "    select d.Dname, count(*) as employee_count, sum(e.Salary) as salary_sum\r\n",
                "    from DEPARTMENT d join EMPLOYEE e on d.Dnumber = e.Dno\r\n",
                "    group by d.Dnumber, d.Dname\r\n",
                ");"
            ],
            "metadata": {
                "azdata_cell_guid": "a9eafbf5-ea1c-48ef-affd-ee8dacfded69",
                "language": "sql"
            },
            "outputs": [
                {
                    "output_type": "display_data",
                    "data": {
                        "text/html": "(3 rows affected)"
                    },
                    "metadata": {}
                },
                {
                    "output_type": "display_data",
                    "data": {
                        "text/html": "Total execution time: 00:00:00.048"
                    },
                    "metadata": {}
                }
            ],
            "execution_count": 157
        },
        {
            "cell_type": "code",
            "source": [
                "select *\r\n",
                "from DEPTS_INFOS"
            ],
            "metadata": {
                "azdata_cell_guid": "dc359e89-5daa-47fd-8cc3-2b934e02e8a2",
                "language": "sql",
                "tags": []
            },
            "outputs": [
                {
                    "output_type": "display_data",
                    "data": {
                        "text/html": "(3 rows affected)"
                    },
                    "metadata": {}
                },
                {
                    "output_type": "display_data",
                    "data": {
                        "text/html": "Total execution time: 00:00:00.011"
                    },
                    "metadata": {}
                },
                {
                    "output_type": "execute_result",
                    "metadata": {},
                    "execution_count": 164,
                    "data": {
                        "application/vnd.dataresource+json": {
                            "schema": {
                                "fields": [
                                    {
                                        "name": "Dname"
                                    },
                                    {
                                        "name": "EmployeeCount"
                                    },
                                    {
                                        "name": "SalarySum"
                                    }
                                ]
                            },
                            "data": [
                                {
                                    "Dname": "Headquarters",
                                    "EmployeeCount": "1",
                                    "SalarySum": "55000"
                                },
                                {
                                    "Dname": "Administration",
                                    "EmployeeCount": "4",
                                    "SalarySum": "130000"
                                },
                                {
                                    "Dname": "Research",
                                    "EmployeeCount": "4",
                                    "SalarySum": "133000"
                                }
                            ]
                        },
                        "text/html": [
                            "<table>",
                            "<tr><th>Dname</th><th>EmployeeCount</th><th>SalarySum</th></tr>",
                            "<tr><td>Headquarters</td><td>1</td><td>55000</td></tr>",
                            "<tr><td>Administration</td><td>4</td><td>130000</td></tr>",
                            "<tr><td>Research</td><td>4</td><td>133000</td></tr>",
                            "</table>"
                        ]
                    }
                }
            ],
            "execution_count": 164
        },
        {
            "cell_type": "code",
            "source": [
                "delete from DEPTS_INFOS \r\n",
                "where Dname = 'Headquarters'\r\n",
                "-- where is not manditory"
            ],
            "metadata": {
                "azdata_cell_guid": "327b47fe-8599-41e2-b6af-9c956e6e8bd2",
                "language": "sql"
            },
            "outputs": [
                {
                    "output_type": "display_data",
                    "data": {
                        "text/html": "(1 row affected)"
                    },
                    "metadata": {}
                },
                {
                    "output_type": "display_data",
                    "data": {
                        "text/html": "Total execution time: 00:00:00.011"
                    },
                    "metadata": {}
                }
            ],
            "execution_count": 165
        },
        {
            "cell_type": "code",
            "source": [
                "select *\r\n",
                "from DEPTS_INFOS"
            ],
            "metadata": {
                "azdata_cell_guid": "1c06c1e3-717a-4059-9098-acb7607b9ea2",
                "language": "sql"
            },
            "outputs": [
                {
                    "output_type": "display_data",
                    "data": {
                        "text/html": "(2 rows affected)"
                    },
                    "metadata": {}
                },
                {
                    "output_type": "display_data",
                    "data": {
                        "text/html": "Total execution time: 00:00:00.002"
                    },
                    "metadata": {}
                },
                {
                    "output_type": "execute_result",
                    "metadata": {},
                    "execution_count": 166,
                    "data": {
                        "application/vnd.dataresource+json": {
                            "schema": {
                                "fields": [
                                    {
                                        "name": "Dname"
                                    },
                                    {
                                        "name": "EmployeeCount"
                                    },
                                    {
                                        "name": "SalarySum"
                                    }
                                ]
                            },
                            "data": [
                                {
                                    "Dname": "Administration",
                                    "EmployeeCount": "4",
                                    "SalarySum": "130000"
                                },
                                {
                                    "Dname": "Research",
                                    "EmployeeCount": "4",
                                    "SalarySum": "133000"
                                }
                            ]
                        },
                        "text/html": [
                            "<table>",
                            "<tr><th>Dname</th><th>EmployeeCount</th><th>SalarySum</th></tr>",
                            "<tr><td>Administration</td><td>4</td><td>130000</td></tr>",
                            "<tr><td>Research</td><td>4</td><td>133000</td></tr>",
                            "</table>"
                        ]
                    }
                }
            ],
            "execution_count": 166
        },
        {
            "cell_type": "code",
            "source": [
                "update DEPTS_INFOS set Dname='Admin',EmployeeCount = 10,SalarySum = 0\r\n",
                "where Dname = 'Administration'"
            ],
            "metadata": {
                "azdata_cell_guid": "caf7942b-6b7f-4569-ae6f-e9a6c05e45e2",
                "language": "sql"
            },
            "outputs": [
                {
                    "output_type": "display_data",
                    "data": {
                        "text/html": "(1 row affected)"
                    },
                    "metadata": {}
                },
                {
                    "output_type": "display_data",
                    "data": {
                        "text/html": "Total execution time: 00:00:00.020"
                    },
                    "metadata": {}
                }
            ],
            "execution_count": 168
        },
        {
            "cell_type": "code",
            "source": [
                "select *\r\n",
                "from DEPTS_INFOS"
            ],
            "metadata": {
                "azdata_cell_guid": "df0baf20-6f54-452d-a499-988f42d332c1",
                "language": "sql"
            },
            "outputs": [
                {
                    "output_type": "display_data",
                    "data": {
                        "text/html": "(2 rows affected)"
                    },
                    "metadata": {}
                },
                {
                    "output_type": "display_data",
                    "data": {
                        "text/html": "Total execution time: 00:00:00.002"
                    },
                    "metadata": {}
                },
                {
                    "output_type": "execute_result",
                    "metadata": {},
                    "execution_count": 169,
                    "data": {
                        "application/vnd.dataresource+json": {
                            "schema": {
                                "fields": [
                                    {
                                        "name": "Dname"
                                    },
                                    {
                                        "name": "EmployeeCount"
                                    },
                                    {
                                        "name": "SalarySum"
                                    }
                                ]
                            },
                            "data": [
                                {
                                    "Dname": "Admin",
                                    "EmployeeCount": "10",
                                    "SalarySum": "0"
                                },
                                {
                                    "Dname": "Research",
                                    "EmployeeCount": "4",
                                    "SalarySum": "133000"
                                }
                            ]
                        },
                        "text/html": [
                            "<table>",
                            "<tr><th>Dname</th><th>EmployeeCount</th><th>SalarySum</th></tr>",
                            "<tr><td>Admin</td><td>10</td><td>0</td></tr>",
                            "<tr><td>Research</td><td>4</td><td>133000</td></tr>",
                            "</table>"
                        ]
                    }
                }
            ],
            "execution_count": 169
        },
        {
            "cell_type": "code",
            "source": [
                "update DEPTS_INFOS set SalarySum = SalarySum * 1.1\r\n",
                "where Dname = 'Research'"
            ],
            "metadata": {
                "azdata_cell_guid": "73e5896f-1d1f-42d9-8403-dc8bbb7442fd",
                "language": "sql"
            },
            "outputs": [
                {
                    "output_type": "display_data",
                    "data": {
                        "text/html": "(1 row affected)"
                    },
                    "metadata": {}
                },
                {
                    "output_type": "display_data",
                    "data": {
                        "text/html": "Total execution time: 00:00:00.028"
                    },
                    "metadata": {}
                }
            ],
            "execution_count": 170
        },
        {
            "cell_type": "code",
            "source": [
                "select *\r\n",
                "from DEPTS_INFOS"
            ],
            "metadata": {
                "azdata_cell_guid": "deac243e-28ac-418d-b01d-59e8867f5d9d",
                "language": "sql"
            },
            "outputs": [
                {
                    "output_type": "display_data",
                    "data": {
                        "text/html": "(2 rows affected)"
                    },
                    "metadata": {}
                },
                {
                    "output_type": "display_data",
                    "data": {
                        "text/html": "Total execution time: 00:00:00.002"
                    },
                    "metadata": {}
                },
                {
                    "output_type": "execute_result",
                    "metadata": {},
                    "execution_count": 171,
                    "data": {
                        "application/vnd.dataresource+json": {
                            "schema": {
                                "fields": [
                                    {
                                        "name": "Dname"
                                    },
                                    {
                                        "name": "EmployeeCount"
                                    },
                                    {
                                        "name": "SalarySum"
                                    }
                                ]
                            },
                            "data": [
                                {
                                    "Dname": "Admin",
                                    "EmployeeCount": "10",
                                    "SalarySum": "0"
                                },
                                {
                                    "Dname": "Research",
                                    "EmployeeCount": "4",
                                    "SalarySum": "146300"
                                }
                            ]
                        },
                        "text/html": [
                            "<table>",
                            "<tr><th>Dname</th><th>EmployeeCount</th><th>SalarySum</th></tr>",
                            "<tr><td>Admin</td><td>10</td><td>0</td></tr>",
                            "<tr><td>Research</td><td>4</td><td>146300</td></tr>",
                            "</table>"
                        ]
                    }
                }
            ],
            "execution_count": 171
        },
        {
            "cell_type": "code",
            "source": [
                "DROP TABLE DEPTS_INFOS"
            ],
            "metadata": {
                "azdata_cell_guid": "b89192f0-8fb0-4fc8-8e3e-061edf9f8f02",
                "language": "sql"
            },
            "outputs": [
                {
                    "output_type": "display_data",
                    "data": {
                        "text/html": "Commands completed successfully."
                    },
                    "metadata": {}
                },
                {
                    "output_type": "display_data",
                    "data": {
                        "text/html": "Total execution time: 00:00:00.019"
                    },
                    "metadata": {}
                }
            ],
            "execution_count": 172
        },
        {
            "cell_type": "code",
            "source": [
                "delete from EMPLOYEE\r\n",
                "where Fname = 'Richard' and Lname = 'Marini'"
            ],
            "metadata": {
                "language": "sql",
                "azdata_cell_guid": "97a8e660-1cbc-4aea-99d0-438dea18028d"
            },
            "outputs": [
                {
                    "output_type": "display_data",
                    "data": {
                        "text/html": "(1 row affected)"
                    },
                    "metadata": {}
                },
                {
                    "output_type": "display_data",
                    "data": {
                        "text/html": "Total execution time: 00:00:00.022"
                    },
                    "metadata": {}
                }
            ],
            "execution_count": 174
        },
        {
            "cell_type": "markdown",
            "source": [
                "## Napreden SQL i tehniki na programiranje na BP"
            ],
            "metadata": {
                "azdata_cell_guid": "2a874438-323f-4f60-ab8f-336b245f68c1"
            },
            "attachments": {}
        },
        {
            "cell_type": "markdown",
            "source": [
                "### Views (Pogledi)"
            ],
            "metadata": {
                "language": "sql",
                "azdata_cell_guid": "6db85f05-5e26-48c5-8476-5fc655728498"
            },
            "attachments": {}
        },
        {
            "cell_type": "code",
            "source": [
                "create view WORKS_ON_NEW (Fname,Surname, ProjectName, HoursSpent) as\r\n",
                "select e.Fname,e.Lname,p.Pname,w.Hours\r\n",
                "from WORKS_ON w join EMPLOYEE e on w.Essn = e.Ssn join PROJECT p on w.Pno = p.Pnumber\r\n",
                "\r\n",
                "\r\n",
                ""
            ],
            "metadata": {
                "azdata_cell_guid": "a288cd37-4c4f-4563-809a-4357d48b6062",
                "language": "sql"
            },
            "outputs": [
                {
                    "output_type": "display_data",
                    "data": {
                        "text/html": "Commands completed successfully."
                    },
                    "metadata": {}
                },
                {
                    "output_type": "display_data",
                    "data": {
                        "text/html": "Total execution time: 00:00:00.023"
                    },
                    "metadata": {}
                }
            ],
            "execution_count": 181
        },
        {
            "cell_type": "code",
            "source": [
                "select *\r\n",
                "from WORKS_ON_NEW"
            ],
            "metadata": {
                "azdata_cell_guid": "b4373627-1b0b-4127-adaa-e3e937ed987c",
                "language": "sql"
            },
            "outputs": [
                {
                    "output_type": "display_data",
                    "data": {
                        "text/html": "(14 rows affected)"
                    },
                    "metadata": {}
                },
                {
                    "output_type": "display_data",
                    "data": {
                        "text/html": "Total execution time: 00:00:00.018"
                    },
                    "metadata": {}
                },
                {
                    "output_type": "execute_result",
                    "metadata": {},
                    "execution_count": 190,
                    "data": {
                        "application/vnd.dataresource+json": {
                            "schema": {
                                "fields": [
                                    {
                                        "name": "Fname"
                                    },
                                    {
                                        "name": "Surname"
                                    },
                                    {
                                        "name": "ProjectName"
                                    },
                                    {
                                        "name": "HoursSpent"
                                    }
                                ]
                            },
                            "data": [
                                {
                                    "Fname": "John",
                                    "Surname": "Smith",
                                    "ProjectName": "ProductX",
                                    "HoursSpent": "32.50"
                                },
                                {
                                    "Fname": "John",
                                    "Surname": "Smith",
                                    "ProjectName": "ProductY",
                                    "HoursSpent": "7.50"
                                },
                                {
                                    "Fname": "Franklin",
                                    "Surname": "Wong",
                                    "ProjectName": "ProductY",
                                    "HoursSpent": "10.00"
                                },
                                {
                                    "Fname": "Franklin",
                                    "Surname": "Wong",
                                    "ProjectName": "ProductZ",
                                    "HoursSpent": "10.00"
                                },
                                {
                                    "Fname": "Franklin",
                                    "Surname": "Wong",
                                    "ProjectName": "Computerization",
                                    "HoursSpent": "10.00"
                                },
                                {
                                    "Fname": "Joyce",
                                    "Surname": "English",
                                    "ProjectName": "ProductX",
                                    "HoursSpent": "20.00"
                                },
                                {
                                    "Fname": "Joyce",
                                    "Surname": "English",
                                    "ProjectName": "ProductY",
                                    "HoursSpent": "20.00"
                                },
                                {
                                    "Fname": "Ramesh",
                                    "Surname": "Narayan",
                                    "ProjectName": "ProductZ",
                                    "HoursSpent": "40.00"
                                },
                                {
                                    "Fname": "James",
                                    "Surname": "Borg",
                                    "ProjectName": "Reorganization",
                                    "HoursSpent": "NULL"
                                },
                                {
                                    "Fname": "Jennifer",
                                    "Surname": "Wallace",
                                    "ProjectName": "Reorganization",
                                    "HoursSpent": "15.00"
                                },
                                {
                                    "Fname": "Ahmad",
                                    "Surname": "Jabbar",
                                    "ProjectName": "Computerization",
                                    "HoursSpent": "35.00"
                                },
                                {
                                    "Fname": "Ahmad",
                                    "Surname": "Jabbar",
                                    "ProjectName": "Newbenefits",
                                    "HoursSpent": "5.00"
                                },
                                {
                                    "Fname": "Alicia",
                                    "Surname": "Zelaya",
                                    "ProjectName": "Computerization",
                                    "HoursSpent": "10.00"
                                },
                                {
                                    "Fname": "Alicia",
                                    "Surname": "Zelaya",
                                    "ProjectName": "Newbenefits",
                                    "HoursSpent": "30.00"
                                }
                            ]
                        },
                        "text/html": [
                            "<table>",
                            "<tr><th>Fname</th><th>Surname</th><th>ProjectName</th><th>HoursSpent</th></tr>",
                            "<tr><td>John</td><td>Smith</td><td>ProductX</td><td>32.50</td></tr>",
                            "<tr><td>John</td><td>Smith</td><td>ProductY</td><td>7.50</td></tr>",
                            "<tr><td>Franklin</td><td>Wong</td><td>ProductY</td><td>10.00</td></tr>",
                            "<tr><td>Franklin</td><td>Wong</td><td>ProductZ</td><td>10.00</td></tr>",
                            "<tr><td>Franklin</td><td>Wong</td><td>Computerization</td><td>10.00</td></tr>",
                            "<tr><td>Joyce</td><td>English</td><td>ProductX</td><td>20.00</td></tr>",
                            "<tr><td>Joyce</td><td>English</td><td>ProductY</td><td>20.00</td></tr>",
                            "<tr><td>Ramesh</td><td>Narayan</td><td>ProductZ</td><td>40.00</td></tr>",
                            "<tr><td>James</td><td>Borg</td><td>Reorganization</td><td>NULL</td></tr>",
                            "<tr><td>Jennifer</td><td>Wallace</td><td>Reorganization</td><td>15.00</td></tr>",
                            "<tr><td>Ahmad</td><td>Jabbar</td><td>Computerization</td><td>35.00</td></tr>",
                            "<tr><td>Ahmad</td><td>Jabbar</td><td>Newbenefits</td><td>5.00</td></tr>",
                            "<tr><td>Alicia</td><td>Zelaya</td><td>Computerization</td><td>10.00</td></tr>",
                            "<tr><td>Alicia</td><td>Zelaya</td><td>Newbenefits</td><td>30.00</td></tr>",
                            "</table>"
                        ]
                    }
                }
            ],
            "execution_count": 190
        },
        {
            "cell_type": "code",
            "source": [
                "UPDATE WORKS_ON set [Hours] = 200\r\n",
                "where Pno = 1 and Essn = '123456789'"
            ],
            "metadata": {
                "azdata_cell_guid": "9026a269-06aa-4aff-bd83-76b466e3db12",
                "language": "sql",
                "tags": [
                    "hide_input"
                ]
            },
            "outputs": [
                {
                    "output_type": "display_data",
                    "data": {
                        "text/html": "(1 row affected)"
                    },
                    "metadata": {}
                },
                {
                    "output_type": "display_data",
                    "data": {
                        "text/html": "Total execution time: 00:00:00.004"
                    },
                    "metadata": {}
                }
            ],
            "execution_count": 191
        },
        {
            "cell_type": "code",
            "source": [
                "select *\r\n",
                "from WORKS_ON_NEW"
            ],
            "metadata": {
                "azdata_cell_guid": "63b5cf22-4496-45be-9ccf-0f9e2dc2a9fa",
                "language": "sql"
            },
            "outputs": [
                {
                    "output_type": "display_data",
                    "data": {
                        "text/html": "(14 rows affected)"
                    },
                    "metadata": {}
                },
                {
                    "output_type": "display_data",
                    "data": {
                        "text/html": "Total execution time: 00:00:00.003"
                    },
                    "metadata": {}
                },
                {
                    "output_type": "execute_result",
                    "metadata": {},
                    "execution_count": 192,
                    "data": {
                        "application/vnd.dataresource+json": {
                            "schema": {
                                "fields": [
                                    {
                                        "name": "Fname"
                                    },
                                    {
                                        "name": "Surname"
                                    },
                                    {
                                        "name": "ProjectName"
                                    },
                                    {
                                        "name": "HoursSpent"
                                    }
                                ]
                            },
                            "data": [
                                {
                                    "Fname": "John",
                                    "Surname": "Smith",
                                    "ProjectName": "ProductX",
                                    "HoursSpent": "200.00"
                                },
                                {
                                    "Fname": "John",
                                    "Surname": "Smith",
                                    "ProjectName": "ProductY",
                                    "HoursSpent": "7.50"
                                },
                                {
                                    "Fname": "Franklin",
                                    "Surname": "Wong",
                                    "ProjectName": "ProductY",
                                    "HoursSpent": "10.00"
                                },
                                {
                                    "Fname": "Franklin",
                                    "Surname": "Wong",
                                    "ProjectName": "ProductZ",
                                    "HoursSpent": "10.00"
                                },
                                {
                                    "Fname": "Franklin",
                                    "Surname": "Wong",
                                    "ProjectName": "Computerization",
                                    "HoursSpent": "10.00"
                                },
                                {
                                    "Fname": "Joyce",
                                    "Surname": "English",
                                    "ProjectName": "ProductX",
                                    "HoursSpent": "20.00"
                                },
                                {
                                    "Fname": "Joyce",
                                    "Surname": "English",
                                    "ProjectName": "ProductY",
                                    "HoursSpent": "20.00"
                                },
                                {
                                    "Fname": "Ramesh",
                                    "Surname": "Narayan",
                                    "ProjectName": "ProductZ",
                                    "HoursSpent": "40.00"
                                },
                                {
                                    "Fname": "James",
                                    "Surname": "Borg",
                                    "ProjectName": "Reorganization",
                                    "HoursSpent": "NULL"
                                },
                                {
                                    "Fname": "Jennifer",
                                    "Surname": "Wallace",
                                    "ProjectName": "Reorganization",
                                    "HoursSpent": "15.00"
                                },
                                {
                                    "Fname": "Ahmad",
                                    "Surname": "Jabbar",
                                    "ProjectName": "Computerization",
                                    "HoursSpent": "35.00"
                                },
                                {
                                    "Fname": "Ahmad",
                                    "Surname": "Jabbar",
                                    "ProjectName": "Newbenefits",
                                    "HoursSpent": "5.00"
                                },
                                {
                                    "Fname": "Alicia",
                                    "Surname": "Zelaya",
                                    "ProjectName": "Computerization",
                                    "HoursSpent": "10.00"
                                },
                                {
                                    "Fname": "Alicia",
                                    "Surname": "Zelaya",
                                    "ProjectName": "Newbenefits",
                                    "HoursSpent": "30.00"
                                }
                            ]
                        },
                        "text/html": [
                            "<table>",
                            "<tr><th>Fname</th><th>Surname</th><th>ProjectName</th><th>HoursSpent</th></tr>",
                            "<tr><td>John</td><td>Smith</td><td>ProductX</td><td>200.00</td></tr>",
                            "<tr><td>John</td><td>Smith</td><td>ProductY</td><td>7.50</td></tr>",
                            "<tr><td>Franklin</td><td>Wong</td><td>ProductY</td><td>10.00</td></tr>",
                            "<tr><td>Franklin</td><td>Wong</td><td>ProductZ</td><td>10.00</td></tr>",
                            "<tr><td>Franklin</td><td>Wong</td><td>Computerization</td><td>10.00</td></tr>",
                            "<tr><td>Joyce</td><td>English</td><td>ProductX</td><td>20.00</td></tr>",
                            "<tr><td>Joyce</td><td>English</td><td>ProductY</td><td>20.00</td></tr>",
                            "<tr><td>Ramesh</td><td>Narayan</td><td>ProductZ</td><td>40.00</td></tr>",
                            "<tr><td>James</td><td>Borg</td><td>Reorganization</td><td>NULL</td></tr>",
                            "<tr><td>Jennifer</td><td>Wallace</td><td>Reorganization</td><td>15.00</td></tr>",
                            "<tr><td>Ahmad</td><td>Jabbar</td><td>Computerization</td><td>35.00</td></tr>",
                            "<tr><td>Ahmad</td><td>Jabbar</td><td>Newbenefits</td><td>5.00</td></tr>",
                            "<tr><td>Alicia</td><td>Zelaya</td><td>Computerization</td><td>10.00</td></tr>",
                            "<tr><td>Alicia</td><td>Zelaya</td><td>Newbenefits</td><td>30.00</td></tr>",
                            "</table>"
                        ]
                    }
                }
            ],
            "execution_count": 192
        },
        {
            "cell_type": "code",
            "source": [
                "UPDATE WORKS_ON set [Hours] = 32.50\r\n",
                "where Pno = 1 and Essn = '123456789'"
            ],
            "metadata": {
                "azdata_cell_guid": "5deabb16-babd-49b7-b97a-6f04a7d80f42",
                "language": "sql"
            },
            "outputs": [
                {
                    "output_type": "display_data",
                    "data": {
                        "text/html": "(1 row affected)"
                    },
                    "metadata": {}
                },
                {
                    "output_type": "display_data",
                    "data": {
                        "text/html": "Total execution time: 00:00:00.002"
                    },
                    "metadata": {}
                }
            ],
            "execution_count": 193
        },
        {
            "cell_type": "code",
            "source": [
                "UPDATE WORKS_ON_NEW set ProjectName = 'ProjectABC'\r\n",
                "where Fname = 'John' and Surname= 'Smith' and ProjectName = 'ProductX'"
            ],
            "metadata": {
                "azdata_cell_guid": "3d7cec90-fb6a-4e0a-9a61-85cbdfe13e4e",
                "language": "sql"
            },
            "outputs": [
                {
                    "output_type": "display_data",
                    "data": {
                        "text/html": "(1 row affected)"
                    },
                    "metadata": {}
                },
                {
                    "output_type": "display_data",
                    "data": {
                        "text/html": "Total execution time: 00:00:00.039"
                    },
                    "metadata": {}
                }
            ],
            "execution_count": 195
        },
        {
            "cell_type": "code",
            "source": [
                "select *\r\n",
                "from WORKS_ON_NEW"
            ],
            "metadata": {
                "azdata_cell_guid": "4f7f25e6-26b2-4901-88f1-4917758a92e5",
                "language": "sql"
            },
            "outputs": [
                {
                    "output_type": "display_data",
                    "data": {
                        "text/html": "(14 rows affected)"
                    },
                    "metadata": {}
                },
                {
                    "output_type": "display_data",
                    "data": {
                        "text/html": "Total execution time: 00:00:00.014"
                    },
                    "metadata": {}
                },
                {
                    "output_type": "execute_result",
                    "metadata": {},
                    "execution_count": 196,
                    "data": {
                        "application/vnd.dataresource+json": {
                            "schema": {
                                "fields": [
                                    {
                                        "name": "Fname"
                                    },
                                    {
                                        "name": "Surname"
                                    },
                                    {
                                        "name": "ProjectName"
                                    },
                                    {
                                        "name": "HoursSpent"
                                    }
                                ]
                            },
                            "data": [
                                {
                                    "Fname": "John",
                                    "Surname": "Smith",
                                    "ProjectName": "ProjectABC",
                                    "HoursSpent": "32.50"
                                },
                                {
                                    "Fname": "John",
                                    "Surname": "Smith",
                                    "ProjectName": "ProductY",
                                    "HoursSpent": "7.50"
                                },
                                {
                                    "Fname": "Franklin",
                                    "Surname": "Wong",
                                    "ProjectName": "ProductY",
                                    "HoursSpent": "10.00"
                                },
                                {
                                    "Fname": "Franklin",
                                    "Surname": "Wong",
                                    "ProjectName": "ProductZ",
                                    "HoursSpent": "10.00"
                                },
                                {
                                    "Fname": "Franklin",
                                    "Surname": "Wong",
                                    "ProjectName": "Computerization",
                                    "HoursSpent": "10.00"
                                },
                                {
                                    "Fname": "Joyce",
                                    "Surname": "English",
                                    "ProjectName": "ProjectABC",
                                    "HoursSpent": "20.00"
                                },
                                {
                                    "Fname": "Joyce",
                                    "Surname": "English",
                                    "ProjectName": "ProductY",
                                    "HoursSpent": "20.00"
                                },
                                {
                                    "Fname": "Ramesh",
                                    "Surname": "Narayan",
                                    "ProjectName": "ProductZ",
                                    "HoursSpent": "40.00"
                                },
                                {
                                    "Fname": "James",
                                    "Surname": "Borg",
                                    "ProjectName": "Reorganization",
                                    "HoursSpent": "NULL"
                                },
                                {
                                    "Fname": "Jennifer",
                                    "Surname": "Wallace",
                                    "ProjectName": "Reorganization",
                                    "HoursSpent": "15.00"
                                },
                                {
                                    "Fname": "Ahmad",
                                    "Surname": "Jabbar",
                                    "ProjectName": "Computerization",
                                    "HoursSpent": "35.00"
                                },
                                {
                                    "Fname": "Ahmad",
                                    "Surname": "Jabbar",
                                    "ProjectName": "Newbenefits",
                                    "HoursSpent": "5.00"
                                },
                                {
                                    "Fname": "Alicia",
                                    "Surname": "Zelaya",
                                    "ProjectName": "Computerization",
                                    "HoursSpent": "10.00"
                                },
                                {
                                    "Fname": "Alicia",
                                    "Surname": "Zelaya",
                                    "ProjectName": "Newbenefits",
                                    "HoursSpent": "30.00"
                                }
                            ]
                        },
                        "text/html": [
                            "<table>",
                            "<tr><th>Fname</th><th>Surname</th><th>ProjectName</th><th>HoursSpent</th></tr>",
                            "<tr><td>John</td><td>Smith</td><td>ProjectABC</td><td>32.50</td></tr>",
                            "<tr><td>John</td><td>Smith</td><td>ProductY</td><td>7.50</td></tr>",
                            "<tr><td>Franklin</td><td>Wong</td><td>ProductY</td><td>10.00</td></tr>",
                            "<tr><td>Franklin</td><td>Wong</td><td>ProductZ</td><td>10.00</td></tr>",
                            "<tr><td>Franklin</td><td>Wong</td><td>Computerization</td><td>10.00</td></tr>",
                            "<tr><td>Joyce</td><td>English</td><td>ProjectABC</td><td>20.00</td></tr>",
                            "<tr><td>Joyce</td><td>English</td><td>ProductY</td><td>20.00</td></tr>",
                            "<tr><td>Ramesh</td><td>Narayan</td><td>ProductZ</td><td>40.00</td></tr>",
                            "<tr><td>James</td><td>Borg</td><td>Reorganization</td><td>NULL</td></tr>",
                            "<tr><td>Jennifer</td><td>Wallace</td><td>Reorganization</td><td>15.00</td></tr>",
                            "<tr><td>Ahmad</td><td>Jabbar</td><td>Computerization</td><td>35.00</td></tr>",
                            "<tr><td>Ahmad</td><td>Jabbar</td><td>Newbenefits</td><td>5.00</td></tr>",
                            "<tr><td>Alicia</td><td>Zelaya</td><td>Computerization</td><td>10.00</td></tr>",
                            "<tr><td>Alicia</td><td>Zelaya</td><td>Newbenefits</td><td>30.00</td></tr>",
                            "</table>"
                        ]
                    }
                }
            ],
            "execution_count": 196
        },
        {
            "cell_type": "code",
            "source": [
                "select *\r\n",
                "from project"
            ],
            "metadata": {
                "azdata_cell_guid": "e70be89a-748d-4f1f-8da4-0ac8a01d64ac",
                "language": "sql"
            },
            "outputs": [
                {
                    "output_type": "display_data",
                    "data": {
                        "text/html": "(6 rows affected)"
                    },
                    "metadata": {}
                },
                {
                    "output_type": "display_data",
                    "data": {
                        "text/html": "Total execution time: 00:00:00.003"
                    },
                    "metadata": {}
                },
                {
                    "output_type": "execute_result",
                    "metadata": {},
                    "execution_count": 198,
                    "data": {
                        "application/vnd.dataresource+json": {
                            "schema": {
                                "fields": [
                                    {
                                        "name": "Pname"
                                    },
                                    {
                                        "name": "Pnumber"
                                    },
                                    {
                                        "name": "Plocation"
                                    },
                                    {
                                        "name": "Dnum"
                                    }
                                ]
                            },
                            "data": [
                                {
                                    "Pname": "ProjectABC",
                                    "Pnumber": "1",
                                    "Plocation": "Bellaire",
                                    "Dnum": "5"
                                },
                                {
                                    "Pname": "ProductY",
                                    "Pnumber": "2",
                                    "Plocation": "Sugarland",
                                    "Dnum": "5"
                                },
                                {
                                    "Pname": "ProductZ",
                                    "Pnumber": "3",
                                    "Plocation": "Houston",
                                    "Dnum": "5"
                                },
                                {
                                    "Pname": "Computerization",
                                    "Pnumber": "10",
                                    "Plocation": "Stafford",
                                    "Dnum": "4"
                                },
                                {
                                    "Pname": "Reorganization",
                                    "Pnumber": "20",
                                    "Plocation": "Houston",
                                    "Dnum": "1"
                                },
                                {
                                    "Pname": "Newbenefits",
                                    "Pnumber": "30",
                                    "Plocation": "Stafford",
                                    "Dnum": "4"
                                }
                            ]
                        },
                        "text/html": [
                            "<table>",
                            "<tr><th>Pname</th><th>Pnumber</th><th>Plocation</th><th>Dnum</th></tr>",
                            "<tr><td>ProjectABC</td><td>1</td><td>Bellaire</td><td>5</td></tr>",
                            "<tr><td>ProductY</td><td>2</td><td>Sugarland</td><td>5</td></tr>",
                            "<tr><td>ProductZ</td><td>3</td><td>Houston</td><td>5</td></tr>",
                            "<tr><td>Computerization</td><td>10</td><td>Stafford</td><td>4</td></tr>",
                            "<tr><td>Reorganization</td><td>20</td><td>Houston</td><td>1</td></tr>",
                            "<tr><td>Newbenefits</td><td>30</td><td>Stafford</td><td>4</td></tr>",
                            "</table>"
                        ]
                    }
                }
            ],
            "execution_count": 198
        },
        {
            "cell_type": "code",
            "source": [
                "UPDATE WORKS_ON_NEW set ProjectName = 'ProductX'\r\n",
                "where Fname = 'John' and Surname= 'Smith' and ProjectName = 'ProjectABC'"
            ],
            "metadata": {
                "azdata_cell_guid": "ffd81ca2-5c9a-4c4f-a209-b951effa5243",
                "language": "sql"
            },
            "outputs": [
                {
                    "output_type": "display_data",
                    "data": {
                        "text/html": "(1 row affected)"
                    },
                    "metadata": {}
                },
                {
                    "output_type": "display_data",
                    "data": {
                        "text/html": "Total execution time: 00:00:00.033"
                    },
                    "metadata": {}
                }
            ],
            "execution_count": 199
        },
        {
            "cell_type": "code",
            "source": [
                "select *\r\n",
                "from project"
            ],
            "metadata": {
                "azdata_cell_guid": "31e649f5-6e68-4cb2-aab8-f194daaffa5a",
                "language": "sql"
            },
            "outputs": [
                {
                    "output_type": "display_data",
                    "data": {
                        "text/html": "(6 rows affected)"
                    },
                    "metadata": {}
                },
                {
                    "output_type": "display_data",
                    "data": {
                        "text/html": "Total execution time: 00:00:00.002"
                    },
                    "metadata": {}
                },
                {
                    "output_type": "execute_result",
                    "metadata": {},
                    "execution_count": 200,
                    "data": {
                        "application/vnd.dataresource+json": {
                            "schema": {
                                "fields": [
                                    {
                                        "name": "Pname"
                                    },
                                    {
                                        "name": "Pnumber"
                                    },
                                    {
                                        "name": "Plocation"
                                    },
                                    {
                                        "name": "Dnum"
                                    }
                                ]
                            },
                            "data": [
                                {
                                    "Pname": "ProductX",
                                    "Pnumber": "1",
                                    "Plocation": "Bellaire",
                                    "Dnum": "5"
                                },
                                {
                                    "Pname": "ProductY",
                                    "Pnumber": "2",
                                    "Plocation": "Sugarland",
                                    "Dnum": "5"
                                },
                                {
                                    "Pname": "ProductZ",
                                    "Pnumber": "3",
                                    "Plocation": "Houston",
                                    "Dnum": "5"
                                },
                                {
                                    "Pname": "Computerization",
                                    "Pnumber": "10",
                                    "Plocation": "Stafford",
                                    "Dnum": "4"
                                },
                                {
                                    "Pname": "Reorganization",
                                    "Pnumber": "20",
                                    "Plocation": "Houston",
                                    "Dnum": "1"
                                },
                                {
                                    "Pname": "Newbenefits",
                                    "Pnumber": "30",
                                    "Plocation": "Stafford",
                                    "Dnum": "4"
                                }
                            ]
                        },
                        "text/html": [
                            "<table>",
                            "<tr><th>Pname</th><th>Pnumber</th><th>Plocation</th><th>Dnum</th></tr>",
                            "<tr><td>ProductX</td><td>1</td><td>Bellaire</td><td>5</td></tr>",
                            "<tr><td>ProductY</td><td>2</td><td>Sugarland</td><td>5</td></tr>",
                            "<tr><td>ProductZ</td><td>3</td><td>Houston</td><td>5</td></tr>",
                            "<tr><td>Computerization</td><td>10</td><td>Stafford</td><td>4</td></tr>",
                            "<tr><td>Reorganization</td><td>20</td><td>Houston</td><td>1</td></tr>",
                            "<tr><td>Newbenefits</td><td>30</td><td>Stafford</td><td>4</td></tr>",
                            "</table>"
                        ]
                    }
                }
            ],
            "execution_count": 200
        },
        {
            "cell_type": "code",
            "source": [
                "create view DEPT_IFNO(DepName,CountEmplyees,SumSalary) as \r\n",
                "select d.Dname, count(*), sum(e.Salary)\r\n",
                "from DEPARTMENT d join EMPLOYEE e on d.Dnumber = e.Dno\r\n",
                "group by d.Dname"
            ],
            "metadata": {
                "azdata_cell_guid": "b36354d9-ec5b-4884-9155-79294a2035e2",
                "language": "sql"
            },
            "outputs": [
                {
                    "output_type": "display_data",
                    "data": {
                        "text/html": "Commands completed successfully."
                    },
                    "metadata": {}
                },
                {
                    "output_type": "display_data",
                    "data": {
                        "text/html": "Total execution time: 00:00:00.016"
                    },
                    "metadata": {}
                }
            ],
            "execution_count": 204
        },
        {
            "cell_type": "code",
            "source": [
                "select *\r\n",
                "from DEPT_IFNO"
            ],
            "metadata": {
                "azdata_cell_guid": "cb15ea43-8395-4241-9081-24b08270783d",
                "language": "sql",
                "tags": []
            },
            "outputs": [
                {
                    "output_type": "display_data",
                    "data": {
                        "text/html": "(3 rows affected)"
                    },
                    "metadata": {}
                },
                {
                    "output_type": "display_data",
                    "data": {
                        "text/html": "Total execution time: 00:00:00.025"
                    },
                    "metadata": {}
                },
                {
                    "output_type": "execute_result",
                    "metadata": {},
                    "execution_count": 205,
                    "data": {
                        "application/vnd.dataresource+json": {
                            "schema": {
                                "fields": [
                                    {
                                        "name": "DepName"
                                    },
                                    {
                                        "name": "CountEmplyees"
                                    },
                                    {
                                        "name": "SumSalary"
                                    }
                                ]
                            },
                            "data": [
                                {
                                    "DepName": "Administration",
                                    "CountEmplyees": "3",
                                    "SumSalary": "93000.00"
                                },
                                {
                                    "DepName": "Headquarters",
                                    "CountEmplyees": "1",
                                    "SumSalary": "55000.00"
                                },
                                {
                                    "DepName": "Research",
                                    "CountEmplyees": "4",
                                    "SumSalary": "133000.00"
                                }
                            ]
                        },
                        "text/html": [
                            "<table>",
                            "<tr><th>DepName</th><th>CountEmplyees</th><th>SumSalary</th></tr>",
                            "<tr><td>Administration</td><td>3</td><td>93000.00</td></tr>",
                            "<tr><td>Headquarters</td><td>1</td><td>55000.00</td></tr>",
                            "<tr><td>Research</td><td>4</td><td>133000.00</td></tr>",
                            "</table>"
                        ]
                    }
                }
            ],
            "execution_count": 205
        },
        {
            "cell_type": "code",
            "source": [
                "update DEPT_IFNO set SumSalary=100000\r\n",
                "where DepName = 'Research'"
            ],
            "metadata": {
                "azdata_cell_guid": "8f92af78-e7b8-49a6-9af8-32a8dc80477d",
                "language": "sql"
            },
            "outputs": [
                {
                    "output_type": "error",
                    "evalue": "Msg 4406, Level 16, State 1, Line 1\r\nUpdate or insert of view or function 'DEPT_IFNO' failed because it contains a derived or constant field.",
                    "ename": "",
                    "traceback": []
                },
                {
                    "output_type": "display_data",
                    "data": {
                        "text/html": "Total execution time: 00:00:00.019"
                    },
                    "metadata": {}
                }
            ],
            "execution_count": 206
        },
        {
            "cell_type": "code",
            "source": [
                ""
            ],
            "metadata": {
                "azdata_cell_guid": "b6ee2a0c-87e3-4328-9873-d76e956d4fde",
                "language": "sql"
            },
            "outputs": [],
            "execution_count": null
        }
    ]
}