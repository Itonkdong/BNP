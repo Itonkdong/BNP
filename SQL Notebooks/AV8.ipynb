{
    "metadata": {
        "kernelspec": {
            "name": "SQL",
            "display_name": "SQL",
            "language": "sql"
        },
        "language_info": {
            "name": "sql",
            "version": ""
        }
    },
    "nbformat_minor": 2,
    "nbformat": 4,
    "cells": [
        {
            "cell_type": "markdown",
            "source": [
                "# Auditoriska 8"
            ],
            "metadata": {
                "azdata_cell_guid": "697a7e3e-3040-46b8-b3b8-c8ab99f3c3d8"
            },
            "attachments": {}
        },
        {
            "cell_type": "markdown",
            "source": [
                "## Zadacha 1"
            ],
            "metadata": {
                "azdata_cell_guid": "91ca30ae-4fc6-4fa9-bece-1879345a7a2b"
            },
            "attachments": {}
        },
        {
            "cell_type": "code",
            "source": [
                "with cte_example as \r\n",
                "(\r\n",
                "    select *\r\n",
                "    FROM [1_PAYMENT]\r\n",
                ")\r\n",
                "\r\n",
                "select *\r\n",
                "from cte_example"
            ],
            "metadata": {
                "azdata_cell_guid": "79bade14-7e9c-4b05-83db-25c2b25c7ac0",
                "language": "sql"
            },
            "outputs": [
                {
                    "output_type": "display_data",
                    "data": {
                        "text/html": "(15 rows affected)"
                    },
                    "metadata": {}
                },
                {
                    "output_type": "display_data",
                    "data": {
                        "text/html": "Total execution time: 00:00:00.027"
                    },
                    "metadata": {}
                },
                {
                    "output_type": "execute_result",
                    "execution_count": 3,
                    "data": {
                        "application/vnd.dataresource+json": {
                            "schema": {
                                "fields": [
                                    {
                                        "name": "Cname"
                                    },
                                    {
                                        "name": "AccNum"
                                    },
                                    {
                                        "name": "Amount"
                                    },
                                    {
                                        "name": "Late"
                                    }
                                ]
                            },
                            "data": [
                                {
                                    "Cname": "Company A",
                                    "AccNum": "101",
                                    "Amount": "200",
                                    "Late": "0"
                                },
                                {
                                    "Cname": "Company B",
                                    "AccNum": "102",
                                    "Amount": "450",
                                    "Late": "1"
                                },
                                {
                                    "Cname": "Company C",
                                    "AccNum": "103",
                                    "Amount": "300",
                                    "Late": "0"
                                },
                                {
                                    "Cname": "Company D",
                                    "AccNum": "104",
                                    "Amount": "500",
                                    "Late": "1"
                                },
                                {
                                    "Cname": "Company E",
                                    "AccNum": "105",
                                    "Amount": "250",
                                    "Late": "0"
                                },
                                {
                                    "Cname": "Company F",
                                    "AccNum": "106",
                                    "Amount": "600",
                                    "Late": "1"
                                },
                                {
                                    "Cname": "Company G",
                                    "AccNum": "107",
                                    "Amount": "350",
                                    "Late": "0"
                                },
                                {
                                    "Cname": "Company H",
                                    "AccNum": "108",
                                    "Amount": "700",
                                    "Late": "1"
                                },
                                {
                                    "Cname": "Company I",
                                    "AccNum": "109",
                                    "Amount": "400",
                                    "Late": "0"
                                },
                                {
                                    "Cname": "Company J",
                                    "AccNum": "110",
                                    "Amount": "800",
                                    "Late": "1"
                                },
                                {
                                    "Cname": "Company K",
                                    "AccNum": "111",
                                    "Amount": "520",
                                    "Late": "0"
                                },
                                {
                                    "Cname": "Company L",
                                    "AccNum": "112",
                                    "Amount": "630",
                                    "Late": "1"
                                },
                                {
                                    "Cname": "Company M",
                                    "AccNum": "113",
                                    "Amount": "740",
                                    "Late": "0"
                                },
                                {
                                    "Cname": "Company N",
                                    "AccNum": "114",
                                    "Amount": "850",
                                    "Late": "1"
                                },
                                {
                                    "Cname": "Company O",
                                    "AccNum": "115",
                                    "Amount": "960",
                                    "Late": "0"
                                }
                            ]
                        },
                        "text/html": "<table><tr><th>Cname</th><th>AccNum</th><th>Amount</th><th>Late</th></tr><tr><td>Company A</td><td>101</td><td>200</td><td>0</td></tr><tr><td>Company B</td><td>102</td><td>450</td><td>1</td></tr><tr><td>Company C</td><td>103</td><td>300</td><td>0</td></tr><tr><td>Company D</td><td>104</td><td>500</td><td>1</td></tr><tr><td>Company E</td><td>105</td><td>250</td><td>0</td></tr><tr><td>Company F</td><td>106</td><td>600</td><td>1</td></tr><tr><td>Company G</td><td>107</td><td>350</td><td>0</td></tr><tr><td>Company H</td><td>108</td><td>700</td><td>1</td></tr><tr><td>Company I</td><td>109</td><td>400</td><td>0</td></tr><tr><td>Company J</td><td>110</td><td>800</td><td>1</td></tr><tr><td>Company K</td><td>111</td><td>520</td><td>0</td></tr><tr><td>Company L</td><td>112</td><td>630</td><td>1</td></tr><tr><td>Company M</td><td>113</td><td>740</td><td>0</td></tr><tr><td>Company N</td><td>114</td><td>850</td><td>1</td></tr><tr><td>Company O</td><td>115</td><td>960</td><td>0</td></tr></table>"
                    },
                    "metadata": {}
                }
            ],
            "execution_count": 3
        },
        {
            "cell_type": "code",
            "source": [
                "select *\r\n",
                "into #temp_table_example\r\n",
                "from [1_PAYMENT]\r\n",
                "\r\n",
                "GO\r\n",
                "select *\r\n",
                "from #temp_table_example\r\n",
                "\r\n",
                ""
            ],
            "metadata": {
                "azdata_cell_guid": "643eb8a0-68d2-4677-b05a-b3e2178e1de3",
                "language": "sql"
            },
            "outputs": [
                {
                    "output_type": "display_data",
                    "data": {
                        "text/html": "(15 rows affected)"
                    },
                    "metadata": {}
                },
                {
                    "output_type": "display_data",
                    "data": {
                        "text/html": "(15 rows affected)"
                    },
                    "metadata": {}
                },
                {
                    "output_type": "display_data",
                    "data": {
                        "text/html": "Total execution time: 00:00:00.013"
                    },
                    "metadata": {}
                },
                {
                    "output_type": "execute_result",
                    "execution_count": 8,
                    "data": {
                        "application/vnd.dataresource+json": {
                            "schema": {
                                "fields": [
                                    {
                                        "name": "Cname"
                                    },
                                    {
                                        "name": "AccNum"
                                    },
                                    {
                                        "name": "Amount"
                                    },
                                    {
                                        "name": "Late"
                                    }
                                ]
                            },
                            "data": [
                                {
                                    "Cname": "Company A",
                                    "AccNum": "101",
                                    "Amount": "200",
                                    "Late": "0"
                                },
                                {
                                    "Cname": "Company B",
                                    "AccNum": "102",
                                    "Amount": "450",
                                    "Late": "1"
                                },
                                {
                                    "Cname": "Company C",
                                    "AccNum": "103",
                                    "Amount": "300",
                                    "Late": "0"
                                },
                                {
                                    "Cname": "Company D",
                                    "AccNum": "104",
                                    "Amount": "500",
                                    "Late": "1"
                                },
                                {
                                    "Cname": "Company E",
                                    "AccNum": "105",
                                    "Amount": "250",
                                    "Late": "0"
                                },
                                {
                                    "Cname": "Company F",
                                    "AccNum": "106",
                                    "Amount": "600",
                                    "Late": "1"
                                },
                                {
                                    "Cname": "Company G",
                                    "AccNum": "107",
                                    "Amount": "350",
                                    "Late": "0"
                                },
                                {
                                    "Cname": "Company H",
                                    "AccNum": "108",
                                    "Amount": "700",
                                    "Late": "1"
                                },
                                {
                                    "Cname": "Company I",
                                    "AccNum": "109",
                                    "Amount": "400",
                                    "Late": "0"
                                },
                                {
                                    "Cname": "Company J",
                                    "AccNum": "110",
                                    "Amount": "800",
                                    "Late": "1"
                                },
                                {
                                    "Cname": "Company K",
                                    "AccNum": "111",
                                    "Amount": "520",
                                    "Late": "0"
                                },
                                {
                                    "Cname": "Company L",
                                    "AccNum": "112",
                                    "Amount": "630",
                                    "Late": "1"
                                },
                                {
                                    "Cname": "Company M",
                                    "AccNum": "113",
                                    "Amount": "740",
                                    "Late": "0"
                                },
                                {
                                    "Cname": "Company N",
                                    "AccNum": "114",
                                    "Amount": "850",
                                    "Late": "1"
                                },
                                {
                                    "Cname": "Company O",
                                    "AccNum": "115",
                                    "Amount": "960",
                                    "Late": "0"
                                }
                            ]
                        },
                        "text/html": "<table><tr><th>Cname</th><th>AccNum</th><th>Amount</th><th>Late</th></tr><tr><td>Company A</td><td>101</td><td>200</td><td>0</td></tr><tr><td>Company B</td><td>102</td><td>450</td><td>1</td></tr><tr><td>Company C</td><td>103</td><td>300</td><td>0</td></tr><tr><td>Company D</td><td>104</td><td>500</td><td>1</td></tr><tr><td>Company E</td><td>105</td><td>250</td><td>0</td></tr><tr><td>Company F</td><td>106</td><td>600</td><td>1</td></tr><tr><td>Company G</td><td>107</td><td>350</td><td>0</td></tr><tr><td>Company H</td><td>108</td><td>700</td><td>1</td></tr><tr><td>Company I</td><td>109</td><td>400</td><td>0</td></tr><tr><td>Company J</td><td>110</td><td>800</td><td>1</td></tr><tr><td>Company K</td><td>111</td><td>520</td><td>0</td></tr><tr><td>Company L</td><td>112</td><td>630</td><td>1</td></tr><tr><td>Company M</td><td>113</td><td>740</td><td>0</td></tr><tr><td>Company N</td><td>114</td><td>850</td><td>1</td></tr><tr><td>Company O</td><td>115</td><td>960</td><td>0</td></tr></table>"
                    },
                    "metadata": {}
                }
            ],
            "execution_count": 8
        },
        {
            "cell_type": "code",
            "source": [
                "create view view_example as\r\n",
                "(\r\n",
                "    select *\r\n",
                "    from [1_PAYMENT]\r\n",
                ")\r\n",
                "\r\n",
                "go\r\n",
                "\r\n",
                "select top 5 *\r\n",
                "from view_example"
            ],
            "metadata": {
                "azdata_cell_guid": "ba5ed867-6f6e-4cbe-8d3d-775339c0a464",
                "language": "sql"
            },
            "outputs": [
                {
                    "output_type": "display_data",
                    "data": {
                        "text/html": "Commands completed successfully."
                    },
                    "metadata": {}
                },
                {
                    "output_type": "display_data",
                    "data": {
                        "text/html": "(5 rows affected)"
                    },
                    "metadata": {}
                },
                {
                    "output_type": "display_data",
                    "data": {
                        "text/html": "Total execution time: 00:00:00.036"
                    },
                    "metadata": {}
                },
                {
                    "output_type": "execute_result",
                    "execution_count": 9,
                    "data": {
                        "application/vnd.dataresource+json": {
                            "schema": {
                                "fields": [
                                    {
                                        "name": "Cname"
                                    },
                                    {
                                        "name": "AccNum"
                                    },
                                    {
                                        "name": "Amount"
                                    },
                                    {
                                        "name": "Late"
                                    }
                                ]
                            },
                            "data": [
                                {
                                    "Cname": "Company A",
                                    "AccNum": "101",
                                    "Amount": "200",
                                    "Late": "0"
                                },
                                {
                                    "Cname": "Company B",
                                    "AccNum": "102",
                                    "Amount": "450",
                                    "Late": "1"
                                },
                                {
                                    "Cname": "Company C",
                                    "AccNum": "103",
                                    "Amount": "300",
                                    "Late": "0"
                                },
                                {
                                    "Cname": "Company D",
                                    "AccNum": "104",
                                    "Amount": "500",
                                    "Late": "1"
                                },
                                {
                                    "Cname": "Company E",
                                    "AccNum": "105",
                                    "Amount": "250",
                                    "Late": "0"
                                }
                            ]
                        },
                        "text/html": "<table><tr><th>Cname</th><th>AccNum</th><th>Amount</th><th>Late</th></tr><tr><td>Company A</td><td>101</td><td>200</td><td>0</td></tr><tr><td>Company B</td><td>102</td><td>450</td><td>1</td></tr><tr><td>Company C</td><td>103</td><td>300</td><td>0</td></tr><tr><td>Company D</td><td>104</td><td>500</td><td>1</td></tr><tr><td>Company E</td><td>105</td><td>250</td><td>0</td></tr></table>"
                    },
                    "metadata": {}
                }
            ],
            "execution_count": 9
        },
        {
            "cell_type": "code",
            "source": [
                "with acc_104 as \r\n",
                "(\r\n",
                "SELECT *\r\n",
                "from [1_Payment] p\r\n",
                "where p.AccNum = 104\r\n",
                ")\r\n",
                "\r\n",
                "select *\r\n",
                "from acc_104"
            ],
            "metadata": {
                "azdata_cell_guid": "22d71978-34e2-498a-aa37-445e6103a12f",
                "language": "sql"
            },
            "outputs": [
                {
                    "output_type": "display_data",
                    "data": {
                        "text/html": "(1 row affected)"
                    },
                    "metadata": {}
                },
                {
                    "output_type": "display_data",
                    "data": {
                        "text/html": "Total execution time: 00:00:00.530"
                    },
                    "metadata": {}
                },
                {
                    "output_type": "execute_result",
                    "execution_count": 4,
                    "data": {
                        "application/vnd.dataresource+json": {
                            "schema": {
                                "fields": [
                                    {
                                        "name": "Cname"
                                    },
                                    {
                                        "name": "AccNum"
                                    },
                                    {
                                        "name": "Amount"
                                    },
                                    {
                                        "name": "Late"
                                    }
                                ]
                            },
                            "data": [
                                {
                                    "Cname": "Company D",
                                    "AccNum": "104",
                                    "Amount": "500",
                                    "Late": "1"
                                }
                            ]
                        },
                        "text/html": "<table><tr><th>Cname</th><th>AccNum</th><th>Amount</th><th>Late</th></tr><tr><td>Company D</td><td>104</td><td>500</td><td>1</td></tr></table>"
                    },
                    "metadata": {}
                }
            ],
            "execution_count": 4
        },
        {
            "cell_type": "code",
            "source": [
                "create or alter view company_postal_info AS\r\n",
                "(\r\n",
                "    select \r\n",
                "        c.Cname, \r\n",
                "         c.Address + ', ' + c.City + ', ' + c.Country as PostalInfo,\r\n",
                "         CONCAT(c.Address, ', ' , c.City, ', ', c.Country) as PostalInfoConcat,\r\n",
                "         CONCAT_WS(', ', c.Address, c.City, c.Country) as PostalInfoWsConcat\r\n",
                "from [1_COMPANY] c)\r\n",
                "\r\n",
                "go\r\n",
                "\r\n",
                "select *\r\n",
                "from company_postal_info\r\n",
                ""
            ],
            "metadata": {
                "azdata_cell_guid": "bee27dc9-f279-4b39-af0b-37b7f3a33a88",
                "language": "sql"
            },
            "outputs": [
                {
                    "output_type": "display_data",
                    "data": {
                        "text/html": "Commands completed successfully."
                    },
                    "metadata": {}
                },
                {
                    "output_type": "display_data",
                    "data": {
                        "text/html": "(15 rows affected)"
                    },
                    "metadata": {}
                },
                {
                    "output_type": "display_data",
                    "data": {
                        "text/html": "Total execution time: 00:00:00.044"
                    },
                    "metadata": {}
                },
                {
                    "output_type": "execute_result",
                    "execution_count": 11,
                    "data": {
                        "application/vnd.dataresource+json": {
                            "schema": {
                                "fields": [
                                    {
                                        "name": "Cname"
                                    },
                                    {
                                        "name": "PostalInfo"
                                    },
                                    {
                                        "name": "PostalInfoConcat"
                                    },
                                    {
                                        "name": "PostalInfoWsConcat"
                                    }
                                ]
                            },
                            "data": [
                                {
                                    "Cname": "Company A",
                                    "PostalInfo": "123 Main St, New York, USA",
                                    "PostalInfoConcat": "123 Main St, New York, USA",
                                    "PostalInfoWsConcat": "123 Main St, New York, USA"
                                },
                                {
                                    "Cname": "Company B",
                                    "PostalInfo": "456 Elm St, London, UK",
                                    "PostalInfoConcat": "456 Elm St, London, UK",
                                    "PostalInfoWsConcat": "456 Elm St, London, UK"
                                },
                                {
                                    "Cname": "Company C",
                                    "PostalInfo": "789 Pine Ave, Toronto, Canada",
                                    "PostalInfoConcat": "789 Pine Ave, Toronto, Canada",
                                    "PostalInfoWsConcat": "789 Pine Ave, Toronto, Canada"
                                },
                                {
                                    "Cname": "Company D",
                                    "PostalInfo": "321 Oak Rd, Sydney, Australia",
                                    "PostalInfoConcat": "321 Oak Rd, Sydney, Australia",
                                    "PostalInfoWsConcat": "321 Oak Rd, Sydney, Australia"
                                },
                                {
                                    "Cname": "Company E",
                                    "PostalInfo": "654 Maple Ln, Dublin, Ireland",
                                    "PostalInfoConcat": "654 Maple Ln, Dublin, Ireland",
                                    "PostalInfoWsConcat": "654 Maple Ln, Dublin, Ireland"
                                },
                                {
                                    "Cname": "Company F",
                                    "PostalInfo": "987 Cedar Blvd, Berlin, Germany",
                                    "PostalInfoConcat": "987 Cedar Blvd, Berlin, Germany",
                                    "PostalInfoWsConcat": "987 Cedar Blvd, Berlin, Germany"
                                },
                                {
                                    "Cname": "Company G",
                                    "PostalInfo": "246 Birch St, Paris, France",
                                    "PostalInfoConcat": "246 Birch St, Paris, France",
                                    "PostalInfoWsConcat": "246 Birch St, Paris, France"
                                },
                                {
                                    "Cname": "Company H",
                                    "PostalInfo": "135 Walnut Dr, Madrid, Spain",
                                    "PostalInfoConcat": "135 Walnut Dr, Madrid, Spain",
                                    "PostalInfoWsConcat": "135 Walnut Dr, Madrid, Spain"
                                },
                                {
                                    "Cname": "Company I",
                                    "PostalInfo": "864 Spruce Ct, Rome, Italy",
                                    "PostalInfoConcat": "864 Spruce Ct, Rome, Italy",
                                    "PostalInfoWsConcat": "864 Spruce Ct, Rome, Italy"
                                },
                                {
                                    "Cname": "Company J",
                                    "PostalInfo": "975 Cherry Pl, Amsterdam, Netherlands",
                                    "PostalInfoConcat": "975 Cherry Pl, Amsterdam, Netherlands",
                                    "PostalInfoWsConcat": "975 Cherry Pl, Amsterdam, Netherlands"
                                },
                                {
                                    "Cname": "Company K",
                                    "PostalInfo": "1122 Cedar Ave, Seoul, South Korea",
                                    "PostalInfoConcat": "1122 Cedar Ave, Seoul, South Korea",
                                    "PostalInfoWsConcat": "1122 Cedar Ave, Seoul, South Korea"
                                },
                                {
                                    "Cname": "Company L",
                                    "PostalInfo": "2233 Oak Street, Beijing, China",
                                    "PostalInfoConcat": "2233 Oak Street, Beijing, China",
                                    "PostalInfoWsConcat": "2233 Oak Street, Beijing, China"
                                },
                                {
                                    "Cname": "Company M",
                                    "PostalInfo": "3344 Birch Road, Cape Town, South Africa",
                                    "PostalInfoConcat": "3344 Birch Road, Cape Town, South Africa",
                                    "PostalInfoWsConcat": "3344 Birch Road, Cape Town, South Africa"
                                },
                                {
                                    "Cname": "Company N",
                                    "PostalInfo": "4455 Elm Lane, Moscow, Russia",
                                    "PostalInfoConcat": "4455 Elm Lane, Moscow, Russia",
                                    "PostalInfoWsConcat": "4455 Elm Lane, Moscow, Russia"
                                },
                                {
                                    "Cname": "Company O",
                                    "PostalInfo": "5566 Pine Path, Mexico City, Mexico",
                                    "PostalInfoConcat": "5566 Pine Path, Mexico City, Mexico",
                                    "PostalInfoWsConcat": "5566 Pine Path, Mexico City, Mexico"
                                }
                            ]
                        },
                        "text/html": "<table><tr><th>Cname</th><th>PostalInfo</th><th>PostalInfoConcat</th><th>PostalInfoWsConcat</th></tr><tr><td>Company A</td><td>123 Main St, New York, USA</td><td>123 Main St, New York, USA</td><td>123 Main St, New York, USA</td></tr><tr><td>Company B</td><td>456 Elm St, London, UK</td><td>456 Elm St, London, UK</td><td>456 Elm St, London, UK</td></tr><tr><td>Company C</td><td>789 Pine Ave, Toronto, Canada</td><td>789 Pine Ave, Toronto, Canada</td><td>789 Pine Ave, Toronto, Canada</td></tr><tr><td>Company D</td><td>321 Oak Rd, Sydney, Australia</td><td>321 Oak Rd, Sydney, Australia</td><td>321 Oak Rd, Sydney, Australia</td></tr><tr><td>Company E</td><td>654 Maple Ln, Dublin, Ireland</td><td>654 Maple Ln, Dublin, Ireland</td><td>654 Maple Ln, Dublin, Ireland</td></tr><tr><td>Company F</td><td>987 Cedar Blvd, Berlin, Germany</td><td>987 Cedar Blvd, Berlin, Germany</td><td>987 Cedar Blvd, Berlin, Germany</td></tr><tr><td>Company G</td><td>246 Birch St, Paris, France</td><td>246 Birch St, Paris, France</td><td>246 Birch St, Paris, France</td></tr><tr><td>Company H</td><td>135 Walnut Dr, Madrid, Spain</td><td>135 Walnut Dr, Madrid, Spain</td><td>135 Walnut Dr, Madrid, Spain</td></tr><tr><td>Company I</td><td>864 Spruce Ct, Rome, Italy</td><td>864 Spruce Ct, Rome, Italy</td><td>864 Spruce Ct, Rome, Italy</td></tr><tr><td>Company J</td><td>975 Cherry Pl, Amsterdam, Netherlands</td><td>975 Cherry Pl, Amsterdam, Netherlands</td><td>975 Cherry Pl, Amsterdam, Netherlands</td></tr><tr><td>Company K</td><td>1122 Cedar Ave, Seoul, South Korea</td><td>1122 Cedar Ave, Seoul, South Korea</td><td>1122 Cedar Ave, Seoul, South Korea</td></tr><tr><td>Company L</td><td>2233 Oak Street, Beijing, China</td><td>2233 Oak Street, Beijing, China</td><td>2233 Oak Street, Beijing, China</td></tr><tr><td>Company M</td><td>3344 Birch Road, Cape Town, South Africa</td><td>3344 Birch Road, Cape Town, South Africa</td><td>3344 Birch Road, Cape Town, South Africa</td></tr><tr><td>Company N</td><td>4455 Elm Lane, Moscow, Russia</td><td>4455 Elm Lane, Moscow, Russia</td><td>4455 Elm Lane, Moscow, Russia</td></tr><tr><td>Company O</td><td>5566 Pine Path, Mexico City, Mexico</td><td>5566 Pine Path, Mexico City, Mexico</td><td>5566 Pine Path, Mexico City, Mexico</td></tr></table>"
                    },
                    "metadata": {}
                }
            ],
            "execution_count": 11
        },
        {
            "cell_type": "code",
            "source": [
                "with CountryInfo AS\r\n",
                "\r\n",
                "(select c.Country, count(*) as NumPayments, sum(p.Amount) as TotalPayment\r\n",
                "from [1_PAYMENT] p\r\n",
                "    join [1_COMPANY] c on p.Cname = c.Cname\r\n",
                "group by c.Country)\r\n",
                "\r\n",
                "select *\r\n",
                "from CountryInfo"
            ],
            "metadata": {
                "azdata_cell_guid": "427262f4-164d-463f-8f89-530f665fe294",
                "language": "sql"
            },
            "outputs": [
                {
                    "output_type": "display_data",
                    "data": {
                        "text/html": "(15 rows affected)"
                    },
                    "metadata": {}
                },
                {
                    "output_type": "display_data",
                    "data": {
                        "text/html": "Total execution time: 00:00:00.019"
                    },
                    "metadata": {}
                },
                {
                    "output_type": "execute_result",
                    "execution_count": 15,
                    "data": {
                        "application/vnd.dataresource+json": {
                            "schema": {
                                "fields": [
                                    {
                                        "name": "Country"
                                    },
                                    {
                                        "name": "NumPayments"
                                    },
                                    {
                                        "name": "TotalPayment"
                                    }
                                ]
                            },
                            "data": [
                                {
                                    "Country": "Australia",
                                    "NumPayments": "1",
                                    "TotalPayment": "500"
                                },
                                {
                                    "Country": "Canada",
                                    "NumPayments": "1",
                                    "TotalPayment": "300"
                                },
                                {
                                    "Country": "China",
                                    "NumPayments": "1",
                                    "TotalPayment": "630"
                                },
                                {
                                    "Country": "France",
                                    "NumPayments": "1",
                                    "TotalPayment": "350"
                                },
                                {
                                    "Country": "Germany",
                                    "NumPayments": "1",
                                    "TotalPayment": "600"
                                },
                                {
                                    "Country": "Ireland",
                                    "NumPayments": "1",
                                    "TotalPayment": "250"
                                },
                                {
                                    "Country": "Italy",
                                    "NumPayments": "1",
                                    "TotalPayment": "400"
                                },
                                {
                                    "Country": "Mexico",
                                    "NumPayments": "1",
                                    "TotalPayment": "960"
                                },
                                {
                                    "Country": "Netherlands",
                                    "NumPayments": "1",
                                    "TotalPayment": "800"
                                },
                                {
                                    "Country": "Russia",
                                    "NumPayments": "1",
                                    "TotalPayment": "850"
                                },
                                {
                                    "Country": "South Africa",
                                    "NumPayments": "1",
                                    "TotalPayment": "740"
                                },
                                {
                                    "Country": "South Korea",
                                    "NumPayments": "1",
                                    "TotalPayment": "520"
                                },
                                {
                                    "Country": "Spain",
                                    "NumPayments": "1",
                                    "TotalPayment": "700"
                                },
                                {
                                    "Country": "UK",
                                    "NumPayments": "1",
                                    "TotalPayment": "450"
                                },
                                {
                                    "Country": "USA",
                                    "NumPayments": "1",
                                    "TotalPayment": "200"
                                }
                            ]
                        },
                        "text/html": "<table><tr><th>Country</th><th>NumPayments</th><th>TotalPayment</th></tr><tr><td>Australia</td><td>1</td><td>500</td></tr><tr><td>Canada</td><td>1</td><td>300</td></tr><tr><td>China</td><td>1</td><td>630</td></tr><tr><td>France</td><td>1</td><td>350</td></tr><tr><td>Germany</td><td>1</td><td>600</td></tr><tr><td>Ireland</td><td>1</td><td>250</td></tr><tr><td>Italy</td><td>1</td><td>400</td></tr><tr><td>Mexico</td><td>1</td><td>960</td></tr><tr><td>Netherlands</td><td>1</td><td>800</td></tr><tr><td>Russia</td><td>1</td><td>850</td></tr><tr><td>South Africa</td><td>1</td><td>740</td></tr><tr><td>South Korea</td><td>1</td><td>520</td></tr><tr><td>Spain</td><td>1</td><td>700</td></tr><tr><td>UK</td><td>1</td><td>450</td></tr><tr><td>USA</td><td>1</td><td>200</td></tr></table>"
                    },
                    "metadata": {}
                }
            ],
            "execution_count": 15
        },
        {
            "cell_type": "code",
            "source": [
                "create view ConuntryInfoView AS\r\n",
                "(select c.Country, count(*) as NumPayments, sum(p.Amount) as TotalPayment\r\n",
                "from [1_PAYMENT] p\r\n",
                "    join [1_COMPANY] c on p.Cname = c.Cname\r\n",
                "group by c.Country)\r\n",
                "\r\n",
                "go\r\n",
                "\r\n",
                "select *\r\n",
                "from ConuntryInfoView"
            ],
            "metadata": {
                "azdata_cell_guid": "9acc9e52-703f-4435-8864-86a5595def87",
                "language": "sql"
            },
            "outputs": [
                {
                    "output_type": "display_data",
                    "data": {
                        "text/html": "Commands completed successfully."
                    },
                    "metadata": {}
                },
                {
                    "output_type": "display_data",
                    "data": {
                        "text/html": "(15 rows affected)"
                    },
                    "metadata": {}
                },
                {
                    "output_type": "display_data",
                    "data": {
                        "text/html": "Total execution time: 00:00:00.030"
                    },
                    "metadata": {}
                },
                {
                    "output_type": "execute_result",
                    "execution_count": 16,
                    "data": {
                        "application/vnd.dataresource+json": {
                            "schema": {
                                "fields": [
                                    {
                                        "name": "Country"
                                    },
                                    {
                                        "name": "NumPayments"
                                    },
                                    {
                                        "name": "TotalPayment"
                                    }
                                ]
                            },
                            "data": [
                                {
                                    "Country": "Australia",
                                    "NumPayments": "1",
                                    "TotalPayment": "500"
                                },
                                {
                                    "Country": "Canada",
                                    "NumPayments": "1",
                                    "TotalPayment": "300"
                                },
                                {
                                    "Country": "China",
                                    "NumPayments": "1",
                                    "TotalPayment": "630"
                                },
                                {
                                    "Country": "France",
                                    "NumPayments": "1",
                                    "TotalPayment": "350"
                                },
                                {
                                    "Country": "Germany",
                                    "NumPayments": "1",
                                    "TotalPayment": "600"
                                },
                                {
                                    "Country": "Ireland",
                                    "NumPayments": "1",
                                    "TotalPayment": "250"
                                },
                                {
                                    "Country": "Italy",
                                    "NumPayments": "1",
                                    "TotalPayment": "400"
                                },
                                {
                                    "Country": "Mexico",
                                    "NumPayments": "1",
                                    "TotalPayment": "960"
                                },
                                {
                                    "Country": "Netherlands",
                                    "NumPayments": "1",
                                    "TotalPayment": "800"
                                },
                                {
                                    "Country": "Russia",
                                    "NumPayments": "1",
                                    "TotalPayment": "850"
                                },
                                {
                                    "Country": "South Africa",
                                    "NumPayments": "1",
                                    "TotalPayment": "740"
                                },
                                {
                                    "Country": "South Korea",
                                    "NumPayments": "1",
                                    "TotalPayment": "520"
                                },
                                {
                                    "Country": "Spain",
                                    "NumPayments": "1",
                                    "TotalPayment": "700"
                                },
                                {
                                    "Country": "UK",
                                    "NumPayments": "1",
                                    "TotalPayment": "450"
                                },
                                {
                                    "Country": "USA",
                                    "NumPayments": "1",
                                    "TotalPayment": "200"
                                }
                            ]
                        },
                        "text/html": "<table><tr><th>Country</th><th>NumPayments</th><th>TotalPayment</th></tr><tr><td>Australia</td><td>1</td><td>500</td></tr><tr><td>Canada</td><td>1</td><td>300</td></tr><tr><td>China</td><td>1</td><td>630</td></tr><tr><td>France</td><td>1</td><td>350</td></tr><tr><td>Germany</td><td>1</td><td>600</td></tr><tr><td>Ireland</td><td>1</td><td>250</td></tr><tr><td>Italy</td><td>1</td><td>400</td></tr><tr><td>Mexico</td><td>1</td><td>960</td></tr><tr><td>Netherlands</td><td>1</td><td>800</td></tr><tr><td>Russia</td><td>1</td><td>850</td></tr><tr><td>South Africa</td><td>1</td><td>740</td></tr><tr><td>South Korea</td><td>1</td><td>520</td></tr><tr><td>Spain</td><td>1</td><td>700</td></tr><tr><td>UK</td><td>1</td><td>450</td></tr><tr><td>USA</td><td>1</td><td>200</td></tr></table>"
                    },
                    "metadata": {}
                }
            ],
            "execution_count": 16
        },
        {
            "cell_type": "code",
            "source": [
                "select f.*\r\n",
                "from [2_FactoryProduct] f\r\n",
                "    left join [2_StoreProduct] s on f.ModelId = s.ModelId and f.ColorId = s.ColorId and f.SizeId = s.SizeId\r\n",
                "where s.Id is NULL"
            ],
            "metadata": {
                "language": "sql",
                "azdata_cell_guid": "1bdf88e2-9107-4076-9054-26de55f19346",
                "tags": []
            },
            "outputs": [
                {
                    "output_type": "display_data",
                    "data": {
                        "text/html": "(12 rows affected)"
                    },
                    "metadata": {}
                },
                {
                    "output_type": "display_data",
                    "data": {
                        "text/html": "Total execution time: 00:00:00.005"
                    },
                    "metadata": {}
                },
                {
                    "output_type": "execute_result",
                    "metadata": {},
                    "execution_count": 6,
                    "data": {
                        "application/vnd.dataresource+json": {
                            "schema": {
                                "fields": [
                                    {
                                        "name": "Id"
                                    },
                                    {
                                        "name": "ModelId"
                                    },
                                    {
                                        "name": "SizeId"
                                    },
                                    {
                                        "name": "ColorId"
                                    },
                                    {
                                        "name": "FactoryPrice"
                                    }
                                ]
                            },
                            "data": [
                                {
                                    "Id": "2",
                                    "ModelId": "1",
                                    "SizeId": "1",
                                    "ColorId": "2",
                                    "FactoryPrice": "100"
                                },
                                {
                                    "Id": "3",
                                    "ModelId": "1",
                                    "SizeId": "1",
                                    "ColorId": "3",
                                    "FactoryPrice": "150"
                                },
                                {
                                    "Id": "4",
                                    "ModelId": "1",
                                    "SizeId": "2",
                                    "ColorId": "1",
                                    "FactoryPrice": "100"
                                },
                                {
                                    "Id": "5",
                                    "ModelId": "1",
                                    "SizeId": "2",
                                    "ColorId": "2",
                                    "FactoryPrice": "200"
                                },
                                {
                                    "Id": "7",
                                    "ModelId": "1",
                                    "SizeId": "3",
                                    "ColorId": "1",
                                    "FactoryPrice": "150"
                                },
                                {
                                    "Id": "9",
                                    "ModelId": "1",
                                    "SizeId": "3",
                                    "ColorId": "3",
                                    "FactoryPrice": "450"
                                },
                                {
                                    "Id": "10",
                                    "ModelId": "2",
                                    "SizeId": "1",
                                    "ColorId": "1",
                                    "FactoryPrice": "100"
                                },
                                {
                                    "Id": "11",
                                    "ModelId": "2",
                                    "SizeId": "1",
                                    "ColorId": "2",
                                    "FactoryPrice": "200"
                                },
                                {
                                    "Id": "13",
                                    "ModelId": "2",
                                    "SizeId": "2",
                                    "ColorId": "1",
                                    "FactoryPrice": "200"
                                },
                                {
                                    "Id": "15",
                                    "ModelId": "2",
                                    "SizeId": "2",
                                    "ColorId": "3",
                                    "FactoryPrice": "600"
                                },
                                {
                                    "Id": "17",
                                    "ModelId": "2",
                                    "SizeId": "3",
                                    "ColorId": "2",
                                    "FactoryPrice": "600"
                                },
                                {
                                    "Id": "18",
                                    "ModelId": "2",
                                    "SizeId": "3",
                                    "ColorId": "3",
                                    "FactoryPrice": "900"
                                }
                            ]
                        },
                        "text/html": [
                            "<table>",
                            "<tr><th>Id</th><th>ModelId</th><th>SizeId</th><th>ColorId</th><th>FactoryPrice</th></tr>",
                            "<tr><td>2</td><td>1</td><td>1</td><td>2</td><td>100</td></tr>",
                            "<tr><td>3</td><td>1</td><td>1</td><td>3</td><td>150</td></tr>",
                            "<tr><td>4</td><td>1</td><td>2</td><td>1</td><td>100</td></tr>",
                            "<tr><td>5</td><td>1</td><td>2</td><td>2</td><td>200</td></tr>",
                            "<tr><td>7</td><td>1</td><td>3</td><td>1</td><td>150</td></tr>",
                            "<tr><td>9</td><td>1</td><td>3</td><td>3</td><td>450</td></tr>",
                            "<tr><td>10</td><td>2</td><td>1</td><td>1</td><td>100</td></tr>",
                            "<tr><td>11</td><td>2</td><td>1</td><td>2</td><td>200</td></tr>",
                            "<tr><td>13</td><td>2</td><td>2</td><td>1</td><td>200</td></tr>",
                            "<tr><td>15</td><td>2</td><td>2</td><td>3</td><td>600</td></tr>",
                            "<tr><td>17</td><td>2</td><td>3</td><td>2</td><td>600</td></tr>",
                            "<tr><td>18</td><td>2</td><td>3</td><td>3</td><td>900</td></tr>",
                            "</table>"
                        ]
                    }
                }
            ],
            "execution_count": 6
        },
        {
            "cell_type": "code",
            "source": [
                "with RedColorStats  as \r\n",
                "(select count(f.Id) as TotalRed, count(s.Id) as StoreRed\r\n",
                "from [2_FactoryProduct] f\r\n",
                "    left join [2_StoreProduct] s on f.ModelId = s.ModelId and f.ColorId = s.ColorId and f.SizeId = s.SizeId\r\n",
                "    join [2_Color] c on f.ColorId = c.Id\r\n",
                "where c.Name = 'Red')\r\n",
                "\r\n",
                "select r.*, cast(r.StoreRed *1.0 / r.TotalRed  * 100 as decimal(10,2)) as PercentageRedInStore\r\n",
                "from RedColorStats r"
            ],
            "metadata": {
                "azdata_cell_guid": "844f8ba8-8e0a-48e8-8ca1-d4e534424f6f",
                "language": "sql"
            },
            "outputs": [
                {
                    "output_type": "display_data",
                    "data": {
                        "text/html": "Warning: Null value is eliminated by an aggregate or other SET operation."
                    },
                    "metadata": {}
                },
                {
                    "output_type": "display_data",
                    "data": {
                        "text/html": "(1 row affected)"
                    },
                    "metadata": {}
                },
                {
                    "output_type": "display_data",
                    "data": {
                        "text/html": "Total execution time: 00:00:00.018"
                    },
                    "metadata": {}
                },
                {
                    "output_type": "execute_result",
                    "metadata": {},
                    "execution_count": 29,
                    "data": {
                        "application/vnd.dataresource+json": {
                            "schema": {
                                "fields": [
                                    {
                                        "name": "TotalRed"
                                    },
                                    {
                                        "name": "StoreRed"
                                    },
                                    {
                                        "name": "PercentageRedInStore"
                                    }
                                ]
                            },
                            "data": [
                                {
                                    "TotalRed": "6",
                                    "StoreRed": "2",
                                    "PercentageRedInStore": "33.33"
                                }
                            ]
                        },
                        "text/html": [
                            "<table>",
                            "<tr><th>TotalRed</th><th>StoreRed</th><th>PercentageRedInStore</th></tr>",
                            "<tr><td>6</td><td>2</td><td>33.33</td></tr>",
                            "</table>"
                        ]
                    }
                }
            ],
            "execution_count": 29
        },
        {
            "cell_type": "code",
            "source": [
                "DELETE from [2_FactoryProduct] \r\n",
                "where ColorId = (\r\n",
                "    select c.Id\r\n",
                "    from [2_Color] c\r\n",
                "    where c.Name = 'Yellow'\r\n",
                ")"
            ],
            "metadata": {
                "azdata_cell_guid": "2402c482-4e4b-4390-b15f-3ea83c6080c3",
                "language": "sql"
            },
            "outputs": [
                {
                    "output_type": "display_data",
                    "data": {
                        "text/html": "(6 rows affected)"
                    },
                    "metadata": {}
                },
                {
                    "output_type": "display_data",
                    "data": {
                        "text/html": "Total execution time: 00:00:00.017"
                    },
                    "metadata": {}
                }
            ],
            "execution_count": 30
        },
        {
            "cell_type": "code",
            "source": [
                "select *\r\n",
                "from [2_FactoryProduct] f\r\n",
                "    join [2_Color] c on f.ColorId = c.Id"
            ],
            "metadata": {
                "azdata_cell_guid": "6c91576f-c5a6-4658-b186-3c2f4775fd8a",
                "language": "sql"
            },
            "outputs": [
                {
                    "output_type": "display_data",
                    "data": {
                        "text/html": "(12 rows affected)"
                    },
                    "metadata": {}
                },
                {
                    "output_type": "display_data",
                    "data": {
                        "text/html": "Total execution time: 00:00:00.006"
                    },
                    "metadata": {}
                },
                {
                    "output_type": "execute_result",
                    "metadata": {},
                    "execution_count": 32,
                    "data": {
                        "application/vnd.dataresource+json": {
                            "schema": {
                                "fields": [
                                    {
                                        "name": "Id"
                                    },
                                    {
                                        "name": "ModelId"
                                    },
                                    {
                                        "name": "SizeId"
                                    },
                                    {
                                        "name": "ColorId"
                                    },
                                    {
                                        "name": "FactoryPrice"
                                    },
                                    {
                                        "name": "Id"
                                    },
                                    {
                                        "name": "Name"
                                    }
                                ]
                            },
                            "data": [
                                {
                                    "Id": "1",
                                    "ModelId": "1",
                                    "SizeId": "1",
                                    "ColorId": "1",
                                    "FactoryPrice": "50",
                                    "Name": "Blue"
                                },
                                {
                                    "Id": "3",
                                    "ModelId": "1",
                                    "SizeId": "1",
                                    "ColorId": "3",
                                    "FactoryPrice": "150",
                                    "Name": "Red"
                                },
                                {
                                    "Id": "1",
                                    "ModelId": "1",
                                    "SizeId": "2",
                                    "ColorId": "1",
                                    "FactoryPrice": "100",
                                    "Name": "Blue"
                                },
                                {
                                    "Id": "3",
                                    "ModelId": "1",
                                    "SizeId": "2",
                                    "ColorId": "3",
                                    "FactoryPrice": "300",
                                    "Name": "Red"
                                },
                                {
                                    "Id": "1",
                                    "ModelId": "1",
                                    "SizeId": "3",
                                    "ColorId": "1",
                                    "FactoryPrice": "150",
                                    "Name": "Blue"
                                },
                                {
                                    "Id": "3",
                                    "ModelId": "1",
                                    "SizeId": "3",
                                    "ColorId": "3",
                                    "FactoryPrice": "450",
                                    "Name": "Red"
                                },
                                {
                                    "Id": "1",
                                    "ModelId": "2",
                                    "SizeId": "1",
                                    "ColorId": "1",
                                    "FactoryPrice": "100",
                                    "Name": "Blue"
                                },
                                {
                                    "Id": "3",
                                    "ModelId": "2",
                                    "SizeId": "1",
                                    "ColorId": "3",
                                    "FactoryPrice": "300",
                                    "Name": "Red"
                                },
                                {
                                    "Id": "1",
                                    "ModelId": "2",
                                    "SizeId": "2",
                                    "ColorId": "1",
                                    "FactoryPrice": "200",
                                    "Name": "Blue"
                                },
                                {
                                    "Id": "3",
                                    "ModelId": "2",
                                    "SizeId": "2",
                                    "ColorId": "3",
                                    "FactoryPrice": "600",
                                    "Name": "Red"
                                },
                                {
                                    "Id": "1",
                                    "ModelId": "2",
                                    "SizeId": "3",
                                    "ColorId": "1",
                                    "FactoryPrice": "300",
                                    "Name": "Blue"
                                },
                                {
                                    "Id": "3",
                                    "ModelId": "2",
                                    "SizeId": "3",
                                    "ColorId": "3",
                                    "FactoryPrice": "900",
                                    "Name": "Red"
                                }
                            ]
                        },
                        "text/html": [
                            "<table>",
                            "<tr><th>Id</th><th>ModelId</th><th>SizeId</th><th>ColorId</th><th>FactoryPrice</th><th>Id</th><th>Name</th></tr>",
                            "<tr><td>1</td><td>1</td><td>1</td><td>1</td><td>50</td><td>1</td><td>Blue</td></tr>",
                            "<tr><td>3</td><td>1</td><td>1</td><td>3</td><td>150</td><td>3</td><td>Red</td></tr>",
                            "<tr><td>4</td><td>1</td><td>2</td><td>1</td><td>100</td><td>1</td><td>Blue</td></tr>",
                            "<tr><td>6</td><td>1</td><td>2</td><td>3</td><td>300</td><td>3</td><td>Red</td></tr>",
                            "<tr><td>7</td><td>1</td><td>3</td><td>1</td><td>150</td><td>1</td><td>Blue</td></tr>",
                            "<tr><td>9</td><td>1</td><td>3</td><td>3</td><td>450</td><td>3</td><td>Red</td></tr>",
                            "<tr><td>10</td><td>2</td><td>1</td><td>1</td><td>100</td><td>1</td><td>Blue</td></tr>",
                            "<tr><td>12</td><td>2</td><td>1</td><td>3</td><td>300</td><td>3</td><td>Red</td></tr>",
                            "<tr><td>13</td><td>2</td><td>2</td><td>1</td><td>200</td><td>1</td><td>Blue</td></tr>",
                            "<tr><td>15</td><td>2</td><td>2</td><td>3</td><td>600</td><td>3</td><td>Red</td></tr>",
                            "<tr><td>16</td><td>2</td><td>3</td><td>1</td><td>300</td><td>1</td><td>Blue</td></tr>",
                            "<tr><td>18</td><td>2</td><td>3</td><td>3</td><td>900</td><td>3</td><td>Red</td></tr>",
                            "</table>"
                        ]
                    }
                }
            ],
            "execution_count": 32
        },
        {
            "cell_type": "code",
            "source": [
                "select s.*\r\n",
                "from [2_StoreProduct] s\r\n",
                "    left join [2_FactoryProduct] f on s.ModelId = f.ModelId and s.ColorId = f.ColorId and s.SizeId = f.SizeId\r\n",
                "where f.Id is NULL"
            ],
            "metadata": {
                "azdata_cell_guid": "d22134dc-4bc6-4316-96f9-a640a67f7ea0",
                "language": "sql"
            },
            "outputs": [
                {
                    "output_type": "display_data",
                    "data": {
                        "text/html": "(2 rows affected)"
                    },
                    "metadata": {}
                },
                {
                    "output_type": "display_data",
                    "data": {
                        "text/html": "Total execution time: 00:00:00.015"
                    },
                    "metadata": {}
                },
                {
                    "output_type": "execute_result",
                    "metadata": {},
                    "execution_count": 37,
                    "data": {
                        "application/vnd.dataresource+json": {
                            "schema": {
                                "fields": [
                                    {
                                        "name": "Id"
                                    },
                                    {
                                        "name": "ModelId"
                                    },
                                    {
                                        "name": "SizeId"
                                    },
                                    {
                                        "name": "ColorId"
                                    },
                                    {
                                        "name": "RetailPrice"
                                    },
                                    {
                                        "name": "ItemsOnStock"
                                    }
                                ]
                            },
                            "data": [
                                {
                                    "Id": "3",
                                    "ModelId": "1",
                                    "SizeId": "3",
                                    "ColorId": "2",
                                    "RetailPrice": "600",
                                    "ItemsOnStock": "6"
                                },
                                {
                                    "Id": "5",
                                    "ModelId": "2",
                                    "SizeId": "2",
                                    "ColorId": "2",
                                    "RetailPrice": "800",
                                    "ItemsOnStock": "6"
                                }
                            ]
                        },
                        "text/html": [
                            "<table>",
                            "<tr><th>Id</th><th>ModelId</th><th>SizeId</th><th>ColorId</th><th>RetailPrice</th><th>ItemsOnStock</th></tr>",
                            "<tr><td>3</td><td>1</td><td>3</td><td>2</td><td>600</td><td>6</td></tr>",
                            "<tr><td>5</td><td>2</td><td>2</td><td>2</td><td>800</td><td>6</td></tr>",
                            "</table>"
                        ]
                    }
                }
            ],
            "execution_count": 37
        },
        {
            "cell_type": "code",
            "source": [
                "select ModelId, SizeId, ColorId\r\n",
                "from [2_FactoryProduct]\r\n",
                "\r\n",
                "union\r\n",
                "\r\n",
                "select ModelId, SizeId, ColorId\r\n",
                "from [2_StoreProduct]"
            ],
            "metadata": {
                "azdata_cell_guid": "87eff25b-b73b-4a93-90b4-8452a01e45c7",
                "language": "sql"
            },
            "outputs": [
                {
                    "output_type": "display_data",
                    "data": {
                        "text/html": "(14 rows affected)"
                    },
                    "metadata": {}
                },
                {
                    "output_type": "display_data",
                    "data": {
                        "text/html": "Total execution time: 00:00:00.020"
                    },
                    "metadata": {}
                },
                {
                    "output_type": "execute_result",
                    "metadata": {},
                    "execution_count": 44,
                    "data": {
                        "application/vnd.dataresource+json": {
                            "schema": {
                                "fields": [
                                    {
                                        "name": "ModelId"
                                    },
                                    {
                                        "name": "SizeId"
                                    },
                                    {
                                        "name": "ColorId"
                                    }
                                ]
                            },
                            "data": [
                                {
                                    "ModelId": "1",
                                    "SizeId": "1",
                                    "ColorId": "1"
                                },
                                {
                                    "ModelId": "1",
                                    "SizeId": "1",
                                    "ColorId": "3"
                                },
                                {
                                    "ModelId": "1",
                                    "SizeId": "2",
                                    "ColorId": "1"
                                },
                                {
                                    "ModelId": "1",
                                    "SizeId": "2",
                                    "ColorId": "3"
                                },
                                {
                                    "ModelId": "1",
                                    "SizeId": "3",
                                    "ColorId": "1"
                                },
                                {
                                    "ModelId": "1",
                                    "SizeId": "3",
                                    "ColorId": "2"
                                },
                                {
                                    "ModelId": "1",
                                    "SizeId": "3",
                                    "ColorId": "3"
                                },
                                {
                                    "ModelId": "2",
                                    "SizeId": "1",
                                    "ColorId": "1"
                                },
                                {
                                    "ModelId": "2",
                                    "SizeId": "1",
                                    "ColorId": "3"
                                },
                                {
                                    "ModelId": "2",
                                    "SizeId": "2",
                                    "ColorId": "1"
                                },
                                {
                                    "ModelId": "2",
                                    "SizeId": "2",
                                    "ColorId": "2"
                                },
                                {
                                    "ModelId": "2",
                                    "SizeId": "2",
                                    "ColorId": "3"
                                },
                                {
                                    "ModelId": "2",
                                    "SizeId": "3",
                                    "ColorId": "1"
                                },
                                {
                                    "ModelId": "2",
                                    "SizeId": "3",
                                    "ColorId": "3"
                                }
                            ]
                        },
                        "text/html": [
                            "<table>",
                            "<tr><th>ModelId</th><th>SizeId</th><th>ColorId</th></tr>",
                            "<tr><td>1</td><td>1</td><td>1</td></tr>",
                            "<tr><td>1</td><td>1</td><td>3</td></tr>",
                            "<tr><td>1</td><td>2</td><td>1</td></tr>",
                            "<tr><td>1</td><td>2</td><td>3</td></tr>",
                            "<tr><td>1</td><td>3</td><td>1</td></tr>",
                            "<tr><td>1</td><td>3</td><td>2</td></tr>",
                            "<tr><td>1</td><td>3</td><td>3</td></tr>",
                            "<tr><td>2</td><td>1</td><td>1</td></tr>",
                            "<tr><td>2</td><td>1</td><td>3</td></tr>",
                            "<tr><td>2</td><td>2</td><td>1</td></tr>",
                            "<tr><td>2</td><td>2</td><td>2</td></tr>",
                            "<tr><td>2</td><td>2</td><td>3</td></tr>",
                            "<tr><td>2</td><td>3</td><td>1</td></tr>",
                            "<tr><td>2</td><td>3</td><td>3</td></tr>",
                            "</table>"
                        ]
                    }
                }
            ],
            "execution_count": 44
        },
        {
            "cell_type": "code",
            "source": [
                "select f.FactoryPrice,s.RetailPrice,\r\n",
                "case \r\n",
                "    when f.FactoryPrice is null then s.RetailPrice\r\n",
                "    when s.RetailPrice is null then f.FactoryPrice\r\n",
                "    else s.RetailPrice - f.FactoryPrice\r\n",
                "end as 'Difference (Factory if Retail is null and vice versa)'\r\n",
                "from [2_FactoryProduct] f\r\n",
                "full outer join [2_StoreProduct] s on f.ModelId = s.ModelId and f.ColorId = s.ColorId and f.SizeId = s.SizeId"
            ],
            "metadata": {
                "azdata_cell_guid": "5b40e68e-3f4a-439b-a50a-1a75b7e94afa",
                "language": "sql"
            },
            "outputs": [
                {
                    "output_type": "display_data",
                    "data": {
                        "text/html": "(14 rows affected)"
                    },
                    "metadata": {}
                },
                {
                    "output_type": "display_data",
                    "data": {
                        "text/html": "Total execution time: 00:00:00.010"
                    },
                    "metadata": {}
                },
                {
                    "output_type": "execute_result",
                    "metadata": {},
                    "execution_count": 51,
                    "data": {
                        "application/vnd.dataresource+json": {
                            "schema": {
                                "fields": [
                                    {
                                        "name": "FactoryPrice"
                                    },
                                    {
                                        "name": "RetailPrice"
                                    },
                                    {
                                        "name": "Difference (Factory if Retail is null and vice versa)"
                                    }
                                ]
                            },
                            "data": [
                                {
                                    "FactoryPrice": "50",
                                    "RetailPrice": "100",
                                    "Difference (Factory if Retail is null and vice versa)": "50"
                                },
                                {
                                    "FactoryPrice": "150",
                                    "RetailPrice": "NULL",
                                    "Difference (Factory if Retail is null and vice versa)": "150"
                                },
                                {
                                    "FactoryPrice": "100",
                                    "RetailPrice": "NULL",
                                    "Difference (Factory if Retail is null and vice versa)": "100"
                                },
                                {
                                    "FactoryPrice": "300",
                                    "RetailPrice": "600",
                                    "Difference (Factory if Retail is null and vice versa)": "300"
                                },
                                {
                                    "FactoryPrice": "150",
                                    "RetailPrice": "NULL",
                                    "Difference (Factory if Retail is null and vice versa)": "150"
                                },
                                {
                                    "FactoryPrice": "450",
                                    "RetailPrice": "NULL",
                                    "Difference (Factory if Retail is null and vice versa)": "450"
                                },
                                {
                                    "FactoryPrice": "100",
                                    "RetailPrice": "NULL",
                                    "Difference (Factory if Retail is null and vice versa)": "100"
                                },
                                {
                                    "FactoryPrice": "300",
                                    "RetailPrice": "600",
                                    "Difference (Factory if Retail is null and vice versa)": "300"
                                },
                                {
                                    "FactoryPrice": "200",
                                    "RetailPrice": "NULL",
                                    "Difference (Factory if Retail is null and vice versa)": "200"
                                },
                                {
                                    "FactoryPrice": "600",
                                    "RetailPrice": "NULL",
                                    "Difference (Factory if Retail is null and vice versa)": "600"
                                },
                                {
                                    "FactoryPrice": "300",
                                    "RetailPrice": "600",
                                    "Difference (Factory if Retail is null and vice versa)": "300"
                                },
                                {
                                    "FactoryPrice": "900",
                                    "RetailPrice": "NULL",
                                    "Difference (Factory if Retail is null and vice versa)": "900"
                                },
                                {
                                    "FactoryPrice": "NULL",
                                    "RetailPrice": "600",
                                    "Difference (Factory if Retail is null and vice versa)": "600"
                                },
                                {
                                    "FactoryPrice": "NULL",
                                    "RetailPrice": "800",
                                    "Difference (Factory if Retail is null and vice versa)": "800"
                                }
                            ]
                        },
                        "text/html": [
                            "<table>",
                            "<tr><th>FactoryPrice</th><th>RetailPrice</th><th>Difference (Factory if Retail is null and vice versa)</th></tr>",
                            "<tr><td>50</td><td>100</td><td>50</td></tr>",
                            "<tr><td>150</td><td>NULL</td><td>150</td></tr>",
                            "<tr><td>100</td><td>NULL</td><td>100</td></tr>",
                            "<tr><td>300</td><td>600</td><td>300</td></tr>",
                            "<tr><td>150</td><td>NULL</td><td>150</td></tr>",
                            "<tr><td>450</td><td>NULL</td><td>450</td></tr>",
                            "<tr><td>100</td><td>NULL</td><td>100</td></tr>",
                            "<tr><td>300</td><td>600</td><td>300</td></tr>",
                            "<tr><td>200</td><td>NULL</td><td>200</td></tr>",
                            "<tr><td>600</td><td>NULL</td><td>600</td></tr>",
                            "<tr><td>300</td><td>600</td><td>300</td></tr>",
                            "<tr><td>900</td><td>NULL</td><td>900</td></tr>",
                            "<tr><td>NULL</td><td>600</td><td>600</td></tr>",
                            "<tr><td>NULL</td><td>800</td><td>800</td></tr>",
                            "</table>"
                        ]
                    }
                }
            ],
            "execution_count": 51
        },
        {
            "cell_type": "code",
            "source": [
                "select *\r\n",
                "from [2_StoreProduct] s\r\n",
                "    join [2_Color] c on s.ColorId = c.Id\r\n",
                "where c.Name = 'Blue'\r\n",
                "\r\n",
                "go\r\n",
                "\r\n",
                "update [2_StoreProduct]\r\n",
                "set ItemsOnStock = ItemsOnStock * 2\r\n",
                "where ColorId = (\r\n",
                "    select c.Id\r\n",
                "    from [2_Color] c\r\n",
                "    where c.Name = 'Blue'\r\n",
                ")\r\n",
                "\r\n",
                "go\r\n",
                "\r\n",
                "select *\r\n",
                "from [2_StoreProduct] s\r\n",
                "    join [2_Color] c on s.ColorId = c.Id\r\n",
                "where c.Name = 'Blue'\r\n",
                "\r\n",
                "\r\n",
                "-- OR\r\n",
                "\r\n",
                "\r\n",
                "-- SELECT *\r\n",
                "-- FROM [2_StoreProduct] sp \r\n",
                "-- JOIN [2_Color] c ON sp.ColorId=c.Id\r\n",
                "-- where c.Name='Blue';\r\n",
                "\r\n",
                "\r\n",
                "-- UPDATE [2_StoreProduct]\r\n",
                "-- SET ItemsOnStock = ItemsOnStock * 2\r\n",
                "-- FROM [2_StoreProduct] sp \r\n",
                "-- JOIN [2_Color] c ON sp.ColorId=c.Id\r\n",
                "-- where c.Name='Blue';\r\n",
                "\r\n",
                "\r\n",
                "-- SELECT *\r\n",
                "-- FROM [2_StoreProduct] sp \r\n",
                "-- JOIN [2_Color] c ON sp.ColorId=c.Id\r\n",
                "-- where c.Name='Blue';"
            ],
            "metadata": {
                "azdata_cell_guid": "1f67cf68-21f6-46ec-bb72-8a431a32697a",
                "language": "sql"
            },
            "outputs": [
                {
                    "output_type": "display_data",
                    "data": {
                        "text/html": "(2 rows affected)"
                    },
                    "metadata": {}
                },
                {
                    "output_type": "display_data",
                    "data": {
                        "text/html": "(2 rows affected)"
                    },
                    "metadata": {}
                },
                {
                    "output_type": "display_data",
                    "data": {
                        "text/html": "(2 rows affected)"
                    },
                    "metadata": {}
                },
                {
                    "output_type": "display_data",
                    "data": {
                        "text/html": "Total execution time: 00:00:00.018"
                    },
                    "metadata": {}
                },
                {
                    "output_type": "execute_result",
                    "metadata": {},
                    "execution_count": 54,
                    "data": {
                        "application/vnd.dataresource+json": {
                            "schema": {
                                "fields": [
                                    {
                                        "name": "Id"
                                    },
                                    {
                                        "name": "ModelId"
                                    },
                                    {
                                        "name": "SizeId"
                                    },
                                    {
                                        "name": "ColorId"
                                    },
                                    {
                                        "name": "RetailPrice"
                                    },
                                    {
                                        "name": "ItemsOnStock"
                                    },
                                    {
                                        "name": "Id"
                                    },
                                    {
                                        "name": "Name"
                                    }
                                ]
                            },
                            "data": [
                                {
                                    "Id": "1",
                                    "ModelId": "1",
                                    "SizeId": "1",
                                    "ColorId": "1",
                                    "RetailPrice": "100",
                                    "ItemsOnStock": "3",
                                    "Name": "Blue"
                                },
                                {
                                    "Id": "1",
                                    "ModelId": "2",
                                    "SizeId": "3",
                                    "ColorId": "1",
                                    "RetailPrice": "600",
                                    "ItemsOnStock": "6",
                                    "Name": "Blue"
                                }
                            ]
                        },
                        "text/html": [
                            "<table>",
                            "<tr><th>Id</th><th>ModelId</th><th>SizeId</th><th>ColorId</th><th>RetailPrice</th><th>ItemsOnStock</th><th>Id</th><th>Name</th></tr>",
                            "<tr><td>1</td><td>1</td><td>1</td><td>1</td><td>100</td><td>3</td><td>1</td><td>Blue</td></tr>",
                            "<tr><td>6</td><td>2</td><td>3</td><td>1</td><td>600</td><td>6</td><td>1</td><td>Blue</td></tr>",
                            "</table>"
                        ]
                    }
                },
                {
                    "output_type": "execute_result",
                    "metadata": {},
                    "execution_count": 54,
                    "data": {
                        "application/vnd.dataresource+json": {
                            "schema": {
                                "fields": [
                                    {
                                        "name": "Id"
                                    },
                                    {
                                        "name": "ModelId"
                                    },
                                    {
                                        "name": "SizeId"
                                    },
                                    {
                                        "name": "ColorId"
                                    },
                                    {
                                        "name": "RetailPrice"
                                    },
                                    {
                                        "name": "ItemsOnStock"
                                    },
                                    {
                                        "name": "Id"
                                    },
                                    {
                                        "name": "Name"
                                    }
                                ]
                            },
                            "data": [
                                {
                                    "Id": "1",
                                    "ModelId": "1",
                                    "SizeId": "1",
                                    "ColorId": "1",
                                    "RetailPrice": "100",
                                    "ItemsOnStock": "6",
                                    "Name": "Blue"
                                },
                                {
                                    "Id": "1",
                                    "ModelId": "2",
                                    "SizeId": "3",
                                    "ColorId": "1",
                                    "RetailPrice": "600",
                                    "ItemsOnStock": "12",
                                    "Name": "Blue"
                                }
                            ]
                        },
                        "text/html": [
                            "<table>",
                            "<tr><th>Id</th><th>ModelId</th><th>SizeId</th><th>ColorId</th><th>RetailPrice</th><th>ItemsOnStock</th><th>Id</th><th>Name</th></tr>",
                            "<tr><td>1</td><td>1</td><td>1</td><td>1</td><td>100</td><td>6</td><td>1</td><td>Blue</td></tr>",
                            "<tr><td>6</td><td>2</td><td>3</td><td>1</td><td>600</td><td>12</td><td>1</td><td>Blue</td></tr>",
                            "</table>"
                        ]
                    }
                }
            ],
            "execution_count": 54
        },
        {
            "cell_type": "markdown",
            "source": [
                "## Zadacha 2"
            ],
            "metadata": {
                "language": "sql",
                "azdata_cell_guid": "193ab346-4401-49cc-8f11-b4ac16574347"
            },
            "attachments": {}
        },
        {
            "cell_type": "code",
            "source": [
                "select p.name, p.surname\r\n",
                "from [3_PASSENGER] p\r\n",
                "where p.passportNo not in (\r\n",
                "    select r.passportNo\r\n",
                "    from [3_RESERVATION] r\r\n",
                "    where r.[date] = '2023-12-25'\r\n",
                "    )\r\n",
                "\r\n",
                "go\r\n",
                "\r\n",
                "with target as \r\n",
                "(\r\n",
                "select p.passportNo\r\n",
                "from [3_PASSENGER] p\r\n",
                "\r\n",
                "EXCEPT\r\n",
                "\r\n",
                "select r.passportNo\r\n",
                "from [3_RESERVATION] r\r\n",
                "where r.[date] = '2023-12-25'\r\n",
                ")\r\n",
                "\r\n",
                "select p.name, p.surname\r\n",
                "from [3_PASSENGER] p \r\n",
                "    join target t on p.passportNo = t.passportNo"
            ],
            "metadata": {
                "azdata_cell_guid": "cb471422-08b7-4869-aaa2-9a48ee6d6e9f",
                "language": "sql"
            },
            "outputs": [
                {
                    "output_type": "display_data",
                    "data": {
                        "text/html": "(3 rows affected)"
                    },
                    "metadata": {}
                },
                {
                    "output_type": "display_data",
                    "data": {
                        "text/html": "(3 rows affected)"
                    },
                    "metadata": {}
                },
                {
                    "output_type": "display_data",
                    "data": {
                        "text/html": "Total execution time: 00:00:00.021"
                    },
                    "metadata": {}
                },
                {
                    "output_type": "execute_result",
                    "metadata": {},
                    "execution_count": 65,
                    "data": {
                        "application/vnd.dataresource+json": {
                            "schema": {
                                "fields": [
                                    {
                                        "name": "name"
                                    },
                                    {
                                        "name": "surname"
                                    }
                                ]
                            },
                            "data": [
                                {
                                    "name": "John",
                                    "surname": "Doe"
                                },
                                {
                                    "name": "Bob",
                                    "surname": "Brown"
                                },
                                {
                                    "name": "Jane",
                                    "surname": "Smith"
                                }
                            ]
                        },
                        "text/html": [
                            "<table>",
                            "<tr><th>name</th><th>surname</th></tr>",
                            "<tr><td>John</td><td>Doe</td></tr>",
                            "<tr><td>Bob</td><td>Brown</td></tr>",
                            "<tr><td>Jane</td><td>Smith</td></tr>",
                            "</table>"
                        ]
                    }
                },
                {
                    "output_type": "execute_result",
                    "metadata": {},
                    "execution_count": 65,
                    "data": {
                        "application/vnd.dataresource+json": {
                            "schema": {
                                "fields": [
                                    {
                                        "name": "name"
                                    },
                                    {
                                        "name": "surname"
                                    }
                                ]
                            },
                            "data": [
                                {
                                    "name": "John",
                                    "surname": "Doe"
                                },
                                {
                                    "name": "Bob",
                                    "surname": "Brown"
                                },
                                {
                                    "name": "Jane",
                                    "surname": "Smith"
                                }
                            ]
                        },
                        "text/html": [
                            "<table>",
                            "<tr><th>name</th><th>surname</th></tr>",
                            "<tr><td>John</td><td>Doe</td></tr>",
                            "<tr><td>Bob</td><td>Brown</td></tr>",
                            "<tr><td>Jane</td><td>Smith</td></tr>",
                            "</table>"
                        ]
                    }
                }
            ],
            "execution_count": 65
        },
        {
            "cell_type": "code",
            "source": [
                "select p.code as PilotCode, count(c.line_code) as TotalFlights\r\n",
                "from [3_PILOT] p\r\n",
                "    left join [3_CREW] c on p.code = c.employeeCode\r\n",
                "group by p.code"
            ],
            "metadata": {
                "azdata_cell_guid": "aa1cff6a-1a37-4635-82c8-4afefa6bea9e",
                "language": "sql"
            },
            "outputs": [
                {
                    "output_type": "display_data",
                    "data": {
                        "text/html": "(5 rows affected)"
                    },
                    "metadata": {}
                },
                {
                    "output_type": "display_data",
                    "data": {
                        "text/html": "Total execution time: 00:00:00.009"
                    },
                    "metadata": {}
                },
                {
                    "output_type": "execute_result",
                    "metadata": {},
                    "execution_count": 73,
                    "data": {
                        "application/vnd.dataresource+json": {
                            "schema": {
                                "fields": [
                                    {
                                        "name": "PilotCode"
                                    },
                                    {
                                        "name": "TotalFlights"
                                    }
                                ]
                            },
                            "data": [
                                {
                                    "PilotCode": "3",
                                    "TotalFlights": "3"
                                },
                                {
                                    "PilotCode": "4",
                                    "TotalFlights": "2"
                                },
                                {
                                    "PilotCode": "5",
                                    "TotalFlights": "0"
                                },
                                {
                                    "PilotCode": "6",
                                    "TotalFlights": "0"
                                },
                                {
                                    "PilotCode": "7",
                                    "TotalFlights": "0"
                                }
                            ]
                        },
                        "text/html": [
                            "<table>",
                            "<tr><th>PilotCode</th><th>TotalFlights</th></tr>",
                            "<tr><td>3</td><td>3</td></tr>",
                            "<tr><td>4</td><td>2</td></tr>",
                            "<tr><td>5</td><td>0</td></tr>",
                            "<tr><td>6</td><td>0</td></tr>",
                            "<tr><td>7</td><td>0</td></tr>",
                            "</table>"
                        ]
                    }
                }
            ],
            "execution_count": 73
        },
        {
            "cell_type": "code",
            "source": [
                "select distinct r.passportNo\r\n",
                "from [3_CREW] c\r\n",
                "    join [3_PILOT] p on c.employeeCode = p.code\r\n",
                "    join [3_RESERVATION] r on c.flightNo = r.flightNo and c.line_code = r.line_code\r\n",
                "where p.code = 3\r\n",
                ""
            ],
            "metadata": {
                "azdata_cell_guid": "dc0d970f-1c2a-4290-9601-52890d0128a3",
                "language": "sql"
            },
            "outputs": [
                {
                    "output_type": "display_data",
                    "data": {
                        "text/html": "(4 rows affected)"
                    },
                    "metadata": {}
                },
                {
                    "output_type": "display_data",
                    "data": {
                        "text/html": "Total execution time: 00:00:00.009"
                    },
                    "metadata": {}
                },
                {
                    "output_type": "execute_result",
                    "metadata": {},
                    "execution_count": 84,
                    "data": {
                        "application/vnd.dataresource+json": {
                            "schema": {
                                "fields": [
                                    {
                                        "name": "passportNo"
                                    }
                                ]
                            },
                            "data": [
                                {
                                    "passportNo": "P123456789"
                                },
                                {
                                    "passportNo": "P321654987"
                                },
                                {
                                    "passportNo": "P456789123"
                                },
                                {
                                    "passportNo": "P654321987"
                                }
                            ]
                        },
                        "text/html": [
                            "<table>",
                            "<tr><th>passportNo</th></tr>",
                            "<tr><td>P123456789</td></tr>",
                            "<tr><td>P321654987</td></tr>",
                            "<tr><td>P456789123</td></tr>",
                            "<tr><td>P654321987</td></tr>",
                            "</table>"
                        ]
                    }
                }
            ],
            "execution_count": 84
        },
        {
            "cell_type": "code",
            "source": [
                "with passangers_on_flight_with_pilot_3 as \r\n",
                "(select distinct r.passportNo\r\n",
                "from [3_CREW] c\r\n",
                "    join [3_PILOT] p on c.employeeCode = p.code\r\n",
                "    join [3_RESERVATION] r on c.flightNo = r.flightNo and c.line_code = r.line_code\r\n",
                "where p.code = 3)\r\n",
                "\r\n",
                "select p.passportNo\r\n",
                "from [3_PASSENGER] p\r\n",
                "where p.passportNo not in (\r\n",
                "    select p3.passportNo\r\n",
                "    from passangers_on_flight_with_pilot_3 p3\r\n",
                ")"
            ],
            "metadata": {
                "azdata_cell_guid": "a2b81ea5-a05f-4f4d-aa0e-a7795f79003f",
                "language": "sql"
            },
            "outputs": [
                {
                    "output_type": "display_data",
                    "data": {
                        "text/html": "(1 row affected)"
                    },
                    "metadata": {}
                },
                {
                    "output_type": "display_data",
                    "data": {
                        "text/html": "Total execution time: 00:00:00.030"
                    },
                    "metadata": {}
                },
                {
                    "output_type": "execute_result",
                    "metadata": {},
                    "execution_count": 86,
                    "data": {
                        "application/vnd.dataresource+json": {
                            "schema": {
                                "fields": [
                                    {
                                        "name": "passportNo"
                                    }
                                ]
                            },
                            "data": [
                                {
                                    "passportNo": "P987654321"
                                }
                            ]
                        },
                        "text/html": [
                            "<table>",
                            "<tr><th>passportNo</th></tr>",
                            "<tr><td>P987654321</td></tr>",
                            "</table>"
                        ]
                    }
                }
            ],
            "execution_count": 86
        },
        {
            "cell_type": "code",
            "source": [
                "select distinct r.passportNo\r\n",
                "from [3_CREW] c\r\n",
                "    join [3_PILOT] p on c.employeeCode = p.code\r\n",
                "    join [3_RESERVATION] r on c.flightNo = r.flightNo and c.line_code = r.line_code\r\n",
                "where p.code != 3\r\n",
                "\r\n",
                "select *\r\n",
                "from [3_CREW] c\r\n",
                "    join [3_PILOT] p on c.employeeCode = p.code\r\n",
                "    join [3_RESERVATION] r on c.flightNo = r.flightNo and c.line_code = r.line_code"
            ],
            "metadata": {
                "azdata_cell_guid": "8eb3259c-a51c-4a44-bc7c-2f567faff7f6",
                "language": "sql"
            },
            "outputs": [
                {
                    "output_type": "display_data",
                    "data": {
                        "text/html": "(2 rows affected)"
                    },
                    "metadata": {}
                },
                {
                    "output_type": "display_data",
                    "data": {
                        "text/html": "(6 rows affected)"
                    },
                    "metadata": {}
                },
                {
                    "output_type": "display_data",
                    "data": {
                        "text/html": "Total execution time: 00:00:00.025"
                    },
                    "metadata": {}
                },
                {
                    "output_type": "execute_result",
                    "metadata": {},
                    "execution_count": 90,
                    "data": {
                        "application/vnd.dataresource+json": {
                            "schema": {
                                "fields": [
                                    {
                                        "name": "passportNo"
                                    }
                                ]
                            },
                            "data": [
                                {
                                    "passportNo": "P456789123"
                                },
                                {
                                    "passportNo": "P987654321"
                                }
                            ]
                        },
                        "text/html": [
                            "<table>",
                            "<tr><th>passportNo</th></tr>",
                            "<tr><td>P456789123</td></tr>",
                            "<tr><td>P987654321</td></tr>",
                            "</table>"
                        ]
                    }
                },
                {
                    "output_type": "execute_result",
                    "metadata": {},
                    "execution_count": 90,
                    "data": {
                        "application/vnd.dataresource+json": {
                            "schema": {
                                "fields": [
                                    {
                                        "name": "line_code"
                                    },
                                    {
                                        "name": "flightNo"
                                    },
                                    {
                                        "name": "employeeCode"
                                    },
                                    {
                                        "name": "code"
                                    },
                                    {
                                        "name": "passportNo"
                                    },
                                    {
                                        "name": "line_code"
                                    },
                                    {
                                        "name": "flightNo"
                                    },
                                    {
                                        "name": "date"
                                    }
                                ]
                            },
                            "data": [
                                {
                                    "line_code": "L001",
                                    "flightNo": "F101",
                                    "employeeCode": "3",
                                    "code": "3",
                                    "passportNo": "P123456789",
                                    "date": "2023-12-01"
                                },
                                {
                                    "line_code": "L005",
                                    "flightNo": "F105",
                                    "employeeCode": "3",
                                    "code": "3",
                                    "passportNo": "P321654987",
                                    "date": "2023-12-25"
                                },
                                {
                                    "line_code": "L003",
                                    "flightNo": "F103",
                                    "employeeCode": "4",
                                    "code": "4",
                                    "passportNo": "P456789123",
                                    "date": "2023-12-03"
                                },
                                {
                                    "line_code": "L005",
                                    "flightNo": "F105",
                                    "employeeCode": "3",
                                    "code": "3",
                                    "passportNo": "P456789123",
                                    "date": "2023-12-25"
                                },
                                {
                                    "line_code": "L004",
                                    "flightNo": "F104",
                                    "employeeCode": "3",
                                    "code": "3",
                                    "passportNo": "P654321987",
                                    "date": "2023-12-04"
                                },
                                {
                                    "line_code": "L002",
                                    "flightNo": "F102",
                                    "employeeCode": "4",
                                    "code": "4",
                                    "passportNo": "P987654321",
                                    "date": "2023-12-02"
                                }
                            ]
                        },
                        "text/html": [
                            "<table>",
                            "<tr><th>line_code</th><th>flightNo</th><th>employeeCode</th><th>code</th><th>passportNo</th><th>line_code</th><th>flightNo</th><th>date</th></tr>",
                            "<tr><td>L001</td><td>F101</td><td>3</td><td>3</td><td>P123456789</td><td>L001</td><td>F101</td><td>2023-12-01</td></tr>",
                            "<tr><td>L005</td><td>F105</td><td>3</td><td>3</td><td>P321654987</td><td>L005</td><td>F105</td><td>2023-12-25</td></tr>",
                            "<tr><td>L003</td><td>F103</td><td>4</td><td>4</td><td>P456789123</td><td>L003</td><td>F103</td><td>2023-12-03</td></tr>",
                            "<tr><td>L005</td><td>F105</td><td>3</td><td>3</td><td>P456789123</td><td>L005</td><td>F105</td><td>2023-12-25</td></tr>",
                            "<tr><td>L004</td><td>F104</td><td>3</td><td>3</td><td>P654321987</td><td>L004</td><td>F104</td><td>2023-12-04</td></tr>",
                            "<tr><td>L002</td><td>F102</td><td>4</td><td>4</td><td>P987654321</td><td>L002</td><td>F102</td><td>2023-12-02</td></tr>",
                            "</table>"
                        ]
                    }
                }
            ],
            "execution_count": 90
        }
    ]
}