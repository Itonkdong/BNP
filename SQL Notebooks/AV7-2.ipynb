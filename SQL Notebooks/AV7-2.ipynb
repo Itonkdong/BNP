{
    "metadata": {
        "kernelspec": {
            "name": "SQL",
            "display_name": "SQL",
            "language": "sql"
        },
        "language_info": {
            "name": "sql",
            "version": ""
        }
    },
    "nbformat_minor": 2,
    "nbformat": 4,
    "cells": [
        {
            "cell_type": "markdown",
            "source": [
                "# Auditoriska vezhba 7"
            ],
            "metadata": {
                "azdata_cell_guid": "817bc002-65fc-4d73-bdaf-ecb8aa69b111"
            },
            "attachments": {}
        },
        {
            "cell_type": "markdown",
            "source": [
                "## Zadacha 2."
            ],
            "metadata": {
                "azdata_cell_guid": "ef0ac382-0b52-4fef-8356-65ed0717499d"
            },
            "attachments": {}
        },
        {
            "cell_type": "code",
            "source": [
                "select e.Name, s.Name as SectorName\r\n",
                "from Employee e\r\n",
                "    join Sector s on e.SectorId = s.Id\r\n",
                "where e.Salary > 10000 and e.Education = 'PhD'"
            ],
            "metadata": {
                "azdata_cell_guid": "ac7c4a1e-96bc-458a-909b-e8bc1876485f",
                "language": "sql"
            },
            "outputs": [
                {
                    "output_type": "display_data",
                    "data": {
                        "text/html": "(3 rows affected)"
                    },
                    "metadata": {}
                },
                {
                    "output_type": "display_data",
                    "data": {
                        "text/html": "Total execution time: 00:00:00.005"
                    },
                    "metadata": {}
                },
                {
                    "output_type": "execute_result",
                    "metadata": {},
                    "execution_count": 5,
                    "data": {
                        "application/vnd.dataresource+json": {
                            "schema": {
                                "fields": [
                                    {
                                        "name": "Name"
                                    },
                                    {
                                        "name": "SectorName"
                                    }
                                ]
                            },
                            "data": [
                                {
                                    "Name": "Employee C",
                                    "SectorName": "Sector C"
                                },
                                {
                                    "Name": "Employee G",
                                    "SectorName": "Sector G"
                                },
                                {
                                    "Name": "Employee J",
                                    "SectorName": "Sector I"
                                }
                            ]
                        },
                        "text/html": [
                            "<table>",
                            "<tr><th>Name</th><th>SectorName</th></tr>",
                            "<tr><td>Employee C</td><td>Sector C</td></tr>",
                            "<tr><td>Employee G</td><td>Sector G</td></tr>",
                            "<tr><td>Employee J</td><td>Sector I</td></tr>",
                            "</table>"
                        ]
                    }
                }
            ],
            "execution_count": 5
        },
        {
            "cell_type": "code",
            "source": [
                "select e.Name\r\n",
                "from Employee e\r\n",
                "    join Sector s on e.SectorId = s.Id\r\n",
                "where s.City = 'Skopje'"
            ],
            "metadata": {
                "azdata_cell_guid": "edd0412c-9355-4346-8bba-7a1dbb60b20d",
                "language": "sql"
            },
            "outputs": [
                {
                    "output_type": "display_data",
                    "data": {
                        "text/html": "(2 rows affected)"
                    },
                    "metadata": {}
                },
                {
                    "output_type": "display_data",
                    "data": {
                        "text/html": "Total execution time: 00:00:00.016"
                    },
                    "metadata": {}
                },
                {
                    "output_type": "execute_result",
                    "metadata": {},
                    "execution_count": 8,
                    "data": {
                        "application/vnd.dataresource+json": {
                            "schema": {
                                "fields": [
                                    {
                                        "name": "Name"
                                    }
                                ]
                            },
                            "data": [
                                {
                                    "Name": "Employee A"
                                },
                                {
                                    "Name": "Employee F"
                                }
                            ]
                        },
                        "text/html": [
                            "<table>",
                            "<tr><th>Name</th></tr>",
                            "<tr><td>Employee A</td></tr>",
                            "<tr><td>Employee F</td></tr>",
                            "</table>"
                        ]
                    }
                }
            ],
            "execution_count": 8
        },
        {
            "cell_type": "code",
            "source": [
                "select distinct s.Name, e.Education\r\n",
                "from Employee e\r\n",
                "    join Sector s on e.SectorId = s.Id\r\n",
                "order by s.Name"
            ],
            "metadata": {
                "azdata_cell_guid": "cf17a286-9b32-4a8e-b9dc-42e81a540945",
                "language": "sql"
            },
            "outputs": [
                {
                    "output_type": "display_data",
                    "data": {
                        "text/html": "(9 rows affected)"
                    },
                    "metadata": {}
                },
                {
                    "output_type": "display_data",
                    "data": {
                        "text/html": "Total execution time: 00:00:00.017"
                    },
                    "metadata": {}
                },
                {
                    "output_type": "execute_result",
                    "metadata": {},
                    "execution_count": 11,
                    "data": {
                        "application/vnd.dataresource+json": {
                            "schema": {
                                "fields": [
                                    {
                                        "name": "Name"
                                    },
                                    {
                                        "name": "Education"
                                    }
                                ]
                            },
                            "data": [
                                {
                                    "Name": "Sector A",
                                    "Education": "Masters"
                                },
                                {
                                    "Name": "Sector B",
                                    "Education": "Bachelors"
                                },
                                {
                                    "Name": "Sector C",
                                    "Education": "PhD"
                                },
                                {
                                    "Name": "Sector D",
                                    "Education": "Masters"
                                },
                                {
                                    "Name": "Sector E",
                                    "Education": "Bachelors"
                                },
                                {
                                    "Name": "Sector G",
                                    "Education": "PhD"
                                },
                                {
                                    "Name": "Sector H",
                                    "Education": "Bachelors"
                                },
                                {
                                    "Name": "Sector I",
                                    "Education": "Masters"
                                },
                                {
                                    "Name": "Sector I",
                                    "Education": "PhD"
                                }
                            ]
                        },
                        "text/html": [
                            "<table>",
                            "<tr><th>Name</th><th>Education</th></tr>",
                            "<tr><td>Sector A</td><td>Masters</td></tr>",
                            "<tr><td>Sector B</td><td>Bachelors</td></tr>",
                            "<tr><td>Sector C</td><td>PhD</td></tr>",
                            "<tr><td>Sector D</td><td>Masters</td></tr>",
                            "<tr><td>Sector E</td><td>Bachelors</td></tr>",
                            "<tr><td>Sector G</td><td>PhD</td></tr>",
                            "<tr><td>Sector H</td><td>Bachelors</td></tr>",
                            "<tr><td>Sector I</td><td>Masters</td></tr>",
                            "<tr><td>Sector I</td><td>PhD</td></tr>",
                            "</table>"
                        ]
                    }
                }
            ],
            "execution_count": 11
        },
        {
            "cell_type": "code",
            "source": [
                "select e.Name\r\n",
                "from Employee e\r\n",
                "    join Sector s on e.SectorId = s.Id\r\n",
                "where s.Id in (4,7)"
            ],
            "metadata": {
                "azdata_cell_guid": "324e3d40-0213-45df-9586-6adf2b3fe02f",
                "language": "sql"
            },
            "outputs": [
                {
                    "output_type": "display_data",
                    "data": {
                        "text/html": "(2 rows affected)"
                    },
                    "metadata": {}
                },
                {
                    "output_type": "display_data",
                    "data": {
                        "text/html": "Total execution time: 00:00:00.006"
                    },
                    "metadata": {}
                },
                {
                    "output_type": "execute_result",
                    "metadata": {},
                    "execution_count": 12,
                    "data": {
                        "application/vnd.dataresource+json": {
                            "schema": {
                                "fields": [
                                    {
                                        "name": "Name"
                                    }
                                ]
                            },
                            "data": [
                                {
                                    "Name": "Employee D"
                                },
                                {
                                    "Name": "Employee G"
                                }
                            ]
                        },
                        "text/html": [
                            "<table>",
                            "<tr><th>Name</th></tr>",
                            "<tr><td>Employee D</td></tr>",
                            "<tr><td>Employee G</td></tr>",
                            "</table>"
                        ]
                    }
                }
            ],
            "execution_count": 12
        },
        {
            "cell_type": "code",
            "source": [
                "select s.Id\r\n",
                "from Sector s\r\n",
                "    left join Employee e on s.Id = e.SectorId\r\n",
                "where e.id is NULL\r\n",
                "\r\n",
                "go\r\n",
                "\r\n",
                "-- OR (this is the same as)======================================\r\n",
                "\r\n",
                "select s.Id\r\n",
                "from Sector s\r\n",
                "\r\n",
                "EXCEPT\r\n",
                "\r\n",
                "select s.Id\r\n",
                "from Sector s\r\n",
                "    join Employee e on s.Id = e.SectorId"
            ],
            "metadata": {
                "azdata_cell_guid": "e9c26ac5-3339-4ae5-a865-6e42c68746db",
                "language": "sql"
            },
            "outputs": [
                {
                    "output_type": "display_data",
                    "data": {
                        "text/html": "(2 rows affected)"
                    },
                    "metadata": {}
                },
                {
                    "output_type": "display_data",
                    "data": {
                        "text/html": "(2 rows affected)"
                    },
                    "metadata": {}
                },
                {
                    "output_type": "display_data",
                    "data": {
                        "text/html": "Total execution time: 00:00:00.015"
                    },
                    "metadata": {}
                },
                {
                    "output_type": "execute_result",
                    "metadata": {},
                    "execution_count": 20,
                    "data": {
                        "application/vnd.dataresource+json": {
                            "schema": {
                                "fields": [
                                    {
                                        "name": "Id"
                                    }
                                ]
                            },
                            "data": [
                                {
                                    "Id": "6"
                                },
                                {
                                    "Id": "10"
                                }
                            ]
                        },
                        "text/html": [
                            "<table>",
                            "<tr><th>Id</th></tr>",
                            "<tr><td>6</td></tr>",
                            "<tr><td>10</td></tr>",
                            "</table>"
                        ]
                    }
                },
                {
                    "output_type": "execute_result",
                    "metadata": {},
                    "execution_count": 20,
                    "data": {
                        "application/vnd.dataresource+json": {
                            "schema": {
                                "fields": [
                                    {
                                        "name": "Id"
                                    }
                                ]
                            },
                            "data": [
                                {
                                    "Id": "6"
                                },
                                {
                                    "Id": "10"
                                }
                            ]
                        },
                        "text/html": [
                            "<table>",
                            "<tr><th>Id</th></tr>",
                            "<tr><td>6</td></tr>",
                            "<tr><td>10</td></tr>",
                            "</table>"
                        ]
                    }
                }
            ],
            "execution_count": 20
        },
        {
            "cell_type": "code",
            "source": [
                "select e.Id\r\n",
                "from Employee e \r\n",
                "    join WorksOn w on e.Id = w.EmployeeId\r\n",
                "where e.Education = 'Bachelors'"
            ],
            "metadata": {
                "azdata_cell_guid": "0046a501-c5d5-4104-ac5c-9abca16b3adc",
                "language": "sql"
            },
            "outputs": [
                {
                    "output_type": "display_data",
                    "data": {
                        "text/html": "(3 rows affected)"
                    },
                    "metadata": {}
                },
                {
                    "output_type": "display_data",
                    "data": {
                        "text/html": "Total execution time: 00:00:00.006"
                    },
                    "metadata": {}
                },
                {
                    "output_type": "execute_result",
                    "metadata": {},
                    "execution_count": 26,
                    "data": {
                        "application/vnd.dataresource+json": {
                            "schema": {
                                "fields": [
                                    {
                                        "name": "Id"
                                    }
                                ]
                            },
                            "data": [
                                {
                                    "Id": "102"
                                },
                                {
                                    "Id": "105"
                                },
                                {
                                    "Id": "108"
                                }
                            ]
                        },
                        "text/html": [
                            "<table>",
                            "<tr><th>Id</th></tr>",
                            "<tr><td>102</td></tr>",
                            "<tr><td>105</td></tr>",
                            "<tr><td>108</td></tr>",
                            "</table>"
                        ]
                    }
                }
            ],
            "execution_count": 26
        },
        {
            "cell_type": "code",
            "source": [
                "select avg(e.Salary) as 'Avg. Masters Income'\r\n",
                "from Employee e\r\n",
                "where e.Education = 'Masters'"
            ],
            "metadata": {
                "azdata_cell_guid": "56802a07-84fe-452e-a810-92460fefb1e7",
                "language": "sql"
            },
            "outputs": [
                {
                    "output_type": "display_data",
                    "data": {
                        "text/html": "(1 row affected)"
                    },
                    "metadata": {}
                },
                {
                    "output_type": "display_data",
                    "data": {
                        "text/html": "Total execution time: 00:00:00.001"
                    },
                    "metadata": {}
                },
                {
                    "output_type": "execute_result",
                    "metadata": {},
                    "execution_count": 32,
                    "data": {
                        "application/vnd.dataresource+json": {
                            "schema": {
                                "fields": [
                                    {
                                        "name": "Avg. Masters Income"
                                    }
                                ]
                            },
                            "data": [
                                {
                                    "Avg. Masters Income": "50250"
                                }
                            ]
                        },
                        "text/html": [
                            "<table>",
                            "<tr><th>Avg. Masters Income</th></tr>",
                            "<tr><td>50250</td></tr>",
                            "</table>"
                        ]
                    }
                }
            ],
            "execution_count": 32
        },
        {
            "cell_type": "code",
            "source": [
                "select count(distinct w.Role) as 'num_roles_for_employee_107'\r\n",
                "from WorksOn w\r\n",
                "where w.EmployeeId = 107"
            ],
            "metadata": {
                "azdata_cell_guid": "9cefb748-b030-4b19-8104-cdaa71018c07",
                "language": "sql"
            },
            "outputs": [
                {
                    "output_type": "display_data",
                    "data": {
                        "text/html": "(1 row affected)"
                    },
                    "metadata": {}
                },
                {
                    "output_type": "display_data",
                    "data": {
                        "text/html": "Total execution time: 00:00:00.005"
                    },
                    "metadata": {}
                },
                {
                    "output_type": "execute_result",
                    "metadata": {},
                    "execution_count": 37,
                    "data": {
                        "application/vnd.dataresource+json": {
                            "schema": {
                                "fields": [
                                    {
                                        "name": "num_roles_for_employee_107"
                                    }
                                ]
                            },
                            "data": [
                                {
                                    "num_roles_for_employee_107": "3"
                                }
                            ]
                        },
                        "text/html": [
                            "<table>",
                            "<tr><th>num_roles_for_employee_107</th></tr>",
                            "<tr><td>3</td></tr>",
                            "</table>"
                        ]
                    }
                }
            ],
            "execution_count": 37
        },
        {
            "cell_type": "code",
            "source": [
                ""
            ],
            "metadata": {
                "azdata_cell_guid": "eb591713-749f-4253-8f40-dc787d757223",
                "language": "sql"
            },
            "outputs": [],
            "execution_count": null
        },
        {
            "cell_type": "code",
            "source": [
                ""
            ],
            "metadata": {
                "azdata_cell_guid": "ba7b1b08-b0ce-4d36-8342-ff7cfea611d8",
                "language": "sql"
            },
            "outputs": [],
            "execution_count": null
        }
    ]
}