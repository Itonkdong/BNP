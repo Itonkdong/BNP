{
    "metadata": {
        "kernelspec": {
            "name": "SQL",
            "display_name": "SQL",
            "language": "sql"
        },
        "language_info": {
            "name": "sql",
            "version": ""
        }
    },
    "nbformat_minor": 2,
    "nbformat": 4,
    "cells": [
        {
            "cell_type": "markdown",
            "source": [
                "AV 1\n",
                "\n",
                "1."
            ],
            "metadata": {
                "language": "sql",
                "azdata_cell_guid": "a8bf1ead-d70e-4cb3-b86f-ec4ccc5d18cd"
            },
            "attachments": {}
        },
        {
            "cell_type": "code",
            "source": [
                "USE bazi_na_podatoci_auditoriski"
            ],
            "metadata": {
                "language": "sql",
                "azdata_cell_guid": "f23e1f68-3da7-4d7c-bb2b-464be9375a90"
            },
            "outputs": [
                {
                    "output_type": "display_data",
                    "data": {
                        "text/html": "Commands completed successfully."
                    },
                    "metadata": {}
                },
                {
                    "output_type": "display_data",
                    "data": {
                        "text/html": "Total execution time: 00:00:00.002"
                    },
                    "metadata": {}
                }
            ],
            "execution_count": 2
        },
        {
            "cell_type": "code",
            "source": [
                "-- CREATE domain positive AS NUMERIC CHECK(positive > 0);\r\n",
                "\r\n",
                "CREATE TABLE SNABDUVACI(\r\n",
                "    s INT ,\r\n",
                "    ime_s varchar(20) NOT NULL UNIQUE,\r\n",
                "    saldo NUMERIC(10),\r\n",
                "    grad VARCHAR(20) DEFAULT 'Skopje',\r\n",
                "    PRIMARY KEY(s),\r\n",
                "    CONSTRAINT saldoCons\r\n",
                "        CHECK(saldo > 0)\r\n",
                ");\r\n",
                "\r\n",
                "CREATE TABLE PROIZVODI(\r\n",
                "    proiz INT,\r\n",
                "    vid VARCHAR(20),\r\n",
                "    ime_p VARCHAR(20) NOT NULL,\r\n",
                "    boja VARCHAR(20),\r\n",
                "    tezhina NUMERIC(10),\r\n",
                "    grad_p VARCHAR(10),\r\n",
                "    PRIMARY KEY(proiz, vid),\r\n",
                "    CONSTRAINT gradCons\r\n",
                "        CHECK(grad_p in ('London', 'Paris', 'Rome'))\r\n",
                ");\r\n",
                "\r\n",
                "CREATE TABLE PONUDI(\r\n",
                "    p INT,\r\n",
                "    s INT,\r\n",
                "    pr INT,\r\n",
                "    v VARCHAR(20),\r\n",
                "    kolicina_nar INT,\r\n",
                "    datum_nar DATE,\r\n",
                "    kolicina_isp INT,\r\n",
                "    datum_isp DATE\r\n",
                "    PRIMARY KEY(p),\r\n",
                "    FOREIGN KEY(s) REFERENCES SNABDUVACI(s)\r\n",
                "        ON DELETE SET NULL\r\n",
                "        ON UPDATE CASCADE,\r\n",
                "    FOREIGN KEY(pr,v) REFERENCES PROIZVODI(proiz, vid)\r\n",
                "        ON DELETE SET NULL\r\n",
                "        ON UPDATE CASCADE,\r\n",
                "    CONSTRAINT kolichinaCons\r\n",
                "        CHECK(kolicina_isp <= kolicina_nar)\r\n",
                ");\r\n",
                "\r\n",
                ""
            ],
            "metadata": {
                "azdata_cell_guid": "e69c6acc-f1ba-4dea-af4e-9249ac6e41ed",
                "language": "sql",
                "tags": []
            },
            "outputs": [
                {
                    "output_type": "display_data",
                    "data": {
                        "text/html": "Commands completed successfully."
                    },
                    "metadata": {}
                },
                {
                    "output_type": "display_data",
                    "data": {
                        "text/html": "Total execution time: 00:00:00.025"
                    },
                    "metadata": {}
                }
            ],
            "execution_count": 3
        }
    ]
}