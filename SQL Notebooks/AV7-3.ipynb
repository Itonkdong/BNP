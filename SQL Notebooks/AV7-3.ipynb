{
    "metadata": {
        "kernelspec": {
            "name": "SQL",
            "display_name": "SQL",
            "language": "sql"
        },
        "language_info": {
            "name": "sql",
            "version": ""
        }
    },
    "nbformat_minor": 2,
    "nbformat": 4,
    "cells": [
        {
            "cell_type": "markdown",
            "source": [
                "# Auditoriska vezhba 7"
            ],
            "metadata": {
                "azdata_cell_guid": "88342391-bd94-4f7f-8a92-9ea2b6b7bbf2"
            },
            "attachments": {}
        },
        {
            "cell_type": "markdown",
            "source": [
                "## Zadacha 3."
            ],
            "metadata": {
                "azdata_cell_guid": "30f8022c-69bb-4f8b-aeff-067a38f1be6e"
            },
            "attachments": {}
        },
        {
            "cell_type": "code",
            "source": [
                "select p.name, p.purchasePrice, p.salePrice *0.8 as 'sale price without ddv'\r\n",
                "from Product p"
            ],
            "metadata": {
                "azdata_cell_guid": "3cb0fa09-f8d1-476e-b604-f4b131be0704",
                "language": "sql"
            },
            "outputs": [
                {
                    "output_type": "display_data",
                    "data": {
                        "text/html": "(9 rows affected)"
                    },
                    "metadata": {}
                },
                {
                    "output_type": "display_data",
                    "data": {
                        "text/html": "Total execution time: 00:00:00.003"
                    },
                    "metadata": {}
                },
                {
                    "output_type": "execute_result",
                    "metadata": {},
                    "execution_count": 4,
                    "data": {
                        "application/vnd.dataresource+json": {
                            "schema": {
                                "fields": [
                                    {
                                        "name": "name"
                                    },
                                    {
                                        "name": "purchasePrice"
                                    },
                                    {
                                        "name": "sale price without ddv"
                                    }
                                ]
                            },
                            "data": [
                                {
                                    "name": "Bread T-400",
                                    "purchasePrice": "20",
                                    "sale price without ddv": "16"
                                },
                                {
                                    "name": "Sunflower oil",
                                    "purchasePrice": "65,01",
                                    "sale price without ddv": "57,6"
                                },
                                {
                                    "name": "Olive oil",
                                    "purchasePrice": "209,35",
                                    "sale price without ddv": "200"
                                },
                                {
                                    "name": "Tomatoes",
                                    "purchasePrice": "56",
                                    "sale price without ddv": "48"
                                },
                                {
                                    "name": "Cholesterol-free oil",
                                    "purchasePrice": "70,5",
                                    "sale price without ddv": "60"
                                },
                                {
                                    "name": "Bakery bread",
                                    "purchasePrice": "25",
                                    "sale price without ddv": "20"
                                },
                                {
                                    "name": "Peppers",
                                    "purchasePrice": "48,89",
                                    "sale price without ddv": "40"
                                },
                                {
                                    "name": "Strawberries",
                                    "purchasePrice": "100,5",
                                    "sale price without ddv": "96"
                                },
                                {
                                    "name": "Flatbread",
                                    "purchasePrice": "23",
                                    "sale price without ddv": "18,400000000000002"
                                }
                            ]
                        },
                        "text/html": [
                            "<table>",
                            "<tr><th>name</th><th>purchasePrice</th><th>sale price without ddv</th></tr>",
                            "<tr><td>Bread T-400</td><td>20</td><td>16</td></tr>",
                            "<tr><td>Sunflower oil</td><td>65,01</td><td>57,6</td></tr>",
                            "<tr><td>Olive oil</td><td>209,35</td><td>200</td></tr>",
                            "<tr><td>Tomatoes</td><td>56</td><td>48</td></tr>",
                            "<tr><td>Cholesterol-free oil</td><td>70,5</td><td>60</td></tr>",
                            "<tr><td>Bakery bread</td><td>25</td><td>20</td></tr>",
                            "<tr><td>Peppers</td><td>48,89</td><td>40</td></tr>",
                            "<tr><td>Strawberries</td><td>100,5</td><td>96</td></tr>",
                            "<tr><td>Flatbread</td><td>23</td><td>18,400000000000002</td></tr>",
                            "</table>"
                        ]
                    }
                }
            ],
            "execution_count": 4
        },
        {
            "cell_type": "code",
            "source": [
                "select p.name, p.purchasePrice, p.salePrice - p.purchasePrice as 'difference'\r\n",
                "from Product p"
            ],
            "metadata": {
                "azdata_cell_guid": "972f902d-8ad0-49b2-bdc0-b39f337fb307",
                "language": "sql"
            },
            "outputs": [
                {
                    "output_type": "display_data",
                    "data": {
                        "text/html": "(9 rows affected)"
                    },
                    "metadata": {}
                },
                {
                    "output_type": "display_data",
                    "data": {
                        "text/html": "Total execution time: 00:00:00.002"
                    },
                    "metadata": {}
                },
                {
                    "output_type": "execute_result",
                    "metadata": {},
                    "execution_count": 5,
                    "data": {
                        "application/vnd.dataresource+json": {
                            "schema": {
                                "fields": [
                                    {
                                        "name": "name"
                                    },
                                    {
                                        "name": "purchasePrice"
                                    },
                                    {
                                        "name": "difference"
                                    }
                                ]
                            },
                            "data": [
                                {
                                    "name": "Bread T-400",
                                    "purchasePrice": "20",
                                    "difference": "0"
                                },
                                {
                                    "name": "Sunflower oil",
                                    "purchasePrice": "65,01",
                                    "difference": "6,989999999999995"
                                },
                                {
                                    "name": "Olive oil",
                                    "purchasePrice": "209,35",
                                    "difference": "40,650000000000006"
                                },
                                {
                                    "name": "Tomatoes",
                                    "purchasePrice": "56",
                                    "difference": "4"
                                },
                                {
                                    "name": "Cholesterol-free oil",
                                    "purchasePrice": "70,5",
                                    "difference": "4,5"
                                },
                                {
                                    "name": "Bakery bread",
                                    "purchasePrice": "25",
                                    "difference": "0"
                                },
                                {
                                    "name": "Peppers",
                                    "purchasePrice": "48,89",
                                    "difference": "1,1099999999999994"
                                },
                                {
                                    "name": "Strawberries",
                                    "purchasePrice": "100,5",
                                    "difference": "19,5"
                                },
                                {
                                    "name": "Flatbread",
                                    "purchasePrice": "23",
                                    "difference": "0"
                                }
                            ]
                        },
                        "text/html": [
                            "<table>",
                            "<tr><th>name</th><th>purchasePrice</th><th>difference</th></tr>",
                            "<tr><td>Bread T-400</td><td>20</td><td>0</td></tr>",
                            "<tr><td>Sunflower oil</td><td>65,01</td><td>6,989999999999995</td></tr>",
                            "<tr><td>Olive oil</td><td>209,35</td><td>40,650000000000006</td></tr>",
                            "<tr><td>Tomatoes</td><td>56</td><td>4</td></tr>",
                            "<tr><td>Cholesterol-free oil</td><td>70,5</td><td>4,5</td></tr>",
                            "<tr><td>Bakery bread</td><td>25</td><td>0</td></tr>",
                            "<tr><td>Peppers</td><td>48,89</td><td>1,1099999999999994</td></tr>",
                            "<tr><td>Strawberries</td><td>100,5</td><td>19,5</td></tr>",
                            "<tr><td>Flatbread</td><td>23</td><td>0</td></tr>",
                            "</table>"
                        ]
                    }
                }
            ],
            "execution_count": 5
        },
        {
            "cell_type": "code",
            "source": [
                "select *\r\n",
                "from Product p\r\n",
                "where p.name like '% oil'"
            ],
            "metadata": {
                "azdata_cell_guid": "d8a22002-ce49-471a-8ad7-4dbcf58ecb87",
                "language": "sql"
            },
            "outputs": [
                {
                    "output_type": "display_data",
                    "data": {
                        "text/html": "(3 rows affected)"
                    },
                    "metadata": {}
                },
                {
                    "output_type": "display_data",
                    "data": {
                        "text/html": "Total execution time: 00:00:00.008"
                    },
                    "metadata": {}
                },
                {
                    "output_type": "execute_result",
                    "metadata": {},
                    "execution_count": 6,
                    "data": {
                        "application/vnd.dataresource+json": {
                            "schema": {
                                "fields": [
                                    {
                                        "name": "product_id"
                                    },
                                    {
                                        "name": "code"
                                    },
                                    {
                                        "name": "name"
                                    },
                                    {
                                        "name": "metric"
                                    },
                                    {
                                        "name": "amount"
                                    },
                                    {
                                        "name": "purchasePrice"
                                    },
                                    {
                                        "name": "salePrice"
                                    }
                                ]
                            },
                            "data": [
                                {
                                    "product_id": "2",
                                    "code": "M3",
                                    "name": "Sunflower oil",
                                    "metric": "lit",
                                    "amount": "89",
                                    "purchasePrice": "65,01",
                                    "salePrice": "72"
                                },
                                {
                                    "product_id": "3",
                                    "code": "M8",
                                    "name": "Olive oil",
                                    "metric": "lit",
                                    "amount": "34",
                                    "purchasePrice": "209,35",
                                    "salePrice": "250"
                                },
                                {
                                    "product_id": "5",
                                    "code": "M16",
                                    "name": "Cholesterol-free oil",
                                    "metric": "lit",
                                    "amount": "99",
                                    "purchasePrice": "70,5",
                                    "salePrice": "75"
                                }
                            ]
                        },
                        "text/html": [
                            "<table>",
                            "<tr><th>product_id</th><th>code</th><th>name</th><th>metric</th><th>amount</th><th>purchasePrice</th><th>salePrice</th></tr>",
                            "<tr><td>2</td><td>M3</td><td>Sunflower oil</td><td>lit</td><td>89</td><td>65,01</td><td>72</td></tr>",
                            "<tr><td>3</td><td>M8</td><td>Olive oil</td><td>lit</td><td>34</td><td>209,35</td><td>250</td></tr>",
                            "<tr><td>5</td><td>M16</td><td>Cholesterol-free oil</td><td>lit</td><td>99</td><td>70,5</td><td>75</td></tr>",
                            "</table>"
                        ]
                    }
                }
            ],
            "execution_count": 6
        },
        {
            "cell_type": "code",
            "source": [
                "select *\r\n",
                "from Product p\r\n",
                "where p.metric in ('lit', 'kg')"
            ],
            "metadata": {
                "azdata_cell_guid": "d6dda7eb-e136-4a34-b1d0-790b9e509d49",
                "language": "sql"
            },
            "outputs": [
                {
                    "output_type": "display_data",
                    "data": {
                        "text/html": "(6 rows affected)"
                    },
                    "metadata": {}
                },
                {
                    "output_type": "display_data",
                    "data": {
                        "text/html": "Total execution time: 00:00:00.015"
                    },
                    "metadata": {}
                },
                {
                    "output_type": "execute_result",
                    "metadata": {},
                    "execution_count": 7,
                    "data": {
                        "application/vnd.dataresource+json": {
                            "schema": {
                                "fields": [
                                    {
                                        "name": "product_id"
                                    },
                                    {
                                        "name": "code"
                                    },
                                    {
                                        "name": "name"
                                    },
                                    {
                                        "name": "metric"
                                    },
                                    {
                                        "name": "amount"
                                    },
                                    {
                                        "name": "purchasePrice"
                                    },
                                    {
                                        "name": "salePrice"
                                    }
                                ]
                            },
                            "data": [
                                {
                                    "product_id": "2",
                                    "code": "M3",
                                    "name": "Sunflower oil",
                                    "metric": "lit",
                                    "amount": "89",
                                    "purchasePrice": "65,01",
                                    "salePrice": "72"
                                },
                                {
                                    "product_id": "3",
                                    "code": "M8",
                                    "name": "Olive oil",
                                    "metric": "lit",
                                    "amount": "34",
                                    "purchasePrice": "209,35",
                                    "salePrice": "250"
                                },
                                {
                                    "product_id": "4",
                                    "code": "K14",
                                    "name": "Tomatoes",
                                    "metric": "kg",
                                    "amount": "345",
                                    "purchasePrice": "56",
                                    "salePrice": "60"
                                },
                                {
                                    "product_id": "5",
                                    "code": "M16",
                                    "name": "Cholesterol-free oil",
                                    "metric": "lit",
                                    "amount": "99",
                                    "purchasePrice": "70,5",
                                    "salePrice": "75"
                                },
                                {
                                    "product_id": "7",
                                    "code": "K22",
                                    "name": "Peppers",
                                    "metric": "kg",
                                    "amount": "870",
                                    "purchasePrice": "48,89",
                                    "salePrice": "50"
                                },
                                {
                                    "product_id": "8",
                                    "code": "K30",
                                    "name": "Strawberries",
                                    "metric": "kg",
                                    "amount": "200",
                                    "purchasePrice": "100,5",
                                    "salePrice": "120"
                                }
                            ]
                        },
                        "text/html": [
                            "<table>",
                            "<tr><th>product_id</th><th>code</th><th>name</th><th>metric</th><th>amount</th><th>purchasePrice</th><th>salePrice</th></tr>",
                            "<tr><td>2</td><td>M3</td><td>Sunflower oil</td><td>lit</td><td>89</td><td>65,01</td><td>72</td></tr>",
                            "<tr><td>3</td><td>M8</td><td>Olive oil</td><td>lit</td><td>34</td><td>209,35</td><td>250</td></tr>",
                            "<tr><td>4</td><td>K14</td><td>Tomatoes</td><td>kg</td><td>345</td><td>56</td><td>60</td></tr>",
                            "<tr><td>5</td><td>M16</td><td>Cholesterol-free oil</td><td>lit</td><td>99</td><td>70,5</td><td>75</td></tr>",
                            "<tr><td>7</td><td>K22</td><td>Peppers</td><td>kg</td><td>870</td><td>48,89</td><td>50</td></tr>",
                            "<tr><td>8</td><td>K30</td><td>Strawberries</td><td>kg</td><td>200</td><td>100,5</td><td>120</td></tr>",
                            "</table>"
                        ]
                    }
                }
            ],
            "execution_count": 7
        },
        {
            "cell_type": "code",
            "source": [
                "select *\r\n",
                "from Product p\r\n",
                "where p.salePrice BETWEEN 50 and 250"
            ],
            "metadata": {
                "azdata_cell_guid": "21cffffd-2030-4be1-80de-27cc8730313e",
                "language": "sql"
            },
            "outputs": [
                {
                    "output_type": "display_data",
                    "data": {
                        "text/html": "(6 rows affected)"
                    },
                    "metadata": {}
                },
                {
                    "output_type": "display_data",
                    "data": {
                        "text/html": "Total execution time: 00:00:00.015"
                    },
                    "metadata": {}
                },
                {
                    "output_type": "execute_result",
                    "metadata": {},
                    "execution_count": 8,
                    "data": {
                        "application/vnd.dataresource+json": {
                            "schema": {
                                "fields": [
                                    {
                                        "name": "product_id"
                                    },
                                    {
                                        "name": "code"
                                    },
                                    {
                                        "name": "name"
                                    },
                                    {
                                        "name": "metric"
                                    },
                                    {
                                        "name": "amount"
                                    },
                                    {
                                        "name": "purchasePrice"
                                    },
                                    {
                                        "name": "salePrice"
                                    }
                                ]
                            },
                            "data": [
                                {
                                    "product_id": "2",
                                    "code": "M3",
                                    "name": "Sunflower oil",
                                    "metric": "lit",
                                    "amount": "89",
                                    "purchasePrice": "65,01",
                                    "salePrice": "72"
                                },
                                {
                                    "product_id": "3",
                                    "code": "M8",
                                    "name": "Olive oil",
                                    "metric": "lit",
                                    "amount": "34",
                                    "purchasePrice": "209,35",
                                    "salePrice": "250"
                                },
                                {
                                    "product_id": "4",
                                    "code": "K14",
                                    "name": "Tomatoes",
                                    "metric": "kg",
                                    "amount": "345",
                                    "purchasePrice": "56",
                                    "salePrice": "60"
                                },
                                {
                                    "product_id": "5",
                                    "code": "M16",
                                    "name": "Cholesterol-free oil",
                                    "metric": "lit",
                                    "amount": "99",
                                    "purchasePrice": "70,5",
                                    "salePrice": "75"
                                },
                                {
                                    "product_id": "7",
                                    "code": "K22",
                                    "name": "Peppers",
                                    "metric": "kg",
                                    "amount": "870",
                                    "purchasePrice": "48,89",
                                    "salePrice": "50"
                                },
                                {
                                    "product_id": "8",
                                    "code": "K30",
                                    "name": "Strawberries",
                                    "metric": "kg",
                                    "amount": "200",
                                    "purchasePrice": "100,5",
                                    "salePrice": "120"
                                }
                            ]
                        },
                        "text/html": [
                            "<table>",
                            "<tr><th>product_id</th><th>code</th><th>name</th><th>metric</th><th>amount</th><th>purchasePrice</th><th>salePrice</th></tr>",
                            "<tr><td>2</td><td>M3</td><td>Sunflower oil</td><td>lit</td><td>89</td><td>65,01</td><td>72</td></tr>",
                            "<tr><td>3</td><td>M8</td><td>Olive oil</td><td>lit</td><td>34</td><td>209,35</td><td>250</td></tr>",
                            "<tr><td>4</td><td>K14</td><td>Tomatoes</td><td>kg</td><td>345</td><td>56</td><td>60</td></tr>",
                            "<tr><td>5</td><td>M16</td><td>Cholesterol-free oil</td><td>lit</td><td>99</td><td>70,5</td><td>75</td></tr>",
                            "<tr><td>7</td><td>K22</td><td>Peppers</td><td>kg</td><td>870</td><td>48,89</td><td>50</td></tr>",
                            "<tr><td>8</td><td>K30</td><td>Strawberries</td><td>kg</td><td>200</td><td>100,5</td><td>120</td></tr>",
                            "</table>"
                        ]
                    }
                }
            ],
            "execution_count": 8
        },
        {
            "cell_type": "code",
            "source": [
                ""
            ],
            "metadata": {
                "azdata_cell_guid": "278dcb26-a4bb-4787-81d5-e03d3d1eaf01",
                "language": "sql"
            },
            "outputs": [],
            "execution_count": null
        },
        {
            "cell_type": "code",
            "source": [
                ""
            ],
            "metadata": {
                "azdata_cell_guid": "0c6b1791-45d2-4143-9ba7-d2660604b7d9",
                "language": "sql"
            },
            "outputs": [],
            "execution_count": null
        }
    ]
}